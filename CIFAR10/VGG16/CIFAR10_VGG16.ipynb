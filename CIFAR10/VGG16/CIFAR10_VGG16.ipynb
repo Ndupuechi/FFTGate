{
 "cells": [
  {
   "cell_type": "code",
   "execution_count": null,
   "id": "6ba4581c-d189-4c62-a5e5-42b370fc92a8",
   "metadata": {},
   "outputs": [
    {
     "name": "stdout",
     "output_type": "stream",
     "text": [
      "✅ Current working directory: C:\\Users\\emeka\\Research\\ModelCUDA\\Big_Data_Journal\\Comparison\\Code\\Paper\\github2\\CIFAR10\\VGG16\n",
      "✅ sys.path updated:\n",
      "   📂 c:\\Users\\emeka\\anaconda3\\envs\\pytorch_env\\python310.zip\n",
      "   📂 c:\\Users\\emeka\\anaconda3\\envs\\pytorch_env\\DLLs\n",
      "   📂 c:\\Users\\emeka\\anaconda3\\envs\\pytorch_env\\lib\n",
      "   📂 c:\\Users\\emeka\\anaconda3\\envs\\pytorch_env\n",
      "   📂 \n",
      "   📂 c:\\Users\\emeka\\anaconda3\\envs\\pytorch_env\\lib\\site-packages\n",
      "   📂 c:\\Users\\emeka\\anaconda3\\envs\\pytorch_env\\lib\\site-packages\\win32\n",
      "   📂 c:\\Users\\emeka\\anaconda3\\envs\\pytorch_env\\lib\\site-packages\\win32\\lib\n",
      "   📂 c:\\Users\\emeka\\anaconda3\\envs\\pytorch_env\\lib\\site-packages\\Pythonwin\n",
      "   📂 C:\\Users\\emeka\\Research\\ModelCUDA\\Big_Data_Journal\\Comparison\\Code\\Paper\\github2\\CIFAR10\\VGG16\n",
      "   📂 C:\\Users\\emeka\\Research\\ModelCUDA\\Big_Data_Journal\\Comparison\\Code\\Paper\\github2\\CIFAR10\\VGG16\\models\n",
      "   📂 C:\\Users\\emeka\\Research\\ModelCUDA\\Big_Data_Journal\\Comparison\\Code\\Paper\\github2\\CIFAR10\\VGG16\\activation\n",
      "✅ FFTGate imported successfully!\n",
      "✅ FFTGate instance created successfully!\n",
      "✅ FFTGate_VGG imported successfully!\n",
      "CIFAR10 Training Script Initialized...\n",
      "Using device: cuda\n",
      "Parsed learning rate: 0.001 (type: <class 'float'>)\n",
      "Formatted learning rate for filenames: 0_001\n",
      "==> Preparing data..\n",
      "Files already downloaded and verified\n",
      "Files already downloaded and verified\n",
      "Length of training dataset: 50000\n",
      "Length of testing dataset: 10000\n",
      "Number of classes in CIFAR-10: 10\n",
      "==> Building model..\n",
      "✅ Found 13 FFTGate layers.\n",
      "✅ Collected 13 trainable activation parameters.\n",
      "   🔹 Layer 0: FFTGate()\n",
      "   🔹 Layer 1: FFTGate()\n",
      "   🔹 Layer 2: FFTGate()\n",
      "   🔹 Layer 3: FFTGate()\n",
      "   🔹 Layer 4: FFTGate()\n",
      "   🔹 Layer 5: FFTGate()\n",
      "   🔹 Layer 6: FFTGate()\n",
      "   🔹 Layer 7: FFTGate()\n",
      "   🔹 Layer 8: FFTGate()\n",
      "   🔹 Layer 9: FFTGate()\n",
      "   🔹 Layer 10: FFTGate()\n",
      "   🔹 Layer 11: FFTGate()\n",
      "   🔹 Layer 12: FFTGate()\n"
     ]
    }
   ],
   "source": [
    "########################################################################################################################\n",
    "####-------| NOTE 1.A. IMPORTS LIBRARIES | XXX -----------------------------------------------------####################\n",
    "########################################################################################################################\n",
    "\n",
    "\n",
    "\"\"\"Train CIFAR10 with PyTorch.\"\"\"\n",
    "\n",
    "# Python 2/3 compatibility\n",
    "# from __future__ import print_function\n",
    "\n",
    "\n",
    "# Standard libraries\n",
    "import sys\n",
    "import os\n",
    "import argparse\n",
    "from tqdm import tqdm\n",
    "import math\n",
    "import random\n",
    "import numpy as np\n",
    "\n",
    "\n",
    "# PyTorch and related modules\n",
    "import torch\n",
    "import torch.nn as nn\n",
    "import torch.optim as optim\n",
    "import torch.nn.functional as F\n",
    "import torch.backends.cudnn as cudnn\n",
    "\n",
    "# torchvision for datasets and transforms\n",
    "import torchvision\n",
    "import torchvision.transforms as transforms\n",
    "import torch_optimizer as torch_opt  # Use 'torch_opt' for torch_optimizer\n",
    "from timm.scheduler import CosineLRScheduler \n",
    "from torch.optim.lr_scheduler import OneCycleLR\n",
    "\n",
    "\n",
    "\n",
    "\n",
    "\n",
    "# ✅ Define currect working directory to ensure on right directory\n",
    "VGG16_PATH = r\"C:\\Users\\emeka\\Research\\ModelCUDA\\Big_Data_Journal\\Comparison\\Code\\Paper\\github2\\CIFAR10\\VGG16\"\n",
    "if os.getcwd() != VGG16_PATH:\n",
    "    os.chdir(VGG16_PATH)\n",
    "print(f\"✅ Current working directory: {os.getcwd()}\")\n",
    "\n",
    "# ✅ Define absolute paths\n",
    "PROJECT_PATH = VGG16_PATH\n",
    "MODELS_PATH = os.path.join(VGG16_PATH, \"models\")\n",
    "ACTIVATION_PATH = os.path.join(VGG16_PATH, \"activation\")\n",
    "# PAU_PATH = os.path.join(VGG16_PATH, \"pau\")\n",
    "\n",
    "# ✅ Ensure necessary paths are in sys.path\n",
    "for path in [PROJECT_PATH, MODELS_PATH, ACTIVATION_PATH]:\n",
    "    if path not in sys.path:\n",
    "        sys.path.append(path)\n",
    "\n",
    "# ✅ Print updated sys.path for debugging\n",
    "print(\"✅ sys.path updated:\")\n",
    "for path in sys.path:\n",
    "    print(\"   📂\", path)\n",
    "\n",
    "# ✅ Import FFTGate  (Check if the module exists)\n",
    "try:\n",
    "    from activation.FFTGate import FFTGate  # type: ignore\n",
    "    print(\"✅ FFTGate imported successfully!\")\n",
    "except ModuleNotFoundError as e:\n",
    "    print(f\"❌ Import failed: {e}\")\n",
    "    print(f\"🔍 Check that 'FFTGate.py' exists inside: {ACTIVATION_PATH}\")\n",
    "\n",
    "# ✅ Test if FFTGate is callable\n",
    "try:\n",
    "    activation_test = FFTGate()\n",
    "    print(\"✅ FFTGate instance created successfully!\")\n",
    "except Exception as e:\n",
    "    print(f\"❌ Error while initializing FFTGate: {e}\")\n",
    "\n",
    "# ✅ Now import FFTGate_VGG (Ensure module exists inside models/)\n",
    "try:\n",
    "    from models.FFTGate_VGG import FFTGate_VGG  # type: ignore\n",
    "    print(\"✅ FFTGate_VGG imported successfully!\")\n",
    "except ModuleNotFoundError as e:\n",
    "    print(f\"❌ FFTGate_VGG import failed: {e}\")\n",
    "    print(f\"🔍 Check that 'FFTGate_VGG.py' exists inside: {MODELS_PATH}\")\n",
    "\n",
    "\n",
    "\n",
    "\n",
    "\n",
    "\n",
    "\n",
    "\n",
    "\n",
    "########################################################################################################################\n",
    "####-------| NOTE 1.B. SEEDING FOR REPRODUCIBILITY | XXX -------------------------------------------####################\n",
    "########################################################################################################################\n",
    "\n",
    "def set_seed_torch(seed):\n",
    "    torch.manual_seed(seed)                         \n",
    "\n",
    "\n",
    "\n",
    "def set_seed_main(seed):\n",
    "    random.seed(seed)                                ## Python's random module\n",
    "    np.random.seed(seed)                             ## NumPy's random module\n",
    "    torch.cuda.manual_seed(seed)                     ## PyTorch's random module for CUDA\n",
    "    torch.cuda.manual_seed_all(seed)                 ## Seed for all CUDA devices\n",
    "    torch.backends.cudnn.deterministic = True        ## Ensure deterministic behavior for CuDNN\n",
    "    torch.backends.cudnn.benchmark = False           ## Disable CuDNN's autotuning for reproducibility\n",
    "\n",
    "\n",
    "\n",
    "# Variable seed for DataLoader shuffling\n",
    "set_seed_torch(1)   \n",
    "\n",
    "# Variable main seed (model, CUDA, etc.)\n",
    "set_seed_main(2)  \n",
    "\n",
    "\n",
    "\n",
    "\n",
    "\n",
    "\n",
    "\n",
    "# (Optional) Import Optimizers - Uncomment as needed\n",
    "# from Opt import opt\n",
    "# from diffGrad import diffGrad\n",
    "# from diffRGrad import diffRGrad, SdiffRGrad, BetaDiffRGrad, Beta12DiffRGrad, BetaDFCDiffRGrad\n",
    "# from RADAM import Radam, BetaRadam\n",
    "# from BetaAdam import BetaAdam, BetaAdam1, BetaAdam2, BetaAdam3, BetaAdam4, BetaAdam5, BetaAdam6, BetaAdam7, BetaAdam4A\n",
    "# from AdamRM import AdamRM, AdamRM1, AdamRM2, AdamRM3, AdamRM4, AdamRM5\n",
    "# from sadam import sadam\n",
    "# from SdiffGrad import SdiffGrad\n",
    "# from SRADAM import SRADAM\n",
    "\n",
    "\n",
    "\n",
    "\n",
    "\n",
    "\n",
    "########################################################################################################################\n",
    "####-------| NOTE 2. DEFINE MODEL Lr | XXX ---------------------------------------------------------####################\n",
    "########################################################################################################################\n",
    "\n",
    "# Main Execution (Placeholder)\n",
    "if __name__ == \"__main__\":\n",
    "    print(\"CIFAR10 Training Script Initialized...\")\n",
    "    # Add your training pipeline here\n",
    "\n",
    "\n",
    "import argparse\n",
    "import os\n",
    "\n",
    "# Argument parser to get user inputs\n",
    "parser = argparse.ArgumentParser(description='PyTorch CIFAR10 Training')\n",
    "parser.add_argument('--lr', default=0.001, type=float, help='learning rate')\n",
    "parser.add_argument('--resume', '-r', action='store_true', help='resume from checkpoint')\n",
    "\n",
    "args, unknown = parser.parse_known_args()  # Avoids Jupyter argument issues\n",
    "device = 'cuda' if torch.cuda.is_available() else 'cpu'\n",
    "\n",
    "# Ensure lr is correctly parsed\n",
    "lr = args.lr  # Get learning rate from argparse\n",
    "lr_str = str(lr).replace('.', '_')  # Convert to string and replace '.' for filenames\n",
    "\n",
    "# Debugging prints\n",
    "print(f\"Using device: {device}\")\n",
    "print(f\"Parsed learning rate: {lr} (type: {type(lr)})\")\n",
    "print(f\"Formatted learning rate for filenames: {lr_str}\")\n",
    "\n",
    "# Initialize training variables\n",
    "best_acc = 0  # Best test accuracy\n",
    "start_epoch = 0  # Start from epoch 0 or last checkpoint epoch\n",
    "\n",
    "\n",
    "\n",
    "\n",
    "\n",
    "\n",
    "\n",
    "########################################################################################################################\n",
    "####-------| NOTE 3. LOAD DATASET | XXX ------------------------------------------------------------####################\n",
    "########################################################################################################################\n",
    "\n",
    "# Data\n",
    "print('==> Preparing data..')\n",
    "transform_train = transforms.Compose([\n",
    "    transforms.RandomCrop(32, padding=4),\n",
    "    transforms.RandomHorizontalFlip(),\n",
    "    transforms.ToTensor(),\n",
    "    transforms.Normalize((0.4914, 0.4822, 0.4465), (0.2023, 0.1994, 0.2010)),\n",
    "])\n",
    "transform_test = transforms.Compose([\n",
    "    transforms.ToTensor(),\n",
    "    transforms.Normalize((0.4914, 0.4822, 0.4465), (0.2023, 0.1994, 0.2010)),\n",
    "])\n",
    "\n",
    "bs = 128 #set batch size\n",
    "trainset = torchvision.datasets.CIFAR10(root='./data', train=True, download=True, transform=transform_train)\n",
    "trainloader = torch.utils.data.DataLoader(trainset, batch_size=bs, shuffle=True, num_workers=0)\n",
    "testset = torchvision.datasets.CIFAR10(root='./data', train=False, download=True, transform=transform_test)\n",
    "testloader = torch.utils.data.DataLoader(testset, batch_size=bs, shuffle=False, num_workers=0)\n",
    "#classes = ('plane', 'car', 'bird', 'cat', 'deer', 'dog', 'frog', 'horse', 'ship', 'truck')\n",
    "\n",
    "\n",
    "# ✅ Length of train and test datasets\n",
    "len_train = len(trainset)\n",
    "len_test = len(testset)\n",
    "print(f\"Length of training dataset: {len_train}\")\n",
    "print(f\"Length of testing dataset: {len_test}\")\n",
    "\n",
    "\n",
    "# ✅ Print number of classes\n",
    "num_classes_Print = len(trainset.classes)\n",
    "print(f\"Number of classes in CIFAR-10: {num_classes_Print}\")\n",
    "\n",
    " \n",
    "\n",
    "\n",
    "\n",
    "########################################################################################################################\n",
    "####-------| NOTE 4. DYNAMIC REGULARIZATION| XXX ---------------------------------------------------####################\n",
    "########################################################################################################################\n",
    "\n",
    "\n",
    "def apply_dynamic_regularization(inputs, feature_activations, epoch,\n",
    "                                  prev_params, layer_index_map, batch_idx):\n",
    "\n",
    "    global activation_layers  # ✅ Reference already-collected layers\n",
    "\n",
    "    # ✅ Print gamma1 stats early in training for monitoring\n",
    "    if batch_idx == 0 and epoch <= 4:\n",
    "        print(f\"\\n🚨 ENTERED apply_dynamic_regularization | Epoch={epoch} | Batch={batch_idx}\", flush=True)\n",
    "\n",
    "        # 🧠 Print gamma1 details\n",
    "        all_layer_info = []\n",
    "        for idx, layer in enumerate(activation_layers):\n",
    "            param = getattr(layer, \"gamma1\")\n",
    "            all_layer_info.append(f\"Layer {idx}: ID={id(param)} | Mean={param.mean().item():.5f}\")\n",
    "        print(\"🧠 GAMMA1 INFO:\", \" | \".join(all_layer_info), flush=True)\n",
    "\n",
    "    # ✅ Initialize gamma1 regularization accumulator\n",
    "    gamma1_reg = 0.0\n",
    "\n",
    "    # ✅ Compute batch std and define regularization strength\n",
    "    batch_std = torch.std(inputs) + 1e-6\n",
    "    regularization_strength = 0.05 if epoch < 40 else (0.01 if epoch < 60 else 0.005)\n",
    "\n",
    "    # ✅ Track layers where noise is injected (informative)\n",
    "    noisy_layers = []\n",
    "    for idx, layer in enumerate(activation_layers):\n",
    "        if idx not in layer_index_map:\n",
    "            continue\n",
    "\n",
    "        prev_layer_params = prev_params[layer_index_map[idx]]\n",
    "        param_name = \"gamma1\"\n",
    "        param = getattr(layer, param_name)\n",
    "        prev_param = prev_layer_params[param_name]\n",
    "\n",
    "        # ✅ Target based on input stats\n",
    "        target = compute_target(param_name, batch_std)\n",
    "\n",
    "        # ✅ Adaptive Target Regularization\n",
    "        gamma1_reg += regularization_strength * (param - target).pow(2).mean() * 1.2\n",
    "\n",
    "        # ✅ Adaptive Cohesion Regularization\n",
    "        cohesion = (param - prev_param).pow(2)  \n",
    "        gamma1_reg += 0.005 * cohesion.mean() \n",
    "\n",
    "        # ✅ Adaptive Noise Regularization\n",
    "        epoch_AddNoise = 50\n",
    "        if epoch > epoch_AddNoise:\n",
    "            param_variation = torch.abs(param - prev_param).mean()\n",
    "            if param_variation < 0.015:\n",
    "                noise = (0.001 + 0.0004 * batch_std.item()) * torch.randn_like(param)\n",
    "                penalty = (param - (prev_param + noise)).pow(2).sum()\n",
    "                gamma1_reg += 0.00015 * penalty\n",
    "                noisy_layers.append(f\"{idx} (Δ={param_variation.item():.5f})\") # Collect index and variation\n",
    "\n",
    "    # ✅ Print noise injection summary\n",
    "    if batch_idx == 0 and epoch <= (epoch_AddNoise + 4) and noisy_layers:\n",
    "        print(f\"🔥 Stable Noise Injected | Epoch {epoch} | Batch {batch_idx} | Layers: \" + \", \".join(noisy_layers), flush=True)\n",
    "    mags = feature_activations.abs().mean(dim=(0, 2, 3))\n",
    "    m = mags / mags.sum()\n",
    "    gamma1_reg += 0.005 * (-(m * torch.log(m + 1e-6)).sum())\n",
    "\n",
    "    return gamma1_reg\n",
    "\n",
    "\n",
    "def compute_target(param_name, batch_std):\n",
    "    if param_name == \"gamma1\":\n",
    "        return 2.0 + 0.2 * batch_std.item()  \n",
    "        \n",
    "    raise ValueError(f\"Unknown param {param_name}\")\n",
    "\n",
    "\n",
    " \n",
    "\n",
    "\n",
    "########################################################################################################################\n",
    "####-------| NOTE 5. INITIALIZE MODEL | XXX --------------------------------------------------------####################\n",
    "########################################################################################################################\n",
    "\n",
    "# Model\n",
    "print('==> Building model..')\n",
    "#net = Elliott_VGG('VGG16'); net1 = 'Elliott_VGG16'\n",
    "#net = GELU_MobileNet(); net1 = 'GELU_MobileNet'\n",
    "#net = GELU_SENet18(); net1 = 'GELU_SENet18'\n",
    "#net = PDELU_ResNet50(); net1 = 'PDELU_ResNet50'\n",
    "# net = Sigmoid_GoogLeNet(); net1 = 'Sigmoid_GoogLeNet'\n",
    "#net = GELU_DenseNet121(); net1 = 'GELU_DenseNet121'\n",
    "# net = ReLU_VGG('VGG16'); net1 = 'ReLU_VGG16'\n",
    "net = FFTGate_VGG('VGG16'); net1 = 'FFTGate_VGG16'\n",
    "\n",
    "\n",
    "net = net.to(device)\n",
    "if device == 'cuda':\n",
    "    net = torch.nn.DataParallel(net)\n",
    "    cudnn.benchmark = True\n",
    "\n",
    "criterion = nn.CrossEntropyLoss()\n",
    "#optimizer = optim.SGD(net.parameters(), lr=args.lr, momentum=0.9); optimizer1 = 'SGDM5'\n",
    "#optimizer = optim.Adagrad(net.parameters()); optimizer1 = 'AdaGrad'\n",
    "#optimizer = optim.Adadelta(net.parameters()); optimizer1 = 'AdaDelta'\n",
    "#optimizer = optim.RMSprop(net.parameters()); optimizer1 = 'RMSprop'\n",
    "optimizer = optim.Adam(net.parameters(), lr=args.lr); optimizer1 = 'Adam'\n",
    "#optimizer = optim.Adam(net.parameters(), lr=args.lr, amsgrad=True); optimizer1 = 'amsgrad'\n",
    "#optimizer = diffGrad(net.parameters(), lr=args.lr); optimizer1 = 'diffGrad'\n",
    "#optimizer = Radam(net.parameters(), lr=args.lr); optimizer1 = 'Radam'\n",
    "\n",
    "\n",
    "\n",
    "\n",
    "\n",
    "\n",
    "\n",
    "########################################################################################################################\n",
    "####-------| NOTE 6. INITIALIZE ACTIVATION PARAMETERS, OPTIMIZERS & SCHEDULERS | XXX ---------------####################\n",
    "########################################################################################################################\n",
    "\n",
    "import torch\n",
    "from torch.optim.lr_scheduler import CosineAnnealingWarmRestarts\n",
    "\n",
    "# ✅ Step 1: Collect Activation Parameters from ALL Layers (Ensure Compatibility with DataParallel)\n",
    "if isinstance(net, torch.nn.DataParallel):\n",
    "    features = net.module.features\n",
    "else:\n",
    "    features = net.features\n",
    "\n",
    "\n",
    "\n",
    "\n",
    "\n",
    "\n",
    "# ✅ Step 2: Recursively search for FFTGate layers\n",
    "activation_params = []\n",
    "activation_layers = []\n",
    "\n",
    "for layer in features:\n",
    "    if isinstance(layer, FFTGate):  #\n",
    "        activation_layers.append(layer)\n",
    "        activation_params.append(layer.gamma1)  # ✅ Only gamma1 is trainable\n",
    "\n",
    "\n",
    "\n",
    "\n",
    "\n",
    "\n",
    "# ✅ Step 3: Define Unfreeze Epoch\n",
    "unfreeze_activation_epoch = 1  # ✅ Change this value if needed\n",
    "# unfreeze_activation_epoch = 10  # ✅ Delay unfreezing until epoch 10\n",
    "\n",
    "\n",
    "# ✅ Define the warm-up epoch value\n",
    "# WARMUP_ACTIVATION_EPOCHS = 5  # The number of epochs for warm-up\n",
    "WARMUP_ACTIVATION_EPOCHS = 0  # The number of epochs for warm-up\n",
    "\n",
    "\n",
    "# ✅ Step 4: Initially Freeze Activation Parameters\n",
    "for param in activation_params:\n",
    "    param.requires_grad = False  # 🚫 Keep frozen before the unfreeze epoch\n",
    "\n",
    "\n",
    "\n",
    "\n",
    "\n",
    "# ✅ Step 4: Initialize Activation Optimizers (Using AdamW for Better Weight Decay)\n",
    "activation_optimizers = {\n",
    "    \"gamma1\": torch.optim.AdamW(activation_params, lr=0.01, weight_decay=1e-6)  # 🔺 Reduce LR from 0.005 → 0.0025\n",
    "}\n",
    "\n",
    "\n",
    "\n",
    "\n",
    "# ✅ Step 5: Initialize Activation Schedulers with Warm Restarts (Per Parameter Type)\n",
    "activation_schedulers = {\n",
    "    \"gamma1\": CosineAnnealingWarmRestarts(\n",
    "        activation_optimizers[\"gamma1\"],\n",
    "        T_0=10,      # Shorter cycle to explore aggressively\n",
    "        T_mult=2,    # Increase cycle length gradually\n",
    "        eta_min=5e-5  # ✅ recommended safer modification\n",
    "    )\n",
    "}\n",
    "\n",
    "\n",
    "\n",
    "\n",
    "\n",
    "# ✅ Step 6: Print collected activation layers and parameters\n",
    "if activation_layers and activation_params:\n",
    "    print(f\"✅ Found {len(activation_layers)} FFTGate layers.\")\n",
    "    print(f\"✅ Collected {len(activation_params)} trainable activation parameters.\")\n",
    "    \n",
    "    for idx, layer in enumerate(activation_layers):\n",
    "        print(f\"   🔹 Layer {idx}: {layer}\")\n",
    "\n",
    "elif activation_layers and not activation_params:\n",
    "    print(f\"⚠ Warning: Found {len(activation_layers)} FFTGate layers, but no trainable parameters were collected.\")\n",
    "\n",
    "elif activation_params and not activation_layers:\n",
    "    print(f\"⚠ Warning: Collected {len(activation_params)} activation parameters, but no FFTGate layers were recorded.\")\n",
    "\n",
    "else:\n",
    "    print(\"⚠ Warning: No FFTGate layers or activation parameters found! Skipping activation optimizer.\")\n",
    "    activation_optimizers = None\n",
    "\n",
    "\n",
    "\n",
    "########################################################################################################################\n",
    "####-------| NOTE 7. INITIALIZE MAIN OPTIMIZER SCHEDULER | XXX --------------------------------------####################\n",
    "########################################################################################################################\n",
    "\n",
    "# ✅ Step 6: Define MultiStepLR for Main Optimizer\n",
    "# scheduler = torch.optim.lr_scheduler.MultiStepLR(optimizer, milestones=[80], gamma=0.1, last_epoch=-1)\n",
    "\n",
    "main_scheduler = torch.optim.lr_scheduler.MultiStepLR(optimizer, milestones=[80], gamma=0.1, last_epoch=-1)\n",
    "\n",
    "\n",
    "\n",
    "\n",
    "\n",
    "\n",
    "########################################################################################################################\n",
    "####-------| NOTE 8. MODEL CHECK POINT | XXX -------------------------------------------------------####################\n",
    "########################################################################################################################\n",
    "\n",
    "import os\n",
    "import torch\n",
    "\n",
    "# Ensure directories exist\n",
    "if not os.path.exists('checkpoint'):\n",
    "    os.makedirs('checkpoint')\n",
    "\n",
    "if not os.path.exists('Results'):\n",
    "    os.makedirs('Results')\n",
    "\n",
    "# Construct checkpoint path\n",
    "checkpoint_path = f'./checkpoint/CIFAR10_B{bs}_LR{lr}_{net1}_{optimizer1}.t7'\n",
    "\n",
    "# Resume checkpoint only if file exists\n",
    "if args.resume:\n",
    "    print('==> Resuming from checkpoint..')\n",
    "    \n",
    "    if os.path.exists(checkpoint_path):\n",
    "        checkpoint = torch.load(checkpoint_path)\n",
    "        net.load_state_dict(checkpoint['net'])\n",
    "        best_acc = checkpoint['acc']\n",
    "        start_epoch = checkpoint['epoch']\n",
    "        print(f\"Checkpoint loaded: {checkpoint_path}\")\n",
    "    else:\n",
    "        print(f\"Error: Checkpoint file not found: {checkpoint_path}\")\n",
    "\n",
    "\n",
    "\n",
    "\n",
    "########################################################################################################################\n",
    "####-------| NOTE 9. DEFINE TRAIN LOOP | XXX -------------------------------------------------------####################\n",
    "########################################################################################################################\n",
    "\n",
    "# Training\n",
    "\n",
    "def train(epoch, optimizer, activation_optimizers, activation_schedulers, unfreeze_activation_epoch, main_scheduler , WARMUP_ACTIVATION_EPOCHS):\n",
    "    global train_loss_history, best_train_acc, prev_params, recent_test_acc, gamma1_history, activation_layers, test_acc_history   # 🟢🟢🟢\n",
    "\n",
    "    if epoch == 0:\n",
    "        train_loss_history = []\n",
    "        best_train_acc = 0.0\n",
    "        recent_test_acc = 0.0\n",
    "        gamma1_history = {}        # ✅ Initialize history\n",
    "        test_acc_history = []      # ✅ NEW: test accuracy history\n",
    "\n",
    "\n",
    "\n",
    "    prev_params = {}\n",
    "    layer_index_map = {idx: idx for idx in range(len(activation_layers))}  \n",
    "\n",
    "    # ✅ Cache previous gamma1 values from activation layers\n",
    "    for idx, layer in enumerate(activation_layers):\n",
    "        prev_params[idx] = {\n",
    "            \"gamma1\": layer.gamma1.clone().detach()\n",
    "        }\n",
    "\n",
    "\n",
    "\n",
    "    net.train()\n",
    "    train_loss = 0\n",
    "    correct = 0\n",
    "    total = 0\n",
    "    train_accuracy = 0.0\n",
    "\n",
    "    # ✅ Initialize log history\n",
    "    log_history = []\n",
    "\n",
    "\n",
    "\n",
    "    # ✅ Define path to store Training log\n",
    "    save_paths = {\n",
    "       \n",
    "        \"log_history\": f\"C:\\\\Users\\\\emeka\\\\Research\\\\ModelCUDA\\\\Big_Data_Journal\\\\Comparison\\\\Code\\\\Paper\\\\github2\\\\CIFAR10\\\\VGG16\\\\Results\\\\FFTGate\\\\FFTGate_training_logs.txt\"  # ✅ Training log_history \n",
    "    }\n",
    "\n",
    "\n",
    "\n",
    "\n",
    "    # ✅ Step 1: Unfreeze Activation Parameters (Only Once Per Epoch)\n",
    "    if epoch == unfreeze_activation_epoch:\n",
    "        print(\"\\n🔓 Unfreezing Activation Function Parameters 🔓\")\n",
    "        for layer in net.module.features if isinstance(net, torch.nn.DataParallel) else net.features:\n",
    "            if isinstance(layer, FFTGate):  \n",
    "                layer.gamma1.requires_grad = True  # ✅ Only gamma1 is trainable\n",
    "        print(\"✅ Activation Parameters Unfrozen! 🚀\")\n",
    "\n",
    "\n",
    "\n",
    "\n",
    "    # ✅ Step 2: Gradual Warm-up for Activation Learning Rates (AFTER Unfreezing)\n",
    "    warmup_start = unfreeze_activation_epoch  # 🔹 Start warm-up when unfreezing happens\n",
    "    warmup_end = unfreeze_activation_epoch + WARMUP_ACTIVATION_EPOCHS  # 🔹 End warm-up period\n",
    "\n",
    "    # ✅ Adjust learning rates **only** during the warm-up phase\n",
    "    if warmup_start <= epoch < warmup_end:\n",
    "        warmup_factor = (epoch - warmup_start + 1) / WARMUP_ACTIVATION_EPOCHS  \n",
    "\n",
    "        for name, act_scheduler in activation_schedulers.items():\n",
    "            for param_group in act_scheduler.optimizer.param_groups:\n",
    "                if \"initial_lr\" not in param_group:\n",
    "                    param_group[\"initial_lr\"] = param_group[\"lr\"]  # 🔹 Store initial LR\n",
    "                param_group[\"lr\"] = param_group[\"initial_lr\"] * warmup_factor  # 🔹 Scale LR\n",
    "\n",
    "        # ✅ Debugging output to track warm-up process\n",
    "        print(f\"🔥 Warm-up Epoch {epoch}: Scaling LR by {warmup_factor:.3f}\")\n",
    "        for name, act_scheduler in activation_schedulers.items():\n",
    "            print(f\"  🔹 {name} LR: {act_scheduler.optimizer.param_groups[0]['lr']:.6f}\")\n",
    "\n",
    "\n",
    "\n",
    "\n",
    "\n",
    "    activation_history = []  # 🔴 Initialize empty history at start of epoch (outside batch loop)\n",
    "\n",
    "\n",
    "\n",
    "    # ✅ Training Loop\n",
    "    with tqdm(enumerate(trainloader), total=len(trainloader), desc=f\"Epoch {epoch}\") as progress:\n",
    "        for batch_idx, (inputs, targets) in progress:\n",
    "            inputs, targets = inputs.to(device), targets.to(device)\n",
    "\n",
    "            optimizer.zero_grad()\n",
    "\n",
    "\n",
    "            # zero_grad activation parameter\n",
    "            for opt in activation_optimizers.values():\n",
    "                opt.zero_grad()\n",
    "\n",
    "\n",
    "            # ✅ Forward Pass\n",
    "            outputs = net(inputs, epoch=epoch, train_accuracy=train_accuracy, targets=targets)\n",
    "            loss = criterion(outputs, targets)\n",
    "\n",
    "\n",
    "            feature_activations = features(inputs)  # Feature activations\n",
    "\n",
    "            # ✅ Collect Activation History | ✅ Per-layer mean activations\n",
    "            batch_means = [layer.saved_output.mean().item() for layer in activation_layers]\n",
    "            activation_history.extend(batch_means)\n",
    "\n",
    "            # ✅ Apply Decay strategy to history for each activation layer\n",
    "            with torch.no_grad():\n",
    "                for layer in activation_layers:\n",
    "                    if isinstance(layer, FFTGate):\n",
    "                        layer.decay_spectral_history(epoch, num_epochs)\n",
    "\n",
    "\n",
    "\n",
    "\n",
    "            # ✅3️⃣ Compute Training Accuracy\n",
    "            _, predicted = outputs.max(1)\n",
    "            total += targets.size(0)\n",
    "            correct += predicted.eq(targets).sum().item()\n",
    "            train_accuracy = 100. * correct / total if total > 0 else 0.0  # Compute training accuracy\n",
    "\n",
    "\n",
    "\n",
    "\n",
    "\n",
    "            # ✅ Call Regularization Function for the Activation Parameter\n",
    "            if epoch > 0:\n",
    "                gamma1_reg = apply_dynamic_regularization(\n",
    "                    inputs, feature_activations, epoch,\n",
    "                    prev_params, layer_index_map, batch_idx\n",
    "                )\n",
    "                loss += gamma1_reg\n",
    "\n",
    "\n",
    "\n",
    "\n",
    "\n",
    "            # ✅ Backward pass\n",
    "            loss.backward()\n",
    "\n",
    "\n",
    "\n",
    "            # ✅ 🎯 Adaptive Gradient Clipping of gamma1  \n",
    "            for layer in features:\n",
    "                if isinstance(layer, FFTGate):  # ✅ Ensure layer has gamma1 before clipping\n",
    "                    torch.nn.utils.clip_grad_norm_([layer.gamma1], max_norm=0.7) \n",
    "                        \n",
    "\n",
    "\n",
    "\n",
    "            # ✅ Apply Optimizer Step for Model Parameters\n",
    "            optimizer.step()\n",
    "\n",
    "            # ✅ Apply Optimizer Steps for Activation Parameters (Only if Unfrozen)\n",
    "            if epoch >= unfreeze_activation_epoch:\n",
    "                for opt in activation_optimizers.values():\n",
    "                    opt.step()\n",
    "\n",
    "\n",
    "\n",
    "            # ✅ Accumulate loss\n",
    "            train_loss += loss.item()\n",
    "\n",
    "\n",
    "\n",
    "\n",
    "            # ✅ Clamping of gamma1 (Applied AFTER Optimizer Step)\n",
    "            with torch.no_grad():\n",
    "                for layer in activation_layers:\n",
    "                    layer.gamma1.clamp_(0.1, 6.0)\n",
    "\n",
    "\n",
    "\n",
    "\n",
    "            # ✅ Update progress bar\n",
    "            progress.set_postfix(Train_loss=round(train_loss / (batch_idx + 1), 3),\n",
    "                                 Train_acc=train_accuracy)  \n",
    "\n",
    "\n",
    "\n",
    "\n",
    "\n",
    "    # ✅ Step the main optimizer scheduler (ONLY for model parameters)\n",
    "    main_scheduler.step()\n",
    "\n",
    "    # ✅ Step the activation parameter schedulers (ONLY for activation parameters) | Epoch-wise stepping\n",
    "    if epoch >= unfreeze_activation_epoch:\n",
    "        for name, act_scheduler in activation_schedulers.items(): \n",
    "            act_scheduler.step()  \n",
    "\n",
    "\n",
    "\n",
    "\n",
    "    # ✅ ONLY update prev_params here AFTER all updates | ✅ Update prev_params AFTER training epoch\n",
    "    for idx, layer in enumerate(activation_layers):  \n",
    "        prev_params[idx] = {\n",
    "            \"gamma1\": layer.gamma1.clone().detach()\n",
    "        }\n",
    "\n",
    "\n",
    "\n",
    "\n",
    "\n",
    "\n",
    "    # ✅ Logging Parameters & Gradients\n",
    "    last_batch_grads = {\"Gamma1 Grad\": []}\n",
    "    current_params = {\"Gamma1\": []}\n",
    "\n",
    "    for layer in features:\n",
    "        if isinstance(layer, FFTGate):  # ✅ Updated to FFTGate\n",
    "            # ✅ Convert gradients to scalar floats and format to 5 decimal places (removes device='cuda:0' and tensor(...))\n",
    "            last_batch_grads[\"Gamma1 Grad\"].append(f\"{layer.gamma1.grad.item():.5f}\" if layer.gamma1.grad is not None else \"None\")\n",
    "\n",
    "            # ✅ Collect current parameter values (already scalar), formatted to 5 decimal places\n",
    "            current_params[\"Gamma1\"].append(f\"{layer.gamma1.item():.5f}\")\n",
    "\n",
    "    # ✅ Build log message (showing params and gradients for ALL layers, cleaned and rounded)\n",
    "    log_msg = (\n",
    "        f\"Epoch {epoch}: M_Optimizer LR => {optimizer.param_groups[0]['lr']:.5f} | \"\n",
    "        f\"Gamma1 LR => {activation_optimizers['gamma1'].param_groups[0]['lr']:.5f} | \"\n",
    "        f\"Gamma1: {current_params['Gamma1']} | \"\n",
    "        f\"Gamma1 Grad: {last_batch_grads['Gamma1 Grad']}\"\n",
    "    )\n",
    "\n",
    "    log_history.append(log_msg)\n",
    "    print(log_msg)  # ✅ Prints only once per epoch\n",
    "\n",
    "\n",
    "\n",
    "\n",
    "\n",
    "\n",
    "\n",
    "\n",
    "\n",
    "\n",
    "    # ✅ Initialize log file at the beginning of training (Clear old logs)\n",
    "    if epoch == 0:  # ✅ Only clear at the start of training\n",
    "        with open(save_paths[\"log_history\"], \"w\", encoding=\"utf-8\") as log_file:\n",
    "            log_file.write(\"\")  # ✅ Clears previous logs\n",
    "\n",
    "    # ✅ Save logs once per epoch (Append new logs)\n",
    "    if log_history:\n",
    "        with open(save_paths[\"log_history\"], \"a\", encoding=\"utf-8\") as log_file:\n",
    "            log_file.write(\"\\n\".join(log_history) + \"\\n\")  # ✅ Ensure each entry is on a new line\n",
    "        print(f\"📜 Logs saved to {save_paths['log_history']}!\")  # ✅ Only prints once per epoch\n",
    "    else:\n",
    "        print(\"⚠ No logs to save!\")\n",
    "\n",
    "\n",
    "\n",
    "\n",
    "    # ✅ Compute final training accuracy for the epoch\n",
    "    final_train_loss = train_loss / len(trainloader)\n",
    "    final_train_acc = 100. * correct / total\n",
    "\n",
    "    # Append to history\n",
    "    train_loss_history.append(final_train_loss)\n",
    "\n",
    "\n",
    "\n",
    "\n",
    "\n",
    "\n",
    "    # ✅ Save training results (without affecting best accuracy tracking)\n",
    "    train_results_path = f'./Results/CIFAR10_Train_B{bs}_LR{lr}_{net1}_{optimizer1}.txt'\n",
    "\n",
    "    # ✅ Clear the log file at the start of training (Epoch 0)\n",
    "    if epoch == 0 and os.path.exists(train_results_path):\n",
    "        with open(train_results_path, 'w') as f:\n",
    "            f.write(\"\")  # ✅ Clears previous logs only once\n",
    "\n",
    "    # ✅ Append new training results for each epoch\n",
    "    with open(train_results_path, 'a') as f:\n",
    "        f.write(f\"Epoch {epoch} | Train Loss: {final_train_loss:.3f} | Train Acc: {final_train_acc:.3f}%\\n\")\n",
    "\n",
    "    if final_train_acc > best_train_acc:\n",
    "        best_train_acc = final_train_acc  # ✅ Update best training accuracy\n",
    "        print(f\"🏆 New Best Training Accuracy: {best_train_acc:.3f}% (Updated)\")\n",
    "\n",
    "    # ✅ Append the best training accuracy **only once at the end of training**\n",
    "    if epoch == (num_epochs - 1):  # Only log once at the final epoch\n",
    "        with open(train_results_path, 'a') as f:\n",
    "            f.write(f\"\\n🏆 Best Training Accuracy: {best_train_acc:.3f}%\\n\")  \n",
    "\n",
    "    # ✅ Print both Final and Best Training Accuracy\n",
    "    print(f\"📊 Train Accuracy: {final_train_acc:.3f}% | 🏆 Best Train Accuracy: {best_train_acc:.3f}%\")\n",
    "\n",
    "\n",
    "\n",
    "\n",
    "    print(f\"📜 Training logs saved to {train_results_path}!\")\n",
    "    print(f\"🏆 Best Training Accuracy: {best_train_acc:.3f}% (Updated)\")\n",
    "\n",
    "\n",
    "\n",
    "    if epoch % 10 == 0:\n",
    "        print(f\"📏 Sizes → ActivationHist: {len(activation_history)} | TestAccHist: {len(test_acc_history)} | TrainLossHist: {len(train_loss_history)}\")\n",
    "\n",
    "\n",
    "    # return final_train_loss, final_train_acc, feature_activations\n",
    "\n",
    "\n",
    "\n",
    "\n",
    "\n",
    "\n",
    "\n",
    "\n",
    "\n",
    "\n",
    "\n",
    "\n",
    "\n",
    "########################################################################################################################\n",
    "####-------| NOTE 10. DEFINE TEST LOOP | XXX -------------------------------------------------------####################\n",
    "########################################################################################################################\n",
    "\n",
    "\n",
    "import os\n",
    "import torch\n",
    "from tqdm import tqdm\n",
    "\n",
    "def test(epoch, save_results=True):\n",
    "    \"\"\"\n",
    "    Evaluates the model on the test set and optionally saves the results.\n",
    "    \n",
    "    Args:\n",
    "    - epoch (int): The current epoch number.\n",
    "    - save_results (bool): Whether to save results to a file.\n",
    "\n",
    "    Returns:\n",
    "    - acc (float): Test accuracy percentage.\n",
    "    \"\"\"\n",
    "    global best_acc, val_accuracy \n",
    "    net.eval()\n",
    "    test_loss = 0\n",
    "    correct = 0\n",
    "    total = 0\n",
    "\n",
    "    # ✅ Ensure activation function parameters are clamped before evaluation\n",
    "    with torch.no_grad():\n",
    "        with tqdm(enumerate(testloader), total=len(testloader), desc=f\"Testing Epoch {epoch}\") as progress:\n",
    "            for batch_idx, (inputs, targets) in progress:\n",
    "                inputs, targets = inputs.to(device), targets.to(device)\n",
    "                outputs = net(inputs)\n",
    "                loss = criterion(outputs, targets)\n",
    "\n",
    "                test_loss += loss.item()\n",
    "                _, predicted = outputs.max(1)\n",
    "                total += targets.size(0)\n",
    "                correct += predicted.eq(targets).sum().item()\n",
    "\n",
    "                # ✅ Pass validation accuracy to activation function\n",
    "                val_accuracy = 100. * correct / total if total > 0 else 0\n",
    "\n",
    "\n",
    "                # ✅ Update progress bar with loss & accuracy\n",
    "                progress.set_postfix(Test_loss=round(test_loss / (batch_idx + 1), 3),\n",
    "                                     Test_acc=round(val_accuracy, 3))\n",
    "\n",
    "\n",
    "\n",
    "    # ✅ Compute final test accuracy\n",
    "    final_test_loss = test_loss / len(testloader)\n",
    "    final_test_acc = 100. * correct / total\n",
    "\n",
    "\n",
    "\n",
    "\n",
    "\n",
    "\n",
    "    # ✅ Ensure \"Results\" folder exists (just like training logs)\n",
    "    results_dir = os.path.join(PROJECT_PATH, \"Results\")\n",
    "    os.makedirs(results_dir, exist_ok=True)\n",
    "\n",
    "    # ✅ Define log file path for test results\n",
    "    test_results_path = os.path.join(results_dir, f'CIFAR10_Test_B{bs}_LR{lr}_{net1}_{optimizer1}.txt')\n",
    "\n",
    "    # ✅ Initialize log file at the beginning of training (clear old logs)\n",
    "    if epoch == 0:\n",
    "        with open(test_results_path, 'w', encoding=\"utf-8\") as f:\n",
    "            f.write(\"\")  # ✅ Clears previous logs\n",
    "\n",
    "    # ✅ Append new test results for each epoch (same style as training)\n",
    "    with open(test_results_path, 'a', encoding=\"utf-8\") as f:\n",
    "        f.write(f\"Epoch {epoch} | Test Loss: {final_test_loss:.3f} | Test Acc: {final_test_acc:.3f}%\\n\")\n",
    "\n",
    "\n",
    "\n",
    "\n",
    "\n",
    "\n",
    "\n",
    "    # ✅ Save checkpoint if accuracy improves (does NOT interfere with logging)\n",
    "    if final_test_acc > best_acc:\n",
    "        print('🏆 Saving best model...')\n",
    "        state = {\n",
    "            'net': net.state_dict(),\n",
    "            'acc': final_test_acc,  # ✅ Ensures the best test accuracy is saved in checkpoint\n",
    "            'epoch': epoch,\n",
    "        }\n",
    "\n",
    "\n",
    "\n",
    "\n",
    "        # Ensure checkpoint directory exists\n",
    "        checkpoint_dir = \"checkpoint\"\n",
    "        if not os.path.exists(checkpoint_dir):\n",
    "            os.makedirs(checkpoint_dir)\n",
    "\n",
    "\n",
    "        # ✅ Format learning rate properly before saving filename\n",
    "        lr_str = str(lr).replace('.', '_')\n",
    "        checkpoint_path = f'./checkpoint/CIFAR10_B{bs}_LR{lr_str}_{net1}_{optimizer1}.t7'\n",
    "        torch.save(state, checkpoint_path)\n",
    "        print(f\"Checkpoint saved: {checkpoint_path}\")\n",
    "\n",
    "\n",
    "        best_acc = final_test_acc  # ✅ Update best accuracy\n",
    "\n",
    "\n",
    "\n",
    "\n",
    "    # ✅ Append the best test accuracy **only once at the end of training**\n",
    "    if epoch == (num_epochs - 1):\n",
    "        with open(test_results_path, 'a', encoding=\"utf-8\") as f:\n",
    "            f.write(f\"\\n🏆 Best Test Accuracy: {best_acc:.3f}%\\n\")\n",
    "\n",
    "\n",
    "\n",
    "    # ✅ Print both Final and Best Test Accuracy (always executed)\n",
    "    print(f\"📊 Test Accuracy: {final_test_acc:.3f}% | 🏆 Best Test Accuracy: {best_acc:.3f}%\")\n",
    "    print(f\"📜 Test logs saved to {test_results_path}!\")\n",
    "\n",
    "\n",
    "    global recent_test_acc\n",
    "    recent_test_acc = final_test_acc  # Capture latest test accuracy for next train() call | Store latest test accuracy\n",
    "\n",
    "    return final_test_acc  # ✅ Return the test accuracy"
   ]
  },
  {
   "cell_type": "code",
   "execution_count": null,
   "id": "217c1147-ff53-4d99-80ec-a7c9ac3b7f42",
   "metadata": {},
   "outputs": [
    {
     "name": "stderr",
     "output_type": "stream",
     "text": [
      "Epoch 0: 100%|██████████| 391/391 [00:19<00:00, 20.48it/s, Train_acc=35.9, Train_loss=1.68]\n"
     ]
    },
    {
     "name": "stdout",
     "output_type": "stream",
     "text": [
      "Epoch 0: M_Optimizer LR => 0.00100 | Gamma1 LR => 0.01000 | Gamma1: ['1.50000', '1.50000', '1.50000', '1.50000', '1.50000', '1.50000', '1.50000', '1.50000', '1.50000', '1.50000', '1.50000', '1.50000', '1.50000'] | Gamma1 Grad: ['None', 'None', 'None', 'None', 'None', 'None', 'None', 'None', 'None', 'None', 'None', 'None', 'None']\n",
      "📜 Logs saved to C:\\Users\\emeka\\Research\\ModelCUDA\\Big_Data_Journal\\Comparison\\Code\\Paper\\github2\\CIFAR10\\VGG16\\Results\\FFTGate\\FFTGate_training_logs.txt!\n",
      "🏆 New Best Training Accuracy: 35.934% (Updated)\n",
      "📊 Train Accuracy: 35.934% | 🏆 Best Train Accuracy: 35.934%\n",
      "📜 Training logs saved to ./Results/CIFAR10_Train_B128_LR0.001_FFTGate_VGG16_Adam.txt!\n",
      "🏆 Best Training Accuracy: 35.934% (Updated)\n",
      "📏 Sizes → ActivationHist: 5083 | TestAccHist: 0 | TrainLossHist: 1\n"
     ]
    },
    {
     "name": "stderr",
     "output_type": "stream",
     "text": [
      "Testing Epoch 0: 100%|██████████| 79/79 [00:01<00:00, 54.03it/s, Test_acc=52.7, Test_loss=1.32]\n"
     ]
    },
    {
     "name": "stdout",
     "output_type": "stream",
     "text": [
      "🏆 Saving best model...\n",
      "Checkpoint saved: ./checkpoint/CIFAR10_B128_LR0_001_FFTGate_VGG16_Adam.t7\n",
      "📊 Test Accuracy: 52.730% | 🏆 Best Test Accuracy: 52.730%\n",
      "📜 Test logs saved to C:\\Users\\emeka\\Research\\ModelCUDA\\Big_Data_Journal\\Comparison\\Code\\Paper\\github2\\CIFAR10\\VGG16\\Results\\CIFAR10_Test_B128_LR0.001_FFTGate_VGG16_Adam.txt!\n",
      "\n",
      "\n",
      "🔓 Unfreezing Activation Function Parameters 🔓\n",
      "✅ Activation Parameters Unfrozen! 🚀\n"
     ]
    },
    {
     "name": "stderr",
     "output_type": "stream",
     "text": [
      "Epoch 1:   0%|          | 0/391 [00:00<?, ?it/s]"
     ]
    },
    {
     "name": "stdout",
     "output_type": "stream",
     "text": [
      "\n",
      "🚨 ENTERED apply_dynamic_regularization | Epoch=1 | Batch=0\n",
      "🧠 GAMMA1 INFO: Layer 0: ID=2167283577888 | Mean=1.50000 | Layer 1: ID=2167283578608 | Mean=1.50000 | Layer 2: ID=2167283579568 | Mean=1.50000 | Layer 3: ID=2167283580528 | Mean=1.50000 | Layer 4: ID=2167283567328 | Mean=1.50000 | Layer 5: ID=2167251356464 | Mean=1.50000 | Layer 6: ID=2167251355504 | Mean=1.50000 | Layer 7: ID=2167251354544 | Mean=1.50000 | Layer 8: ID=2167251358624 | Mean=1.50000 | Layer 9: ID=2167978770816 | Mean=1.50000 | Layer 10: ID=2167978771776 | Mean=1.50000 | Layer 11: ID=2167978772736 | Mean=1.50000 | Layer 12: ID=2167978773696 | Mean=1.50000\n"
     ]
    },
    {
     "name": "stderr",
     "output_type": "stream",
     "text": [
      "Epoch 1: 100%|██████████| 391/391 [00:25<00:00, 15.08it/s, Train_acc=60.1, Train_loss=1.21]\n"
     ]
    },
    {
     "name": "stdout",
     "output_type": "stream",
     "text": [
      "Epoch 1: M_Optimizer LR => 0.00100 | Gamma1 LR => 0.00976 | Gamma1: ['2.23929', '2.24499', '2.23718', '2.22377', '2.22358', '2.22272', '2.21742', '2.21697', '2.21839', '2.21551', '2.21691', '2.21540', '2.21192'] | Gamma1 Grad: ['0.00104', '0.00616', '0.00995', '0.00185', '0.00072', '-0.00042', '-0.00106', '-0.00287', '-0.00052', '-0.00293', '-0.00061', '-0.00274', '-0.00899']\n",
      "📜 Logs saved to C:\\Users\\emeka\\Research\\ModelCUDA\\Big_Data_Journal\\Comparison\\Code\\Paper\\github2\\CIFAR10\\VGG16\\Results\\FFTGate\\FFTGate_training_logs.txt!\n",
      "🏆 New Best Training Accuracy: 60.144% (Updated)\n",
      "📊 Train Accuracy: 60.144% | 🏆 Best Train Accuracy: 60.144%\n",
      "📜 Training logs saved to ./Results/CIFAR10_Train_B128_LR0.001_FFTGate_VGG16_Adam.txt!\n",
      "🏆 Best Training Accuracy: 60.144% (Updated)\n"
     ]
    },
    {
     "name": "stderr",
     "output_type": "stream",
     "text": [
      "Testing Epoch 1: 100%|██████████| 79/79 [00:01<00:00, 55.82it/s, Test_acc=60.2, Test_loss=1.16]\n"
     ]
    },
    {
     "name": "stdout",
     "output_type": "stream",
     "text": [
      "🏆 Saving best model...\n",
      "Checkpoint saved: ./checkpoint/CIFAR10_B128_LR0_001_FFTGate_VGG16_Adam.t7\n",
      "📊 Test Accuracy: 60.250% | 🏆 Best Test Accuracy: 60.250%\n",
      "📜 Test logs saved to C:\\Users\\emeka\\Research\\ModelCUDA\\Big_Data_Journal\\Comparison\\Code\\Paper\\github2\\CIFAR10\\VGG16\\Results\\CIFAR10_Test_B128_LR0.001_FFTGate_VGG16_Adam.txt!\n",
      "\n"
     ]
    },
    {
     "name": "stderr",
     "output_type": "stream",
     "text": [
      "Epoch 2:   0%|          | 0/391 [00:00<?, ?it/s]"
     ]
    },
    {
     "name": "stdout",
     "output_type": "stream",
     "text": [
      "\n",
      "🚨 ENTERED apply_dynamic_regularization | Epoch=2 | Batch=0\n",
      "🧠 GAMMA1 INFO: Layer 0: ID=2167283577888 | Mean=2.23929 | Layer 1: ID=2167283578608 | Mean=2.24499 | Layer 2: ID=2167283579568 | Mean=2.23718 | Layer 3: ID=2167283580528 | Mean=2.22377 | Layer 4: ID=2167283567328 | Mean=2.22358 | Layer 5: ID=2167251356464 | Mean=2.22272 | Layer 6: ID=2167251355504 | Mean=2.21742 | Layer 7: ID=2167251354544 | Mean=2.21697 | Layer 8: ID=2167251358624 | Mean=2.21839 | Layer 9: ID=2167978770816 | Mean=2.21551 | Layer 10: ID=2167978771776 | Mean=2.21691 | Layer 11: ID=2167978772736 | Mean=2.21540 | Layer 12: ID=2167978773696 | Mean=2.21192\n"
     ]
    },
    {
     "name": "stderr",
     "output_type": "stream",
     "text": [
      "Epoch 2: 100%|██████████| 391/391 [00:25<00:00, 15.28it/s, Train_acc=69.5, Train_loss=0.903]\n"
     ]
    },
    {
     "name": "stdout",
     "output_type": "stream",
     "text": [
      "Epoch 2: M_Optimizer LR => 0.00100 | Gamma1 LR => 0.00905 | Gamma1: ['2.28412', '2.30163', '2.29018', '2.28077', '2.28458', '2.27740', '2.27620', '2.27581', '2.27600', '2.27829', '2.27139', '2.27247', '2.27573'] | Gamma1 Grad: ['-0.00144', '-0.00050', '-0.00648', '-0.00230', '0.00079', '-0.00303', '-0.00483', '-0.00327', '-0.00347', '-0.00312', '-0.00382', '-0.00753', '0.00212']\n",
      "📜 Logs saved to C:\\Users\\emeka\\Research\\ModelCUDA\\Big_Data_Journal\\Comparison\\Code\\Paper\\github2\\CIFAR10\\VGG16\\Results\\FFTGate\\FFTGate_training_logs.txt!\n",
      "🏆 New Best Training Accuracy: 69.490% (Updated)\n",
      "📊 Train Accuracy: 69.490% | 🏆 Best Train Accuracy: 69.490%\n",
      "📜 Training logs saved to ./Results/CIFAR10_Train_B128_LR0.001_FFTGate_VGG16_Adam.txt!\n",
      "🏆 Best Training Accuracy: 69.490% (Updated)\n"
     ]
    },
    {
     "name": "stderr",
     "output_type": "stream",
     "text": [
      "Testing Epoch 2: 100%|██████████| 79/79 [00:01<00:00, 55.83it/s, Test_acc=68.1, Test_loss=0.923]\n"
     ]
    },
    {
     "name": "stdout",
     "output_type": "stream",
     "text": [
      "🏆 Saving best model...\n",
      "Checkpoint saved: ./checkpoint/CIFAR10_B128_LR0_001_FFTGate_VGG16_Adam.t7\n",
      "📊 Test Accuracy: 68.070% | 🏆 Best Test Accuracy: 68.070%\n",
      "📜 Test logs saved to C:\\Users\\emeka\\Research\\ModelCUDA\\Big_Data_Journal\\Comparison\\Code\\Paper\\github2\\CIFAR10\\VGG16\\Results\\CIFAR10_Test_B128_LR0.001_FFTGate_VGG16_Adam.txt!\n",
      "\n"
     ]
    },
    {
     "name": "stderr",
     "output_type": "stream",
     "text": [
      "Epoch 3:   0%|          | 0/391 [00:00<?, ?it/s]"
     ]
    },
    {
     "name": "stdout",
     "output_type": "stream",
     "text": [
      "\n",
      "🚨 ENTERED apply_dynamic_regularization | Epoch=3 | Batch=0\n",
      "🧠 GAMMA1 INFO: Layer 0: ID=2167283577888 | Mean=2.28412 | Layer 1: ID=2167283578608 | Mean=2.30163 | Layer 2: ID=2167283579568 | Mean=2.29018 | Layer 3: ID=2167283580528 | Mean=2.28077 | Layer 4: ID=2167283567328 | Mean=2.28458 | Layer 5: ID=2167251356464 | Mean=2.27740 | Layer 6: ID=2167251355504 | Mean=2.27620 | Layer 7: ID=2167251354544 | Mean=2.27581 | Layer 8: ID=2167251358624 | Mean=2.27600 | Layer 9: ID=2167978770816 | Mean=2.27829 | Layer 10: ID=2167978771776 | Mean=2.27139 | Layer 11: ID=2167978772736 | Mean=2.27247 | Layer 12: ID=2167978773696 | Mean=2.27573\n"
     ]
    },
    {
     "name": "stderr",
     "output_type": "stream",
     "text": [
      "Epoch 3: 100%|██████████| 391/391 [00:25<00:00, 15.47it/s, Train_acc=74.6, Train_loss=0.767]\n"
     ]
    },
    {
     "name": "stdout",
     "output_type": "stream",
     "text": [
      "Epoch 3: M_Optimizer LR => 0.00100 | Gamma1 LR => 0.00795 | Gamma1: ['2.28339', '2.28740', '2.29057', '2.27466', '2.28516', '2.27751', '2.27494', '2.27825', '2.27501', '2.27121', '2.27623', '2.26493', '2.26345'] | Gamma1 Grad: ['-0.00343', '-0.00691', '0.00523', '0.00296', '0.00168', '0.00093', '-0.00014', '0.00192', '-0.00292', '-0.00038', '-0.00450', '-0.00033', '0.00285']\n",
      "📜 Logs saved to C:\\Users\\emeka\\Research\\ModelCUDA\\Big_Data_Journal\\Comparison\\Code\\Paper\\github2\\CIFAR10\\VGG16\\Results\\FFTGate\\FFTGate_training_logs.txt!\n",
      "🏆 New Best Training Accuracy: 74.648% (Updated)\n",
      "📊 Train Accuracy: 74.648% | 🏆 Best Train Accuracy: 74.648%\n",
      "📜 Training logs saved to ./Results/CIFAR10_Train_B128_LR0.001_FFTGate_VGG16_Adam.txt!\n",
      "🏆 Best Training Accuracy: 74.648% (Updated)\n"
     ]
    },
    {
     "name": "stderr",
     "output_type": "stream",
     "text": [
      "Testing Epoch 3: 100%|██████████| 79/79 [00:01<00:00, 56.49it/s, Test_acc=77.9, Test_loss=0.657]\n"
     ]
    },
    {
     "name": "stdout",
     "output_type": "stream",
     "text": [
      "🏆 Saving best model...\n",
      "Checkpoint saved: ./checkpoint/CIFAR10_B128_LR0_001_FFTGate_VGG16_Adam.t7\n",
      "📊 Test Accuracy: 77.930% | 🏆 Best Test Accuracy: 77.930%\n",
      "📜 Test logs saved to C:\\Users\\emeka\\Research\\ModelCUDA\\Big_Data_Journal\\Comparison\\Code\\Paper\\github2\\CIFAR10\\VGG16\\Results\\CIFAR10_Test_B128_LR0.001_FFTGate_VGG16_Adam.txt!\n",
      "\n"
     ]
    },
    {
     "name": "stderr",
     "output_type": "stream",
     "text": [
      "Epoch 4:   0%|          | 0/391 [00:00<?, ?it/s]"
     ]
    },
    {
     "name": "stdout",
     "output_type": "stream",
     "text": [
      "\n",
      "🚨 ENTERED apply_dynamic_regularization | Epoch=4 | Batch=0\n",
      "🧠 GAMMA1 INFO: Layer 0: ID=2167283577888 | Mean=2.28339 | Layer 1: ID=2167283578608 | Mean=2.28740 | Layer 2: ID=2167283579568 | Mean=2.29057 | Layer 3: ID=2167283580528 | Mean=2.27466 | Layer 4: ID=2167283567328 | Mean=2.28516 | Layer 5: ID=2167251356464 | Mean=2.27751 | Layer 6: ID=2167251355504 | Mean=2.27494 | Layer 7: ID=2167251354544 | Mean=2.27825 | Layer 8: ID=2167251358624 | Mean=2.27501 | Layer 9: ID=2167978770816 | Mean=2.27121 | Layer 10: ID=2167978771776 | Mean=2.27623 | Layer 11: ID=2167978772736 | Mean=2.26493 | Layer 12: ID=2167978773696 | Mean=2.26345\n"
     ]
    },
    {
     "name": "stderr",
     "output_type": "stream",
     "text": [
      "Epoch 4: 100%|██████████| 391/391 [00:25<00:00, 15.38it/s, Train_acc=78.2, Train_loss=0.674]\n"
     ]
    },
    {
     "name": "stdout",
     "output_type": "stream",
     "text": [
      "Epoch 4: M_Optimizer LR => 0.00100 | Gamma1 LR => 0.00656 | Gamma1: ['2.28471', '2.29016', '2.27998', '2.27208', '2.28532', '2.28494', '2.28152', '2.28050', '2.27952', '2.28014', '2.28328', '2.27162', '2.27345'] | Gamma1 Grad: ['0.00756', '-0.00230', '0.00973', '-0.00226', '0.00248', '0.00353', '0.00190', '0.00171', '0.00153', '0.00113', '0.00556', '0.00240', '0.00523']\n",
      "📜 Logs saved to C:\\Users\\emeka\\Research\\ModelCUDA\\Big_Data_Journal\\Comparison\\Code\\Paper\\github2\\CIFAR10\\VGG16\\Results\\FFTGate\\FFTGate_training_logs.txt!\n",
      "🏆 New Best Training Accuracy: 78.164% (Updated)\n",
      "📊 Train Accuracy: 78.164% | 🏆 Best Train Accuracy: 78.164%\n",
      "📜 Training logs saved to ./Results/CIFAR10_Train_B128_LR0.001_FFTGate_VGG16_Adam.txt!\n",
      "🏆 Best Training Accuracy: 78.164% (Updated)\n"
     ]
    },
    {
     "name": "stderr",
     "output_type": "stream",
     "text": [
      "Testing Epoch 4: 100%|██████████| 79/79 [00:01<00:00, 55.50it/s, Test_acc=78.6, Test_loss=0.634]\n"
     ]
    },
    {
     "name": "stdout",
     "output_type": "stream",
     "text": [
      "🏆 Saving best model...\n",
      "Checkpoint saved: ./checkpoint/CIFAR10_B128_LR0_001_FFTGate_VGG16_Adam.t7\n",
      "📊 Test Accuracy: 78.600% | 🏆 Best Test Accuracy: 78.600%\n",
      "📜 Test logs saved to C:\\Users\\emeka\\Research\\ModelCUDA\\Big_Data_Journal\\Comparison\\Code\\Paper\\github2\\CIFAR10\\VGG16\\Results\\CIFAR10_Test_B128_LR0.001_FFTGate_VGG16_Adam.txt!\n",
      "\n"
     ]
    },
    {
     "name": "stderr",
     "output_type": "stream",
     "text": [
      "Epoch 5: 100%|██████████| 391/391 [00:25<00:00, 15.10it/s, Train_acc=80.6, Train_loss=0.61] \n"
     ]
    },
    {
     "name": "stdout",
     "output_type": "stream",
     "text": [
      "Epoch 5: M_Optimizer LR => 0.00100 | Gamma1 LR => 0.00502 | Gamma1: ['2.30000', '2.30059', '2.30005', '2.27606', '2.28274', '2.28153', '2.27943', '2.28083', '2.27522', '2.27576', '2.26973', '2.27940', '2.28085'] | Gamma1 Grad: ['0.00405', '0.00170', '0.00332', '0.00560', '-0.00217', '0.00132', '0.00147', '0.00228', '0.00279', '-0.00014', '0.00272', '0.00605', '0.00131']\n",
      "📜 Logs saved to C:\\Users\\emeka\\Research\\ModelCUDA\\Big_Data_Journal\\Comparison\\Code\\Paper\\github2\\CIFAR10\\VGG16\\Results\\FFTGate\\FFTGate_training_logs.txt!\n",
      "🏆 New Best Training Accuracy: 80.564% (Updated)\n",
      "📊 Train Accuracy: 80.564% | 🏆 Best Train Accuracy: 80.564%\n",
      "📜 Training logs saved to ./Results/CIFAR10_Train_B128_LR0.001_FFTGate_VGG16_Adam.txt!\n",
      "🏆 Best Training Accuracy: 80.564% (Updated)\n"
     ]
    },
    {
     "name": "stderr",
     "output_type": "stream",
     "text": [
      "Testing Epoch 5: 100%|██████████| 79/79 [00:01<00:00, 54.49it/s, Test_acc=81.4, Test_loss=0.55] \n"
     ]
    },
    {
     "name": "stdout",
     "output_type": "stream",
     "text": [
      "🏆 Saving best model...\n",
      "Checkpoint saved: ./checkpoint/CIFAR10_B128_LR0_001_FFTGate_VGG16_Adam.t7\n",
      "📊 Test Accuracy: 81.410% | 🏆 Best Test Accuracy: 81.410%\n",
      "📜 Test logs saved to C:\\Users\\emeka\\Research\\ModelCUDA\\Big_Data_Journal\\Comparison\\Code\\Paper\\github2\\CIFAR10\\VGG16\\Results\\CIFAR10_Test_B128_LR0.001_FFTGate_VGG16_Adam.txt!\n",
      "\n"
     ]
    },
    {
     "name": "stderr",
     "output_type": "stream",
     "text": [
      "Epoch 6: 100%|██████████| 391/391 [00:25<00:00, 15.42it/s, Train_acc=82.5, Train_loss=0.549]\n"
     ]
    },
    {
     "name": "stdout",
     "output_type": "stream",
     "text": [
      "Epoch 6: M_Optimizer LR => 0.00100 | Gamma1 LR => 0.00349 | Gamma1: ['2.28999', '2.28538', '2.29299', '2.26775', '2.28476', '2.28907', '2.27970', '2.28545', '2.29000', '2.28449', '2.28505', '2.28111', '2.28207'] | Gamma1 Grad: ['0.00170', '0.00490', '0.00726', '-0.00141', '-0.00430', '-0.00129', '0.00314', '0.00048', '0.00686', '0.00737', '0.00842', '0.00463', '0.00888']\n",
      "📜 Logs saved to C:\\Users\\emeka\\Research\\ModelCUDA\\Big_Data_Journal\\Comparison\\Code\\Paper\\github2\\CIFAR10\\VGG16\\Results\\FFTGate\\FFTGate_training_logs.txt!\n",
      "🏆 New Best Training Accuracy: 82.526% (Updated)\n",
      "📊 Train Accuracy: 82.526% | 🏆 Best Train Accuracy: 82.526%\n",
      "📜 Training logs saved to ./Results/CIFAR10_Train_B128_LR0.001_FFTGate_VGG16_Adam.txt!\n",
      "🏆 Best Training Accuracy: 82.526% (Updated)\n"
     ]
    },
    {
     "name": "stderr",
     "output_type": "stream",
     "text": [
      "Testing Epoch 6: 100%|██████████| 79/79 [00:01<00:00, 55.37it/s, Test_acc=82.7, Test_loss=0.523]\n"
     ]
    },
    {
     "name": "stdout",
     "output_type": "stream",
     "text": [
      "🏆 Saving best model...\n",
      "Checkpoint saved: ./checkpoint/CIFAR10_B128_LR0_001_FFTGate_VGG16_Adam.t7\n",
      "📊 Test Accuracy: 82.650% | 🏆 Best Test Accuracy: 82.650%\n",
      "📜 Test logs saved to C:\\Users\\emeka\\Research\\ModelCUDA\\Big_Data_Journal\\Comparison\\Code\\Paper\\github2\\CIFAR10\\VGG16\\Results\\CIFAR10_Test_B128_LR0.001_FFTGate_VGG16_Adam.txt!\n",
      "\n"
     ]
    },
    {
     "name": "stderr",
     "output_type": "stream",
     "text": [
      "Epoch 7: 100%|██████████| 391/391 [00:26<00:00, 14.96it/s, Train_acc=84, Train_loss=0.501]  \n"
     ]
    },
    {
     "name": "stdout",
     "output_type": "stream",
     "text": [
      "Epoch 7: M_Optimizer LR => 0.00100 | Gamma1 LR => 0.00210 | Gamma1: ['2.29661', '2.29196', '2.29221', '2.27847', '2.28183', '2.28100', '2.28341', '2.28909', '2.29170', '2.29160', '2.29362', '2.28245', '2.28442'] | Gamma1 Grad: ['0.00300', '0.00182', '-0.00552', '0.00160', '0.00040', '0.00020', '0.00489', '0.00172', '0.00255', '0.00605', '0.00379', '0.00217', '-0.00257']\n",
      "📜 Logs saved to C:\\Users\\emeka\\Research\\ModelCUDA\\Big_Data_Journal\\Comparison\\Code\\Paper\\github2\\CIFAR10\\VGG16\\Results\\FFTGate\\FFTGate_training_logs.txt!\n",
      "🏆 New Best Training Accuracy: 84.016% (Updated)\n",
      "📊 Train Accuracy: 84.016% | 🏆 Best Train Accuracy: 84.016%\n",
      "📜 Training logs saved to ./Results/CIFAR10_Train_B128_LR0.001_FFTGate_VGG16_Adam.txt!\n",
      "🏆 Best Training Accuracy: 84.016% (Updated)\n"
     ]
    },
    {
     "name": "stderr",
     "output_type": "stream",
     "text": [
      "Testing Epoch 7: 100%|██████████| 79/79 [00:01<00:00, 55.54it/s, Test_acc=84.2, Test_loss=0.47] \n"
     ]
    },
    {
     "name": "stdout",
     "output_type": "stream",
     "text": [
      "🏆 Saving best model...\n",
      "Checkpoint saved: ./checkpoint/CIFAR10_B128_LR0_001_FFTGate_VGG16_Adam.t7\n",
      "📊 Test Accuracy: 84.210% | 🏆 Best Test Accuracy: 84.210%\n",
      "📜 Test logs saved to C:\\Users\\emeka\\Research\\ModelCUDA\\Big_Data_Journal\\Comparison\\Code\\Paper\\github2\\CIFAR10\\VGG16\\Results\\CIFAR10_Test_B128_LR0.001_FFTGate_VGG16_Adam.txt!\n",
      "\n"
     ]
    },
    {
     "name": "stderr",
     "output_type": "stream",
     "text": [
      "Epoch 8: 100%|██████████| 391/391 [00:25<00:00, 15.48it/s, Train_acc=85.4, Train_loss=0.467]\n"
     ]
    },
    {
     "name": "stdout",
     "output_type": "stream",
     "text": [
      "Epoch 8: M_Optimizer LR => 0.00100 | Gamma1 LR => 0.00100 | Gamma1: ['2.29796', '2.28723', '2.28225', '2.28066', '2.28457', '2.28626', '2.27569', '2.28159', '2.27763', '2.27513', '2.27722', '2.27504', '2.27042'] | Gamma1 Grad: ['0.00149', '0.00182', '-0.00134', '0.00016', '0.00039', '0.00091', '0.00075', '-0.00187', '-0.00236', '-0.00355', '-0.00400', '0.00219', '-0.00097']\n",
      "📜 Logs saved to C:\\Users\\emeka\\Research\\ModelCUDA\\Big_Data_Journal\\Comparison\\Code\\Paper\\github2\\CIFAR10\\VGG16\\Results\\FFTGate\\FFTGate_training_logs.txt!\n",
      "🏆 New Best Training Accuracy: 85.352% (Updated)\n",
      "📊 Train Accuracy: 85.352% | 🏆 Best Train Accuracy: 85.352%\n",
      "📜 Training logs saved to ./Results/CIFAR10_Train_B128_LR0.001_FFTGate_VGG16_Adam.txt!\n",
      "🏆 Best Training Accuracy: 85.352% (Updated)\n"
     ]
    },
    {
     "name": "stderr",
     "output_type": "stream",
     "text": [
      "Testing Epoch 8: 100%|██████████| 79/79 [00:01<00:00, 56.82it/s, Test_acc=84.2, Test_loss=0.469]\n"
     ]
    },
    {
     "name": "stdout",
     "output_type": "stream",
     "text": [
      "📊 Test Accuracy: 84.180% | 🏆 Best Test Accuracy: 84.210%\n",
      "📜 Test logs saved to C:\\Users\\emeka\\Research\\ModelCUDA\\Big_Data_Journal\\Comparison\\Code\\Paper\\github2\\CIFAR10\\VGG16\\Results\\CIFAR10_Test_B128_LR0.001_FFTGate_VGG16_Adam.txt!\n",
      "\n"
     ]
    },
    {
     "name": "stderr",
     "output_type": "stream",
     "text": [
      "Epoch 9: 100%|██████████| 391/391 [00:25<00:00, 15.15it/s, Train_acc=86.5, Train_loss=0.431]\n"
     ]
    },
    {
     "name": "stdout",
     "output_type": "stream",
     "text": [
      "Epoch 9: M_Optimizer LR => 0.00100 | Gamma1 LR => 0.00029 | Gamma1: ['2.29892', '2.29850', '2.29736', '2.28052', '2.28679', '2.28824', '2.28078', '2.28509', '2.28391', '2.28190', '2.28176', '2.27702', '2.27809'] | Gamma1 Grad: ['-0.00146', '0.00259', '0.00323', '0.00430', '0.00249', '0.00290', '0.00232', '0.00223', '0.00220', '0.00384', '-0.00004', '-0.00690', '0.00402']\n",
      "📜 Logs saved to C:\\Users\\emeka\\Research\\ModelCUDA\\Big_Data_Journal\\Comparison\\Code\\Paper\\github2\\CIFAR10\\VGG16\\Results\\FFTGate\\FFTGate_training_logs.txt!\n",
      "🏆 New Best Training Accuracy: 86.478% (Updated)\n",
      "📊 Train Accuracy: 86.478% | 🏆 Best Train Accuracy: 86.478%\n",
      "📜 Training logs saved to ./Results/CIFAR10_Train_B128_LR0.001_FFTGate_VGG16_Adam.txt!\n",
      "🏆 Best Training Accuracy: 86.478% (Updated)\n"
     ]
    },
    {
     "name": "stderr",
     "output_type": "stream",
     "text": [
      "Testing Epoch 9: 100%|██████████| 79/79 [00:01<00:00, 56.34it/s, Test_acc=85, Test_loss=0.447]  \n"
     ]
    },
    {
     "name": "stdout",
     "output_type": "stream",
     "text": [
      "🏆 Saving best model...\n",
      "Checkpoint saved: ./checkpoint/CIFAR10_B128_LR0_001_FFTGate_VGG16_Adam.t7\n",
      "📊 Test Accuracy: 85.030% | 🏆 Best Test Accuracy: 85.030%\n",
      "📜 Test logs saved to C:\\Users\\emeka\\Research\\ModelCUDA\\Big_Data_Journal\\Comparison\\Code\\Paper\\github2\\CIFAR10\\VGG16\\Results\\CIFAR10_Test_B128_LR0.001_FFTGate_VGG16_Adam.txt!\n",
      "\n"
     ]
    },
    {
     "name": "stderr",
     "output_type": "stream",
     "text": [
      "Epoch 10: 100%|██████████| 391/391 [00:26<00:00, 14.75it/s, Train_acc=87.6, Train_loss=0.404]\n"
     ]
    },
    {
     "name": "stdout",
     "output_type": "stream",
     "text": [
      "Epoch 10: M_Optimizer LR => 0.00100 | Gamma1 LR => 0.01000 | Gamma1: ['2.29837', '2.29581', '2.29413', '2.28124', '2.29052', '2.28624', '2.28000', '2.28531', '2.28313', '2.28335', '2.27830', '2.27671', '2.28085'] | Gamma1 Grad: ['-0.00002', '-0.00201', '0.00043', '-0.00166', '-0.00273', '-0.00073', '-0.00007', '-0.00210', '0.00114', '0.00029', '0.00328', '-0.00218', '0.00305']\n",
      "📜 Logs saved to C:\\Users\\emeka\\Research\\ModelCUDA\\Big_Data_Journal\\Comparison\\Code\\Paper\\github2\\CIFAR10\\VGG16\\Results\\FFTGate\\FFTGate_training_logs.txt!\n",
      "🏆 New Best Training Accuracy: 87.618% (Updated)\n",
      "📊 Train Accuracy: 87.618% | 🏆 Best Train Accuracy: 87.618%\n",
      "📜 Training logs saved to ./Results/CIFAR10_Train_B128_LR0.001_FFTGate_VGG16_Adam.txt!\n",
      "🏆 Best Training Accuracy: 87.618% (Updated)\n",
      "📏 Sizes → ActivationHist: 5083 | TestAccHist: 0 | TrainLossHist: 11\n"
     ]
    },
    {
     "name": "stderr",
     "output_type": "stream",
     "text": [
      "Testing Epoch 10: 100%|██████████| 79/79 [00:01<00:00, 54.81it/s, Test_acc=84.7, Test_loss=0.459]\n"
     ]
    },
    {
     "name": "stdout",
     "output_type": "stream",
     "text": [
      "📊 Test Accuracy: 84.650% | 🏆 Best Test Accuracy: 85.030%\n",
      "📜 Test logs saved to C:\\Users\\emeka\\Research\\ModelCUDA\\Big_Data_Journal\\Comparison\\Code\\Paper\\github2\\CIFAR10\\VGG16\\Results\\CIFAR10_Test_B128_LR0.001_FFTGate_VGG16_Adam.txt!\n",
      "\n"
     ]
    },
    {
     "name": "stderr",
     "output_type": "stream",
     "text": [
      "Epoch 11: 100%|██████████| 391/391 [00:25<00:00, 15.21it/s, Train_acc=88.5, Train_loss=0.374]\n"
     ]
    },
    {
     "name": "stdout",
     "output_type": "stream",
     "text": [
      "Epoch 11: M_Optimizer LR => 0.00100 | Gamma1 LR => 0.00994 | Gamma1: ['2.29054', '2.31543', '2.30688', '2.28251', '2.27536', '2.29133', '2.27824', '2.28132', '2.28289', '2.27163', '2.27425', '2.27694', '2.27770'] | Gamma1 Grad: ['-0.00164', '0.00004', '0.00538', '0.00063', '-0.00194', '0.00514', '-0.00065', '-0.00063', '-0.00031', '-0.00241', '-0.00287', '-0.00187', '0.00069']\n",
      "📜 Logs saved to C:\\Users\\emeka\\Research\\ModelCUDA\\Big_Data_Journal\\Comparison\\Code\\Paper\\github2\\CIFAR10\\VGG16\\Results\\FFTGate\\FFTGate_training_logs.txt!\n",
      "🏆 New Best Training Accuracy: 88.502% (Updated)\n",
      "📊 Train Accuracy: 88.502% | 🏆 Best Train Accuracy: 88.502%\n",
      "📜 Training logs saved to ./Results/CIFAR10_Train_B128_LR0.001_FFTGate_VGG16_Adam.txt!\n",
      "🏆 Best Training Accuracy: 88.502% (Updated)\n"
     ]
    },
    {
     "name": "stderr",
     "output_type": "stream",
     "text": [
      "Testing Epoch 11: 100%|██████████| 79/79 [00:01<00:00, 56.11it/s, Test_acc=85.7, Test_loss=0.43] \n"
     ]
    },
    {
     "name": "stdout",
     "output_type": "stream",
     "text": [
      "🏆 Saving best model...\n",
      "Checkpoint saved: ./checkpoint/CIFAR10_B128_LR0_001_FFTGate_VGG16_Adam.t7\n",
      "📊 Test Accuracy: 85.710% | 🏆 Best Test Accuracy: 85.710%\n",
      "📜 Test logs saved to C:\\Users\\emeka\\Research\\ModelCUDA\\Big_Data_Journal\\Comparison\\Code\\Paper\\github2\\CIFAR10\\VGG16\\Results\\CIFAR10_Test_B128_LR0.001_FFTGate_VGG16_Adam.txt!\n",
      "\n"
     ]
    },
    {
     "name": "stderr",
     "output_type": "stream",
     "text": [
      "Epoch 12: 100%|██████████| 391/391 [00:25<00:00, 15.43it/s, Train_acc=89.3, Train_loss=0.351]\n"
     ]
    },
    {
     "name": "stdout",
     "output_type": "stream",
     "text": [
      "Epoch 12: M_Optimizer LR => 0.00100 | Gamma1 LR => 0.00976 | Gamma1: ['2.29609', '2.28253', '2.30168', '2.28415', '2.28792', '2.28390', '2.29294', '2.28482', '2.27736', '2.28036', '2.27931', '2.28809', '2.27099'] | Gamma1 Grad: ['0.00332', '0.00756', '0.00233', '0.00026', '-0.00341', '0.00110', '-0.00106', '-0.00240', '-0.00094', '-0.00248', '-0.00305', '0.00090', '0.00189']\n",
      "📜 Logs saved to C:\\Users\\emeka\\Research\\ModelCUDA\\Big_Data_Journal\\Comparison\\Code\\Paper\\github2\\CIFAR10\\VGG16\\Results\\FFTGate\\FFTGate_training_logs.txt!\n",
      "🏆 New Best Training Accuracy: 89.296% (Updated)\n",
      "📊 Train Accuracy: 89.296% | 🏆 Best Train Accuracy: 89.296%\n",
      "📜 Training logs saved to ./Results/CIFAR10_Train_B128_LR0.001_FFTGate_VGG16_Adam.txt!\n",
      "🏆 Best Training Accuracy: 89.296% (Updated)\n"
     ]
    },
    {
     "name": "stderr",
     "output_type": "stream",
     "text": [
      "Testing Epoch 12: 100%|██████████| 79/79 [00:01<00:00, 55.96it/s, Test_acc=86.4, Test_loss=0.408]\n"
     ]
    },
    {
     "name": "stdout",
     "output_type": "stream",
     "text": [
      "🏆 Saving best model...\n",
      "Checkpoint saved: ./checkpoint/CIFAR10_B128_LR0_001_FFTGate_VGG16_Adam.t7\n",
      "📊 Test Accuracy: 86.440% | 🏆 Best Test Accuracy: 86.440%\n",
      "📜 Test logs saved to C:\\Users\\emeka\\Research\\ModelCUDA\\Big_Data_Journal\\Comparison\\Code\\Paper\\github2\\CIFAR10\\VGG16\\Results\\CIFAR10_Test_B128_LR0.001_FFTGate_VGG16_Adam.txt!\n",
      "\n"
     ]
    },
    {
     "name": "stderr",
     "output_type": "stream",
     "text": [
      "Epoch 13: 100%|██████████| 391/391 [00:25<00:00, 15.22it/s, Train_acc=89.8, Train_loss=0.334]\n"
     ]
    },
    {
     "name": "stdout",
     "output_type": "stream",
     "text": [
      "Epoch 13: M_Optimizer LR => 0.00100 | Gamma1 LR => 0.00946 | Gamma1: ['2.30475', '2.28611', '2.30716', '2.28693', '2.29307', '2.27492', '2.26376', '2.27672', '2.29359', '2.28302', '2.28798', '2.28480', '2.27159'] | Gamma1 Grad: ['0.00129', '0.00654', '0.00110', '-0.00153', '0.00114', '-0.00079', '-0.00146', '0.00392', '0.00645', '0.00429', '0.01021', '0.00733', '-0.00557']\n",
      "📜 Logs saved to C:\\Users\\emeka\\Research\\ModelCUDA\\Big_Data_Journal\\Comparison\\Code\\Paper\\github2\\CIFAR10\\VGG16\\Results\\FFTGate\\FFTGate_training_logs.txt!\n",
      "🏆 New Best Training Accuracy: 89.772% (Updated)\n",
      "📊 Train Accuracy: 89.772% | 🏆 Best Train Accuracy: 89.772%\n",
      "📜 Training logs saved to ./Results/CIFAR10_Train_B128_LR0.001_FFTGate_VGG16_Adam.txt!\n",
      "🏆 Best Training Accuracy: 89.772% (Updated)\n"
     ]
    },
    {
     "name": "stderr",
     "output_type": "stream",
     "text": [
      "Testing Epoch 13: 100%|██████████| 79/79 [00:01<00:00, 54.76it/s, Test_acc=87.2, Test_loss=0.398]\n"
     ]
    },
    {
     "name": "stdout",
     "output_type": "stream",
     "text": [
      "🏆 Saving best model...\n",
      "Checkpoint saved: ./checkpoint/CIFAR10_B128_LR0_001_FFTGate_VGG16_Adam.t7\n",
      "📊 Test Accuracy: 87.200% | 🏆 Best Test Accuracy: 87.200%\n",
      "📜 Test logs saved to C:\\Users\\emeka\\Research\\ModelCUDA\\Big_Data_Journal\\Comparison\\Code\\Paper\\github2\\CIFAR10\\VGG16\\Results\\CIFAR10_Test_B128_LR0.001_FFTGate_VGG16_Adam.txt!\n",
      "\n"
     ]
    },
    {
     "name": "stderr",
     "output_type": "stream",
     "text": [
      "Epoch 14: 100%|██████████| 391/391 [00:25<00:00, 15.11it/s, Train_acc=90.6, Train_loss=0.311]\n"
     ]
    },
    {
     "name": "stdout",
     "output_type": "stream",
     "text": [
      "Epoch 14: M_Optimizer LR => 0.00100 | Gamma1 LR => 0.00905 | Gamma1: ['2.30356', '2.29496', '2.27607', '2.27977', '2.27379', '2.28018', '2.27066', '2.26466', '2.26454', '2.27818', '2.26510', '2.26767', '2.29347'] | Gamma1 Grad: ['0.00436', '0.00632', '-0.00943', '0.00190', '0.00042', '-0.00356', '0.00033', '0.00093', '0.00296', '0.00168', '0.01026', '-0.00260', '-0.00149']\n",
      "📜 Logs saved to C:\\Users\\emeka\\Research\\ModelCUDA\\Big_Data_Journal\\Comparison\\Code\\Paper\\github2\\CIFAR10\\VGG16\\Results\\FFTGate\\FFTGate_training_logs.txt!\n",
      "🏆 New Best Training Accuracy: 90.604% (Updated)\n",
      "📊 Train Accuracy: 90.604% | 🏆 Best Train Accuracy: 90.604%\n",
      "📜 Training logs saved to ./Results/CIFAR10_Train_B128_LR0.001_FFTGate_VGG16_Adam.txt!\n",
      "🏆 Best Training Accuracy: 90.604% (Updated)\n"
     ]
    },
    {
     "name": "stderr",
     "output_type": "stream",
     "text": [
      "Testing Epoch 14: 100%|██████████| 79/79 [00:01<00:00, 55.62it/s, Test_acc=87.9, Test_loss=0.375]\n"
     ]
    },
    {
     "name": "stdout",
     "output_type": "stream",
     "text": [
      "🏆 Saving best model...\n",
      "Checkpoint saved: ./checkpoint/CIFAR10_B128_LR0_001_FFTGate_VGG16_Adam.t7\n",
      "📊 Test Accuracy: 87.910% | 🏆 Best Test Accuracy: 87.910%\n",
      "📜 Test logs saved to C:\\Users\\emeka\\Research\\ModelCUDA\\Big_Data_Journal\\Comparison\\Code\\Paper\\github2\\CIFAR10\\VGG16\\Results\\CIFAR10_Test_B128_LR0.001_FFTGate_VGG16_Adam.txt!\n",
      "\n"
     ]
    },
    {
     "name": "stderr",
     "output_type": "stream",
     "text": [
      "Epoch 15: 100%|██████████| 391/391 [00:25<00:00, 15.33it/s, Train_acc=91.1, Train_loss=0.292]\n"
     ]
    },
    {
     "name": "stdout",
     "output_type": "stream",
     "text": [
      "Epoch 15: M_Optimizer LR => 0.00100 | Gamma1 LR => 0.00854 | Gamma1: ['2.30352', '2.28919', '2.28711', '2.27915', '2.26762', '2.28766', '2.28045', '2.28728', '2.27898', '2.28522', '2.29764', '2.28604', '2.28186'] | Gamma1 Grad: ['0.01117', '-0.00142', '0.00457', '0.00177', '0.00398', '0.00224', '-0.00087', '-0.00181', '-0.00202', '-0.00111', '-0.00451', '0.00212', '0.00329']\n",
      "📜 Logs saved to C:\\Users\\emeka\\Research\\ModelCUDA\\Big_Data_Journal\\Comparison\\Code\\Paper\\github2\\CIFAR10\\VGG16\\Results\\FFTGate\\FFTGate_training_logs.txt!\n",
      "🏆 New Best Training Accuracy: 91.138% (Updated)\n",
      "📊 Train Accuracy: 91.138% | 🏆 Best Train Accuracy: 91.138%\n",
      "📜 Training logs saved to ./Results/CIFAR10_Train_B128_LR0.001_FFTGate_VGG16_Adam.txt!\n",
      "🏆 Best Training Accuracy: 91.138% (Updated)\n"
     ]
    },
    {
     "name": "stderr",
     "output_type": "stream",
     "text": [
      "Testing Epoch 15: 100%|██████████| 79/79 [00:01<00:00, 55.99it/s, Test_acc=88.2, Test_loss=0.362]\n"
     ]
    },
    {
     "name": "stdout",
     "output_type": "stream",
     "text": [
      "🏆 Saving best model...\n",
      "Checkpoint saved: ./checkpoint/CIFAR10_B128_LR0_001_FFTGate_VGG16_Adam.t7\n",
      "📊 Test Accuracy: 88.210% | 🏆 Best Test Accuracy: 88.210%\n",
      "📜 Test logs saved to C:\\Users\\emeka\\Research\\ModelCUDA\\Big_Data_Journal\\Comparison\\Code\\Paper\\github2\\CIFAR10\\VGG16\\Results\\CIFAR10_Test_B128_LR0.001_FFTGate_VGG16_Adam.txt!\n",
      "\n"
     ]
    },
    {
     "name": "stderr",
     "output_type": "stream",
     "text": [
      "Epoch 16: 100%|██████████| 391/391 [00:25<00:00, 15.33it/s, Train_acc=91.7, Train_loss=0.275]\n"
     ]
    },
    {
     "name": "stdout",
     "output_type": "stream",
     "text": [
      "Epoch 16: M_Optimizer LR => 0.00100 | Gamma1 LR => 0.00795 | Gamma1: ['2.28958', '2.29009', '2.28285', '2.28060', '2.27534', '2.27985', '2.28321', '2.28235', '2.28198', '2.27699', '2.26158', '2.27410', '2.29369'] | Gamma1 Grad: ['-0.00517', '0.00001', '0.00813', '-0.00759', '0.00263', '0.00337', '-0.00095', '0.00166', '0.00001', '-0.00189', '-0.00599', '-0.00042', '0.00362']\n",
      "📜 Logs saved to C:\\Users\\emeka\\Research\\ModelCUDA\\Big_Data_Journal\\Comparison\\Code\\Paper\\github2\\CIFAR10\\VGG16\\Results\\FFTGate\\FFTGate_training_logs.txt!\n",
      "🏆 New Best Training Accuracy: 91.748% (Updated)\n",
      "📊 Train Accuracy: 91.748% | 🏆 Best Train Accuracy: 91.748%\n",
      "📜 Training logs saved to ./Results/CIFAR10_Train_B128_LR0.001_FFTGate_VGG16_Adam.txt!\n",
      "🏆 Best Training Accuracy: 91.748% (Updated)\n"
     ]
    },
    {
     "name": "stderr",
     "output_type": "stream",
     "text": [
      "Testing Epoch 16: 100%|██████████| 79/79 [00:01<00:00, 56.32it/s, Test_acc=88.9, Test_loss=0.332]\n"
     ]
    },
    {
     "name": "stdout",
     "output_type": "stream",
     "text": [
      "🏆 Saving best model...\n",
      "Checkpoint saved: ./checkpoint/CIFAR10_B128_LR0_001_FFTGate_VGG16_Adam.t7\n",
      "📊 Test Accuracy: 88.910% | 🏆 Best Test Accuracy: 88.910%\n",
      "📜 Test logs saved to C:\\Users\\emeka\\Research\\ModelCUDA\\Big_Data_Journal\\Comparison\\Code\\Paper\\github2\\CIFAR10\\VGG16\\Results\\CIFAR10_Test_B128_LR0.001_FFTGate_VGG16_Adam.txt!\n",
      "\n"
     ]
    },
    {
     "name": "stderr",
     "output_type": "stream",
     "text": [
      "Epoch 17: 100%|██████████| 391/391 [00:25<00:00, 15.53it/s, Train_acc=92.4, Train_loss=0.255]\n"
     ]
    },
    {
     "name": "stdout",
     "output_type": "stream",
     "text": [
      "Epoch 17: M_Optimizer LR => 0.00100 | Gamma1 LR => 0.00728 | Gamma1: ['2.27575', '2.30923', '2.27699', '2.28019', '2.28184', '2.30487', '2.27745', '2.27880', '2.28803', '2.27626', '2.29326', '2.26731', '2.29436'] | Gamma1 Grad: ['-0.00084', '0.00778', '-0.00572', '-0.00115', '0.00065', '0.00668', '-0.00211', '-0.00235', '-0.00253', '-0.00341', '-0.00157', '0.00115', '0.00565']\n",
      "📜 Logs saved to C:\\Users\\emeka\\Research\\ModelCUDA\\Big_Data_Journal\\Comparison\\Code\\Paper\\github2\\CIFAR10\\VGG16\\Results\\FFTGate\\FFTGate_training_logs.txt!\n",
      "🏆 New Best Training Accuracy: 92.424% (Updated)\n",
      "📊 Train Accuracy: 92.424% | 🏆 Best Train Accuracy: 92.424%\n",
      "📜 Training logs saved to ./Results/CIFAR10_Train_B128_LR0.001_FFTGate_VGG16_Adam.txt!\n",
      "🏆 Best Training Accuracy: 92.424% (Updated)\n"
     ]
    },
    {
     "name": "stderr",
     "output_type": "stream",
     "text": [
      "Testing Epoch 17: 100%|██████████| 79/79 [00:01<00:00, 55.90it/s, Test_acc=88.6, Test_loss=0.353]\n"
     ]
    },
    {
     "name": "stdout",
     "output_type": "stream",
     "text": [
      "📊 Test Accuracy: 88.610% | 🏆 Best Test Accuracy: 88.910%\n",
      "📜 Test logs saved to C:\\Users\\emeka\\Research\\ModelCUDA\\Big_Data_Journal\\Comparison\\Code\\Paper\\github2\\CIFAR10\\VGG16\\Results\\CIFAR10_Test_B128_LR0.001_FFTGate_VGG16_Adam.txt!\n",
      "\n"
     ]
    },
    {
     "name": "stderr",
     "output_type": "stream",
     "text": [
      "Epoch 18: 100%|██████████| 391/391 [00:25<00:00, 15.11it/s, Train_acc=92.6, Train_loss=0.247]\n"
     ]
    },
    {
     "name": "stdout",
     "output_type": "stream",
     "text": [
      "Epoch 18: M_Optimizer LR => 0.00100 | Gamma1 LR => 0.00656 | Gamma1: ['2.27218', '2.30420', '2.28056', '2.28193', '2.28557', '2.30591', '2.28088', '2.26902', '2.27702', '2.27936', '2.27709', '2.27241', '2.29591'] | Gamma1 Grad: ['0.00220', '0.00437', '-0.00231', '-0.00213', '0.00226', '-0.00041', '0.00095', '0.00007', '-0.00582', '-0.00000', '-0.00527', '-0.00204', '0.00636']\n",
      "📜 Logs saved to C:\\Users\\emeka\\Research\\ModelCUDA\\Big_Data_Journal\\Comparison\\Code\\Paper\\github2\\CIFAR10\\VGG16\\Results\\FFTGate\\FFTGate_training_logs.txt!\n",
      "🏆 New Best Training Accuracy: 92.600% (Updated)\n",
      "📊 Train Accuracy: 92.600% | 🏆 Best Train Accuracy: 92.600%\n",
      "📜 Training logs saved to ./Results/CIFAR10_Train_B128_LR0.001_FFTGate_VGG16_Adam.txt!\n",
      "🏆 Best Training Accuracy: 92.600% (Updated)\n"
     ]
    },
    {
     "name": "stderr",
     "output_type": "stream",
     "text": [
      "Testing Epoch 18: 100%|██████████| 79/79 [00:01<00:00, 54.71it/s, Test_acc=88.8, Test_loss=0.331]\n"
     ]
    },
    {
     "name": "stdout",
     "output_type": "stream",
     "text": [
      "📊 Test Accuracy: 88.790% | 🏆 Best Test Accuracy: 88.910%\n",
      "📜 Test logs saved to C:\\Users\\emeka\\Research\\ModelCUDA\\Big_Data_Journal\\Comparison\\Code\\Paper\\github2\\CIFAR10\\VGG16\\Results\\CIFAR10_Test_B128_LR0.001_FFTGate_VGG16_Adam.txt!\n",
      "\n"
     ]
    },
    {
     "name": "stderr",
     "output_type": "stream",
     "text": [
      "Epoch 19: 100%|██████████| 391/391 [00:25<00:00, 15.28it/s, Train_acc=93, Train_loss=0.234]  \n"
     ]
    },
    {
     "name": "stdout",
     "output_type": "stream",
     "text": [
      "Epoch 19: M_Optimizer LR => 0.00100 | Gamma1 LR => 0.00580 | Gamma1: ['2.29105', '2.27951', '2.28475', '2.28006', '2.29124', '2.28405', '2.28645', '2.29687', '2.29648', '2.28694', '2.28727', '2.28064', '2.27865'] | Gamma1 Grad: ['0.01165', '0.00380', '-0.00267', '0.00497', '-0.00323', '-0.00176', '0.00741', '0.00340', '0.00274', '0.00186', '-0.00485', '0.00004', '0.00130']\n",
      "📜 Logs saved to C:\\Users\\emeka\\Research\\ModelCUDA\\Big_Data_Journal\\Comparison\\Code\\Paper\\github2\\CIFAR10\\VGG16\\Results\\FFTGate\\FFTGate_training_logs.txt!\n",
      "🏆 New Best Training Accuracy: 92.986% (Updated)\n",
      "📊 Train Accuracy: 92.986% | 🏆 Best Train Accuracy: 92.986%\n",
      "📜 Training logs saved to ./Results/CIFAR10_Train_B128_LR0.001_FFTGate_VGG16_Adam.txt!\n",
      "🏆 Best Training Accuracy: 92.986% (Updated)\n"
     ]
    },
    {
     "name": "stderr",
     "output_type": "stream",
     "text": [
      "Testing Epoch 19: 100%|██████████| 79/79 [00:01<00:00, 55.25it/s, Test_acc=88, Test_loss=0.375]  \n"
     ]
    },
    {
     "name": "stdout",
     "output_type": "stream",
     "text": [
      "📊 Test Accuracy: 88.030% | 🏆 Best Test Accuracy: 88.910%\n",
      "📜 Test logs saved to C:\\Users\\emeka\\Research\\ModelCUDA\\Big_Data_Journal\\Comparison\\Code\\Paper\\github2\\CIFAR10\\VGG16\\Results\\CIFAR10_Test_B128_LR0.001_FFTGate_VGG16_Adam.txt!\n",
      "\n"
     ]
    },
    {
     "name": "stderr",
     "output_type": "stream",
     "text": [
      "Epoch 20: 100%|██████████| 391/391 [00:25<00:00, 15.13it/s, Train_acc=93.4, Train_loss=0.222]\n"
     ]
    },
    {
     "name": "stdout",
     "output_type": "stream",
     "text": [
      "Epoch 20: M_Optimizer LR => 0.00100 | Gamma1 LR => 0.00502 | Gamma1: ['2.29659', '2.28035', '2.28790', '2.26881', '2.29584', '2.28085', '2.27313', '2.28387', '2.27772', '2.28192', '2.27043', '2.27719', '2.27839'] | Gamma1 Grad: ['-0.00269', '-0.00094', '-0.00694', '-0.00274', '0.00191', '0.00224', '-0.00331', '-0.00287', '-0.00563', '-0.00352', '-0.01150', '0.00148', '0.00125']\n",
      "📜 Logs saved to C:\\Users\\emeka\\Research\\ModelCUDA\\Big_Data_Journal\\Comparison\\Code\\Paper\\github2\\CIFAR10\\VGG16\\Results\\FFTGate\\FFTGate_training_logs.txt!\n",
      "🏆 New Best Training Accuracy: 93.438% (Updated)\n",
      "📊 Train Accuracy: 93.438% | 🏆 Best Train Accuracy: 93.438%\n",
      "📜 Training logs saved to ./Results/CIFAR10_Train_B128_LR0.001_FFTGate_VGG16_Adam.txt!\n",
      "🏆 Best Training Accuracy: 93.438% (Updated)\n",
      "📏 Sizes → ActivationHist: 5083 | TestAccHist: 0 | TrainLossHist: 21\n"
     ]
    },
    {
     "name": "stderr",
     "output_type": "stream",
     "text": [
      "Testing Epoch 20: 100%|██████████| 79/79 [00:01<00:00, 55.79it/s, Test_acc=89.4, Test_loss=0.344]\n"
     ]
    },
    {
     "name": "stdout",
     "output_type": "stream",
     "text": [
      "🏆 Saving best model...\n",
      "Checkpoint saved: ./checkpoint/CIFAR10_B128_LR0_001_FFTGate_VGG16_Adam.t7\n",
      "📊 Test Accuracy: 89.420% | 🏆 Best Test Accuracy: 89.420%\n",
      "📜 Test logs saved to C:\\Users\\emeka\\Research\\ModelCUDA\\Big_Data_Journal\\Comparison\\Code\\Paper\\github2\\CIFAR10\\VGG16\\Results\\CIFAR10_Test_B128_LR0.001_FFTGate_VGG16_Adam.txt!\n",
      "\n"
     ]
    },
    {
     "name": "stderr",
     "output_type": "stream",
     "text": [
      "Epoch 21: 100%|██████████| 391/391 [00:25<00:00, 15.23it/s, Train_acc=93.9, Train_loss=0.206]\n"
     ]
    },
    {
     "name": "stdout",
     "output_type": "stream",
     "text": [
      "Epoch 21: M_Optimizer LR => 0.00100 | Gamma1 LR => 0.00425 | Gamma1: ['2.26811', '2.27696', '2.26759', '2.28074', '2.32221', '2.27548', '2.27618', '2.28314', '2.26655', '2.27325', '2.26505', '2.27127', '2.27487'] | Gamma1 Grad: ['0.00263', '0.00042', '-0.00497', '0.00190', '0.00681', '-0.00216', '0.00051', '-0.00155', '-0.00356', '-0.00480', '-0.00796', '-0.00150', '-0.00389']\n",
      "📜 Logs saved to C:\\Users\\emeka\\Research\\ModelCUDA\\Big_Data_Journal\\Comparison\\Code\\Paper\\github2\\CIFAR10\\VGG16\\Results\\FFTGate\\FFTGate_training_logs.txt!\n",
      "🏆 New Best Training Accuracy: 93.940% (Updated)\n",
      "📊 Train Accuracy: 93.940% | 🏆 Best Train Accuracy: 93.940%\n",
      "📜 Training logs saved to ./Results/CIFAR10_Train_B128_LR0.001_FFTGate_VGG16_Adam.txt!\n",
      "🏆 Best Training Accuracy: 93.940% (Updated)\n"
     ]
    },
    {
     "name": "stderr",
     "output_type": "stream",
     "text": [
      "Testing Epoch 21: 100%|██████████| 79/79 [00:01<00:00, 54.30it/s, Test_acc=88.7, Test_loss=0.369]\n"
     ]
    },
    {
     "name": "stdout",
     "output_type": "stream",
     "text": [
      "📊 Test Accuracy: 88.670% | 🏆 Best Test Accuracy: 89.420%\n",
      "📜 Test logs saved to C:\\Users\\emeka\\Research\\ModelCUDA\\Big_Data_Journal\\Comparison\\Code\\Paper\\github2\\CIFAR10\\VGG16\\Results\\CIFAR10_Test_B128_LR0.001_FFTGate_VGG16_Adam.txt!\n",
      "\n"
     ]
    },
    {
     "name": "stderr",
     "output_type": "stream",
     "text": [
      "Epoch 22: 100%|██████████| 391/391 [00:26<00:00, 14.90it/s, Train_acc=94.2, Train_loss=0.198]\n"
     ]
    },
    {
     "name": "stdout",
     "output_type": "stream",
     "text": [
      "Epoch 22: M_Optimizer LR => 0.00100 | Gamma1 LR => 0.00349 | Gamma1: ['2.27892', '2.29473', '2.28677', '2.28717', '2.29322', '2.27794', '2.27098', '2.28126', '2.27430', '2.27495', '2.27639', '2.27489', '2.27938'] | Gamma1 Grad: ['-0.00379', '0.00268', '-0.01307', '0.00656', '-0.00394', '-0.00525', '-0.00014', '0.00213', '0.00101', '0.00268', '-0.00052', '-0.00127', '0.00583']\n",
      "📜 Logs saved to C:\\Users\\emeka\\Research\\ModelCUDA\\Big_Data_Journal\\Comparison\\Code\\Paper\\github2\\CIFAR10\\VGG16\\Results\\FFTGate\\FFTGate_training_logs.txt!\n",
      "🏆 New Best Training Accuracy: 94.240% (Updated)\n",
      "📊 Train Accuracy: 94.240% | 🏆 Best Train Accuracy: 94.240%\n",
      "📜 Training logs saved to ./Results/CIFAR10_Train_B128_LR0.001_FFTGate_VGG16_Adam.txt!\n",
      "🏆 Best Training Accuracy: 94.240% (Updated)\n"
     ]
    },
    {
     "name": "stderr",
     "output_type": "stream",
     "text": [
      "Testing Epoch 22: 100%|██████████| 79/79 [00:01<00:00, 55.72it/s, Test_acc=89.6, Test_loss=0.33] \n"
     ]
    },
    {
     "name": "stdout",
     "output_type": "stream",
     "text": [
      "🏆 Saving best model...\n",
      "Checkpoint saved: ./checkpoint/CIFAR10_B128_LR0_001_FFTGate_VGG16_Adam.t7\n",
      "📊 Test Accuracy: 89.560% | 🏆 Best Test Accuracy: 89.560%\n",
      "📜 Test logs saved to C:\\Users\\emeka\\Research\\ModelCUDA\\Big_Data_Journal\\Comparison\\Code\\Paper\\github2\\CIFAR10\\VGG16\\Results\\CIFAR10_Test_B128_LR0.001_FFTGate_VGG16_Adam.txt!\n",
      "\n"
     ]
    },
    {
     "name": "stderr",
     "output_type": "stream",
     "text": [
      "Epoch 23: 100%|██████████| 391/391 [00:25<00:00, 15.05it/s, Train_acc=94.4, Train_loss=0.191]\n"
     ]
    },
    {
     "name": "stdout",
     "output_type": "stream",
     "text": [
      "Epoch 23: M_Optimizer LR => 0.00100 | Gamma1 LR => 0.00277 | Gamma1: ['2.28114', '2.29497', '2.29241', '2.28641', '2.28759', '2.28569', '2.28066', '2.27798', '2.28168', '2.28223', '2.27641', '2.27764', '2.27970'] | Gamma1 Grad: ['-0.00529', '-0.00668', '-0.00467', '0.00911', '0.00324', '-0.00319', '-0.00171', '0.00167', '0.00262', '0.00208', '0.00527', '0.00090', '0.00385']\n",
      "📜 Logs saved to C:\\Users\\emeka\\Research\\ModelCUDA\\Big_Data_Journal\\Comparison\\Code\\Paper\\github2\\CIFAR10\\VGG16\\Results\\FFTGate\\FFTGate_training_logs.txt!\n",
      "🏆 New Best Training Accuracy: 94.422% (Updated)\n",
      "📊 Train Accuracy: 94.422% | 🏆 Best Train Accuracy: 94.422%\n",
      "📜 Training logs saved to ./Results/CIFAR10_Train_B128_LR0.001_FFTGate_VGG16_Adam.txt!\n",
      "🏆 Best Training Accuracy: 94.422% (Updated)\n"
     ]
    },
    {
     "name": "stderr",
     "output_type": "stream",
     "text": [
      "Testing Epoch 23: 100%|██████████| 79/79 [00:01<00:00, 54.85it/s, Test_acc=89.7, Test_loss=0.316]\n"
     ]
    },
    {
     "name": "stdout",
     "output_type": "stream",
     "text": [
      "🏆 Saving best model...\n",
      "Checkpoint saved: ./checkpoint/CIFAR10_B128_LR0_001_FFTGate_VGG16_Adam.t7\n",
      "📊 Test Accuracy: 89.740% | 🏆 Best Test Accuracy: 89.740%\n",
      "📜 Test logs saved to C:\\Users\\emeka\\Research\\ModelCUDA\\Big_Data_Journal\\Comparison\\Code\\Paper\\github2\\CIFAR10\\VGG16\\Results\\CIFAR10_Test_B128_LR0.001_FFTGate_VGG16_Adam.txt!\n",
      "\n"
     ]
    },
    {
     "name": "stderr",
     "output_type": "stream",
     "text": [
      "Epoch 24: 100%|██████████| 391/391 [00:25<00:00, 15.26it/s, Train_acc=94.9, Train_loss=0.178]\n"
     ]
    },
    {
     "name": "stdout",
     "output_type": "stream",
     "text": [
      "Epoch 24: M_Optimizer LR => 0.00100 | Gamma1 LR => 0.00210 | Gamma1: ['2.28235', '2.27853', '2.29391', '2.28164', '2.28495', '2.29138', '2.28343', '2.28250', '2.28288', '2.28006', '2.27229', '2.27788', '2.28533'] | Gamma1 Grad: ['-0.00377', '0.01510', '-0.04433', '0.00115', '-0.00636', '-0.01806', '0.00502', '0.00615', '0.01111', '0.00322', '0.00384', '0.00203', '-0.00743']\n",
      "📜 Logs saved to C:\\Users\\emeka\\Research\\ModelCUDA\\Big_Data_Journal\\Comparison\\Code\\Paper\\github2\\CIFAR10\\VGG16\\Results\\FFTGate\\FFTGate_training_logs.txt!\n",
      "🏆 New Best Training Accuracy: 94.926% (Updated)\n",
      "📊 Train Accuracy: 94.926% | 🏆 Best Train Accuracy: 94.926%\n",
      "📜 Training logs saved to ./Results/CIFAR10_Train_B128_LR0.001_FFTGate_VGG16_Adam.txt!\n",
      "🏆 Best Training Accuracy: 94.926% (Updated)\n"
     ]
    },
    {
     "name": "stderr",
     "output_type": "stream",
     "text": [
      "Testing Epoch 24: 100%|██████████| 79/79 [00:01<00:00, 56.17it/s, Test_acc=89.8, Test_loss=0.337]\n"
     ]
    },
    {
     "name": "stdout",
     "output_type": "stream",
     "text": [
      "🏆 Saving best model...\n",
      "Checkpoint saved: ./checkpoint/CIFAR10_B128_LR0_001_FFTGate_VGG16_Adam.t7\n",
      "📊 Test Accuracy: 89.780% | 🏆 Best Test Accuracy: 89.780%\n",
      "📜 Test logs saved to C:\\Users\\emeka\\Research\\ModelCUDA\\Big_Data_Journal\\Comparison\\Code\\Paper\\github2\\CIFAR10\\VGG16\\Results\\CIFAR10_Test_B128_LR0.001_FFTGate_VGG16_Adam.txt!\n",
      "\n"
     ]
    },
    {
     "name": "stderr",
     "output_type": "stream",
     "text": [
      "Epoch 25: 100%|██████████| 391/391 [00:25<00:00, 15.40it/s, Train_acc=95.1, Train_loss=0.173]\n"
     ]
    },
    {
     "name": "stdout",
     "output_type": "stream",
     "text": [
      "Epoch 25: M_Optimizer LR => 0.00100 | Gamma1 LR => 0.00151 | Gamma1: ['2.29336', '2.28815', '2.29051', '2.28518', '2.28967', '2.27896', '2.28546', '2.29248', '2.28862', '2.28639', '2.26956', '2.28067', '2.28448'] | Gamma1 Grad: ['0.00901', '0.00303', '0.01173', '0.00013', '-0.01284', '-0.00444', '-0.00048', '0.00236', '0.00456', '0.00099', '0.00632', '-0.00689', '0.00287']\n",
      "📜 Logs saved to C:\\Users\\emeka\\Research\\ModelCUDA\\Big_Data_Journal\\Comparison\\Code\\Paper\\github2\\CIFAR10\\VGG16\\Results\\FFTGate\\FFTGate_training_logs.txt!\n",
      "🏆 New Best Training Accuracy: 95.066% (Updated)\n",
      "📊 Train Accuracy: 95.066% | 🏆 Best Train Accuracy: 95.066%\n",
      "📜 Training logs saved to ./Results/CIFAR10_Train_B128_LR0.001_FFTGate_VGG16_Adam.txt!\n",
      "🏆 Best Training Accuracy: 95.066% (Updated)\n"
     ]
    },
    {
     "name": "stderr",
     "output_type": "stream",
     "text": [
      "Testing Epoch 25: 100%|██████████| 79/79 [00:01<00:00, 56.08it/s, Test_acc=89.4, Test_loss=0.34] \n"
     ]
    },
    {
     "name": "stdout",
     "output_type": "stream",
     "text": [
      "📊 Test Accuracy: 89.430% | 🏆 Best Test Accuracy: 89.780%\n",
      "📜 Test logs saved to C:\\Users\\emeka\\Research\\ModelCUDA\\Big_Data_Journal\\Comparison\\Code\\Paper\\github2\\CIFAR10\\VGG16\\Results\\CIFAR10_Test_B128_LR0.001_FFTGate_VGG16_Adam.txt!\n",
      "\n"
     ]
    },
    {
     "name": "stderr",
     "output_type": "stream",
     "text": [
      "Epoch 26: 100%|██████████| 391/391 [00:25<00:00, 15.46it/s, Train_acc=95.5, Train_loss=0.161]\n"
     ]
    },
    {
     "name": "stdout",
     "output_type": "stream",
     "text": [
      "Epoch 26: M_Optimizer LR => 0.00100 | Gamma1 LR => 0.00100 | Gamma1: ['2.27933', '2.28768', '2.28302', '2.29111', '2.29084', '2.28286', '2.28278', '2.28806', '2.28170', '2.27851', '2.27834', '2.28024', '2.28361'] | Gamma1 Grad: ['-0.01546', '-0.00749', '-0.00170', '0.00462', '0.00158', '-0.00383', '0.00523', '0.00113', '-0.00015', '0.00340', '0.00052', '0.00227', '-0.00138']\n",
      "📜 Logs saved to C:\\Users\\emeka\\Research\\ModelCUDA\\Big_Data_Journal\\Comparison\\Code\\Paper\\github2\\CIFAR10\\VGG16\\Results\\FFTGate\\FFTGate_training_logs.txt!\n",
      "🏆 New Best Training Accuracy: 95.464% (Updated)\n",
      "📊 Train Accuracy: 95.464% | 🏆 Best Train Accuracy: 95.464%\n",
      "📜 Training logs saved to ./Results/CIFAR10_Train_B128_LR0.001_FFTGate_VGG16_Adam.txt!\n",
      "🏆 Best Training Accuracy: 95.464% (Updated)\n"
     ]
    },
    {
     "name": "stderr",
     "output_type": "stream",
     "text": [
      "Testing Epoch 26: 100%|██████████| 79/79 [00:01<00:00, 54.43it/s, Test_acc=90, Test_loss=0.334]  \n"
     ]
    },
    {
     "name": "stdout",
     "output_type": "stream",
     "text": [
      "🏆 Saving best model...\n",
      "Checkpoint saved: ./checkpoint/CIFAR10_B128_LR0_001_FFTGate_VGG16_Adam.t7\n",
      "📊 Test Accuracy: 90.000% | 🏆 Best Test Accuracy: 90.000%\n",
      "📜 Test logs saved to C:\\Users\\emeka\\Research\\ModelCUDA\\Big_Data_Journal\\Comparison\\Code\\Paper\\github2\\CIFAR10\\VGG16\\Results\\CIFAR10_Test_B128_LR0.001_FFTGate_VGG16_Adam.txt!\n",
      "\n"
     ]
    },
    {
     "name": "stderr",
     "output_type": "stream",
     "text": [
      "Epoch 27: 100%|██████████| 391/391 [00:25<00:00, 15.18it/s, Train_acc=95.7, Train_loss=0.154]\n"
     ]
    },
    {
     "name": "stdout",
     "output_type": "stream",
     "text": [
      "Epoch 27: M_Optimizer LR => 0.00100 | Gamma1 LR => 0.00059 | Gamma1: ['2.28585', '2.28906', '2.29096', '2.28367', '2.28893', '2.28609', '2.28289', '2.28271', '2.28260', '2.27880', '2.27932', '2.27771', '2.27909'] | Gamma1 Grad: ['-0.01218', '-0.00456', '-0.00340', '-0.00437', '-0.00133', '-0.00303', '0.00223', '0.00234', '0.00168', '0.00267', '0.00301', '0.00095', '0.00089']\n",
      "📜 Logs saved to C:\\Users\\emeka\\Research\\ModelCUDA\\Big_Data_Journal\\Comparison\\Code\\Paper\\github2\\CIFAR10\\VGG16\\Results\\FFTGate\\FFTGate_training_logs.txt!\n",
      "🏆 New Best Training Accuracy: 95.652% (Updated)\n",
      "📊 Train Accuracy: 95.652% | 🏆 Best Train Accuracy: 95.652%\n",
      "📜 Training logs saved to ./Results/CIFAR10_Train_B128_LR0.001_FFTGate_VGG16_Adam.txt!\n",
      "🏆 Best Training Accuracy: 95.652% (Updated)\n"
     ]
    },
    {
     "name": "stderr",
     "output_type": "stream",
     "text": [
      "Testing Epoch 27: 100%|██████████| 79/79 [00:01<00:00, 55.68it/s, Test_acc=90.5, Test_loss=0.318]\n"
     ]
    },
    {
     "name": "stdout",
     "output_type": "stream",
     "text": [
      "🏆 Saving best model...\n",
      "Checkpoint saved: ./checkpoint/CIFAR10_B128_LR0_001_FFTGate_VGG16_Adam.t7\n",
      "📊 Test Accuracy: 90.450% | 🏆 Best Test Accuracy: 90.450%\n",
      "📜 Test logs saved to C:\\Users\\emeka\\Research\\ModelCUDA\\Big_Data_Journal\\Comparison\\Code\\Paper\\github2\\CIFAR10\\VGG16\\Results\\CIFAR10_Test_B128_LR0.001_FFTGate_VGG16_Adam.txt!\n",
      "\n"
     ]
    },
    {
     "name": "stderr",
     "output_type": "stream",
     "text": [
      "Epoch 28: 100%|██████████| 391/391 [00:25<00:00, 15.35it/s, Train_acc=95.9, Train_loss=0.146]\n"
     ]
    },
    {
     "name": "stdout",
     "output_type": "stream",
     "text": [
      "Epoch 28: M_Optimizer LR => 0.00100 | Gamma1 LR => 0.00029 | Gamma1: ['2.28787', '2.29815', '2.28533', '2.28654', '2.28703', '2.28093', '2.28256', '2.28239', '2.27941', '2.28177', '2.27890', '2.28044', '2.28043'] | Gamma1 Grad: ['-0.00419', '0.00029', '-0.01629', '0.00526', '0.00029', '0.00406', '-0.00186', '-0.00133', '-0.00306', '-0.00215', '-0.00350', '-0.00647', '0.00364']\n",
      "📜 Logs saved to C:\\Users\\emeka\\Research\\ModelCUDA\\Big_Data_Journal\\Comparison\\Code\\Paper\\github2\\CIFAR10\\VGG16\\Results\\FFTGate\\FFTGate_training_logs.txt!\n",
      "🏆 New Best Training Accuracy: 95.904% (Updated)\n",
      "📊 Train Accuracy: 95.904% | 🏆 Best Train Accuracy: 95.904%\n",
      "📜 Training logs saved to ./Results/CIFAR10_Train_B128_LR0.001_FFTGate_VGG16_Adam.txt!\n",
      "🏆 Best Training Accuracy: 95.904% (Updated)\n"
     ]
    },
    {
     "name": "stderr",
     "output_type": "stream",
     "text": [
      "Testing Epoch 28: 100%|██████████| 79/79 [00:01<00:00, 56.26it/s, Test_acc=90.2, Test_loss=0.333]\n"
     ]
    },
    {
     "name": "stdout",
     "output_type": "stream",
     "text": [
      "📊 Test Accuracy: 90.170% | 🏆 Best Test Accuracy: 90.450%\n",
      "📜 Test logs saved to C:\\Users\\emeka\\Research\\ModelCUDA\\Big_Data_Journal\\Comparison\\Code\\Paper\\github2\\CIFAR10\\VGG16\\Results\\CIFAR10_Test_B128_LR0.001_FFTGate_VGG16_Adam.txt!\n",
      "\n"
     ]
    },
    {
     "name": "stderr",
     "output_type": "stream",
     "text": [
      "Epoch 29: 100%|██████████| 391/391 [00:25<00:00, 15.28it/s, Train_acc=96.2, Train_loss=0.138]\n"
     ]
    },
    {
     "name": "stdout",
     "output_type": "stream",
     "text": [
      "Epoch 29: M_Optimizer LR => 0.00100 | Gamma1 LR => 0.00011 | Gamma1: ['2.28968', '2.28363', '2.28456', '2.28180', '2.28377', '2.28731', '2.28511', '2.28973', '2.28573', '2.28417', '2.28381', '2.27986', '2.27582'] | Gamma1 Grad: ['0.00497', '-0.00139', '-0.00296', '0.00120', '0.00186', '-0.00468', '0.00113', '0.00242', '0.00174', '0.00223', '-0.00068', '0.00206', '-0.00344']\n",
      "📜 Logs saved to C:\\Users\\emeka\\Research\\ModelCUDA\\Big_Data_Journal\\Comparison\\Code\\Paper\\github2\\CIFAR10\\VGG16\\Results\\FFTGate\\FFTGate_training_logs.txt!\n",
      "🏆 New Best Training Accuracy: 96.196% (Updated)\n",
      "📊 Train Accuracy: 96.196% | 🏆 Best Train Accuracy: 96.196%\n",
      "📜 Training logs saved to ./Results/CIFAR10_Train_B128_LR0.001_FFTGate_VGG16_Adam.txt!\n",
      "🏆 Best Training Accuracy: 96.196% (Updated)\n"
     ]
    },
    {
     "name": "stderr",
     "output_type": "stream",
     "text": [
      "Testing Epoch 29: 100%|██████████| 79/79 [00:01<00:00, 55.93it/s, Test_acc=90.5, Test_loss=0.342]\n"
     ]
    },
    {
     "name": "stdout",
     "output_type": "stream",
     "text": [
      "🏆 Saving best model...\n",
      "Checkpoint saved: ./checkpoint/CIFAR10_B128_LR0_001_FFTGate_VGG16_Adam.t7\n",
      "📊 Test Accuracy: 90.540% | 🏆 Best Test Accuracy: 90.540%\n",
      "📜 Test logs saved to C:\\Users\\emeka\\Research\\ModelCUDA\\Big_Data_Journal\\Comparison\\Code\\Paper\\github2\\CIFAR10\\VGG16\\Results\\CIFAR10_Test_B128_LR0.001_FFTGate_VGG16_Adam.txt!\n",
      "\n"
     ]
    },
    {
     "name": "stderr",
     "output_type": "stream",
     "text": [
      "Epoch 30: 100%|██████████| 391/391 [00:25<00:00, 15.52it/s, Train_acc=96.4, Train_loss=0.133]\n"
     ]
    },
    {
     "name": "stdout",
     "output_type": "stream",
     "text": [
      "Epoch 30: M_Optimizer LR => 0.00100 | Gamma1 LR => 0.01000 | Gamma1: ['2.28222', '2.28600', '2.28304', '2.28504', '2.28042', '2.28330', '2.28150', '2.28207', '2.28008', '2.27981', '2.28091', '2.27957', '2.27891'] | Gamma1 Grad: ['0.00728', '0.01140', '0.01581', '-0.00412', '0.00094', '-0.00238', '0.00469', '0.00263', '-0.00048', '0.00219', '0.00917', '-0.00027', '-0.00202']\n",
      "📜 Logs saved to C:\\Users\\emeka\\Research\\ModelCUDA\\Big_Data_Journal\\Comparison\\Code\\Paper\\github2\\CIFAR10\\VGG16\\Results\\FFTGate\\FFTGate_training_logs.txt!\n",
      "🏆 New Best Training Accuracy: 96.382% (Updated)\n",
      "📊 Train Accuracy: 96.382% | 🏆 Best Train Accuracy: 96.382%\n",
      "📜 Training logs saved to ./Results/CIFAR10_Train_B128_LR0.001_FFTGate_VGG16_Adam.txt!\n",
      "🏆 Best Training Accuracy: 96.382% (Updated)\n",
      "📏 Sizes → ActivationHist: 5083 | TestAccHist: 0 | TrainLossHist: 31\n"
     ]
    },
    {
     "name": "stderr",
     "output_type": "stream",
     "text": [
      "Testing Epoch 30: 100%|██████████| 79/79 [00:01<00:00, 55.54it/s, Test_acc=90.3, Test_loss=0.338]\n"
     ]
    },
    {
     "name": "stdout",
     "output_type": "stream",
     "text": [
      "📊 Test Accuracy: 90.300% | 🏆 Best Test Accuracy: 90.540%\n",
      "📜 Test logs saved to C:\\Users\\emeka\\Research\\ModelCUDA\\Big_Data_Journal\\Comparison\\Code\\Paper\\github2\\CIFAR10\\VGG16\\Results\\CIFAR10_Test_B128_LR0.001_FFTGate_VGG16_Adam.txt!\n",
      "\n"
     ]
    },
    {
     "name": "stderr",
     "output_type": "stream",
     "text": [
      "Epoch 31: 100%|██████████| 391/391 [00:26<00:00, 15.03it/s, Train_acc=96.5, Train_loss=0.131]\n"
     ]
    },
    {
     "name": "stdout",
     "output_type": "stream",
     "text": [
      "Epoch 31: M_Optimizer LR => 0.00100 | Gamma1 LR => 0.00998 | Gamma1: ['2.27152', '2.31508', '2.29364', '2.30977', '2.28689', '2.30741', '2.30961', '2.28659', '2.29416', '2.29165', '2.26241', '2.28830', '2.28961'] | Gamma1 Grad: ['-0.00051', '0.00856', '0.00898', '-0.00563', '0.01403', '0.00676', '0.00218', '0.00293', '0.00170', '-0.00061', '-0.00143', '-0.00027', '0.00091']\n",
      "📜 Logs saved to C:\\Users\\emeka\\Research\\ModelCUDA\\Big_Data_Journal\\Comparison\\Code\\Paper\\github2\\CIFAR10\\VGG16\\Results\\FFTGate\\FFTGate_training_logs.txt!\n",
      "🏆 New Best Training Accuracy: 96.488% (Updated)\n",
      "📊 Train Accuracy: 96.488% | 🏆 Best Train Accuracy: 96.488%\n",
      "📜 Training logs saved to ./Results/CIFAR10_Train_B128_LR0.001_FFTGate_VGG16_Adam.txt!\n",
      "🏆 Best Training Accuracy: 96.488% (Updated)\n"
     ]
    },
    {
     "name": "stderr",
     "output_type": "stream",
     "text": [
      "Testing Epoch 31: 100%|██████████| 79/79 [00:01<00:00, 54.40it/s, Test_acc=90.9, Test_loss=0.32] \n"
     ]
    },
    {
     "name": "stdout",
     "output_type": "stream",
     "text": [
      "🏆 Saving best model...\n",
      "Checkpoint saved: ./checkpoint/CIFAR10_B128_LR0_001_FFTGate_VGG16_Adam.t7\n",
      "📊 Test Accuracy: 90.870% | 🏆 Best Test Accuracy: 90.870%\n",
      "📜 Test logs saved to C:\\Users\\emeka\\Research\\ModelCUDA\\Big_Data_Journal\\Comparison\\Code\\Paper\\github2\\CIFAR10\\VGG16\\Results\\CIFAR10_Test_B128_LR0.001_FFTGate_VGG16_Adam.txt!\n",
      "\n"
     ]
    },
    {
     "name": "stderr",
     "output_type": "stream",
     "text": [
      "Epoch 32: 100%|██████████| 391/391 [00:25<00:00, 15.13it/s, Train_acc=96.7, Train_loss=0.123]\n"
     ]
    },
    {
     "name": "stdout",
     "output_type": "stream",
     "text": [
      "Epoch 32: M_Optimizer LR => 0.00100 | Gamma1 LR => 0.00994 | Gamma1: ['2.28487', '2.27453', '2.26242', '2.28009', '2.28210', '2.29617', '2.29143', '2.28407', '2.28066', '2.28291', '2.26873', '2.27922', '2.30167'] | Gamma1 Grad: ['0.00631', '0.00333', '-0.01913', '-0.00182', '0.00605', '-0.00898', '0.00154', '0.00280', '0.00312', '0.00304', '0.00116', '0.00655', '-0.00353']\n",
      "📜 Logs saved to C:\\Users\\emeka\\Research\\ModelCUDA\\Big_Data_Journal\\Comparison\\Code\\Paper\\github2\\CIFAR10\\VGG16\\Results\\FFTGate\\FFTGate_training_logs.txt!\n",
      "🏆 New Best Training Accuracy: 96.738% (Updated)\n",
      "📊 Train Accuracy: 96.738% | 🏆 Best Train Accuracy: 96.738%\n",
      "📜 Training logs saved to ./Results/CIFAR10_Train_B128_LR0.001_FFTGate_VGG16_Adam.txt!\n",
      "🏆 Best Training Accuracy: 96.738% (Updated)\n"
     ]
    },
    {
     "name": "stderr",
     "output_type": "stream",
     "text": [
      "Testing Epoch 32: 100%|██████████| 79/79 [00:01<00:00, 55.76it/s, Test_acc=89.9, Test_loss=0.376]\n"
     ]
    },
    {
     "name": "stdout",
     "output_type": "stream",
     "text": [
      "📊 Test Accuracy: 89.910% | 🏆 Best Test Accuracy: 90.870%\n",
      "📜 Test logs saved to C:\\Users\\emeka\\Research\\ModelCUDA\\Big_Data_Journal\\Comparison\\Code\\Paper\\github2\\CIFAR10\\VGG16\\Results\\CIFAR10_Test_B128_LR0.001_FFTGate_VGG16_Adam.txt!\n",
      "\n"
     ]
    },
    {
     "name": "stderr",
     "output_type": "stream",
     "text": [
      "Epoch 33: 100%|██████████| 391/391 [00:25<00:00, 15.28it/s, Train_acc=97, Train_loss=0.116]  \n"
     ]
    },
    {
     "name": "stdout",
     "output_type": "stream",
     "text": [
      "Epoch 33: M_Optimizer LR => 0.00100 | Gamma1 LR => 0.00986 | Gamma1: ['2.28592', '2.28783', '2.26635', '2.30077', '2.29367', '2.29921', '2.27922', '2.29119', '2.28678', '2.27946', '2.26620', '2.27870', '2.28508'] | Gamma1 Grad: ['0.00272', '-0.00029', '0.00367', '-0.00032', '0.00644', '0.00080', '-0.00067', '0.00259', '0.00304', '0.00099', '0.00387', '0.00145', '0.00275']\n",
      "📜 Logs saved to C:\\Users\\emeka\\Research\\ModelCUDA\\Big_Data_Journal\\Comparison\\Code\\Paper\\github2\\CIFAR10\\VGG16\\Results\\FFTGate\\FFTGate_training_logs.txt!\n",
      "🏆 New Best Training Accuracy: 97.048% (Updated)\n",
      "📊 Train Accuracy: 97.048% | 🏆 Best Train Accuracy: 97.048%\n",
      "📜 Training logs saved to ./Results/CIFAR10_Train_B128_LR0.001_FFTGate_VGG16_Adam.txt!\n",
      "🏆 Best Training Accuracy: 97.048% (Updated)\n"
     ]
    },
    {
     "name": "stderr",
     "output_type": "stream",
     "text": [
      "Testing Epoch 33: 100%|██████████| 79/79 [00:01<00:00, 55.64it/s, Test_acc=90.3, Test_loss=0.348]\n"
     ]
    },
    {
     "name": "stdout",
     "output_type": "stream",
     "text": [
      "📊 Test Accuracy: 90.320% | 🏆 Best Test Accuracy: 90.870%\n",
      "📜 Test logs saved to C:\\Users\\emeka\\Research\\ModelCUDA\\Big_Data_Journal\\Comparison\\Code\\Paper\\github2\\CIFAR10\\VGG16\\Results\\CIFAR10_Test_B128_LR0.001_FFTGate_VGG16_Adam.txt!\n",
      "\n"
     ]
    },
    {
     "name": "stderr",
     "output_type": "stream",
     "text": [
      "Epoch 34: 100%|██████████| 391/391 [00:25<00:00, 15.30it/s, Train_acc=97, Train_loss=0.113]  \n"
     ]
    },
    {
     "name": "stdout",
     "output_type": "stream",
     "text": [
      "Epoch 34: M_Optimizer LR => 0.00100 | Gamma1 LR => 0.00976 | Gamma1: ['2.29818', '2.28293', '2.28744', '2.28785', '2.30844', '2.30801', '2.27579', '2.28150', '2.26648', '2.27126', '2.29016', '2.27707', '2.29067'] | Gamma1 Grad: ['-0.00092', '-0.00492', '-0.01059', '-0.00751', '0.00592', '-0.00414', '-0.00164', '0.00224', '-0.00076', '-0.00145', '0.00061', '0.00098', '-0.00180']\n",
      "📜 Logs saved to C:\\Users\\emeka\\Research\\ModelCUDA\\Big_Data_Journal\\Comparison\\Code\\Paper\\github2\\CIFAR10\\VGG16\\Results\\FFTGate\\FFTGate_training_logs.txt!\n",
      "📊 Train Accuracy: 96.992% | 🏆 Best Train Accuracy: 97.048%\n",
      "📜 Training logs saved to ./Results/CIFAR10_Train_B128_LR0.001_FFTGate_VGG16_Adam.txt!\n",
      "🏆 Best Training Accuracy: 97.048% (Updated)\n"
     ]
    },
    {
     "name": "stderr",
     "output_type": "stream",
     "text": [
      "Testing Epoch 34: 100%|██████████| 79/79 [00:01<00:00, 55.91it/s, Test_acc=90.3, Test_loss=0.356]\n"
     ]
    },
    {
     "name": "stdout",
     "output_type": "stream",
     "text": [
      "📊 Test Accuracy: 90.320% | 🏆 Best Test Accuracy: 90.870%\n",
      "📜 Test logs saved to C:\\Users\\emeka\\Research\\ModelCUDA\\Big_Data_Journal\\Comparison\\Code\\Paper\\github2\\CIFAR10\\VGG16\\Results\\CIFAR10_Test_B128_LR0.001_FFTGate_VGG16_Adam.txt!\n",
      "\n"
     ]
    },
    {
     "name": "stderr",
     "output_type": "stream",
     "text": [
      "Epoch 35: 100%|██████████| 391/391 [00:25<00:00, 15.33it/s, Train_acc=97.1, Train_loss=0.111]\n"
     ]
    },
    {
     "name": "stdout",
     "output_type": "stream",
     "text": [
      "Epoch 35: M_Optimizer LR => 0.00100 | Gamma1 LR => 0.00962 | Gamma1: ['2.26623', '2.30513', '2.26298', '2.28011', '2.28965', '2.28806', '2.28429', '2.28091', '2.28531', '2.28002', '2.27582', '2.27344', '2.27999'] | Gamma1 Grad: ['-0.00162', '0.01228', '-0.00974', '0.00503', '0.00522', '-0.00412', '0.00146', '0.00270', '0.00342', '-0.00020', '0.00414', '-0.00117', '0.00154']\n",
      "📜 Logs saved to C:\\Users\\emeka\\Research\\ModelCUDA\\Big_Data_Journal\\Comparison\\Code\\Paper\\github2\\CIFAR10\\VGG16\\Results\\FFTGate\\FFTGate_training_logs.txt!\n",
      "🏆 New Best Training Accuracy: 97.144% (Updated)\n",
      "📊 Train Accuracy: 97.144% | 🏆 Best Train Accuracy: 97.144%\n",
      "📜 Training logs saved to ./Results/CIFAR10_Train_B128_LR0.001_FFTGate_VGG16_Adam.txt!\n",
      "🏆 Best Training Accuracy: 97.144% (Updated)\n"
     ]
    },
    {
     "name": "stderr",
     "output_type": "stream",
     "text": [
      "Testing Epoch 35: 100%|██████████| 79/79 [00:01<00:00, 56.21it/s, Test_acc=90.8, Test_loss=0.326]\n"
     ]
    },
    {
     "name": "stdout",
     "output_type": "stream",
     "text": [
      "📊 Test Accuracy: 90.790% | 🏆 Best Test Accuracy: 90.870%\n",
      "📜 Test logs saved to C:\\Users\\emeka\\Research\\ModelCUDA\\Big_Data_Journal\\Comparison\\Code\\Paper\\github2\\CIFAR10\\VGG16\\Results\\CIFAR10_Test_B128_LR0.001_FFTGate_VGG16_Adam.txt!\n",
      "\n"
     ]
    },
    {
     "name": "stderr",
     "output_type": "stream",
     "text": [
      "Epoch 36: 100%|██████████| 391/391 [00:25<00:00, 15.20it/s, Train_acc=97.2, Train_loss=0.107]\n"
     ]
    },
    {
     "name": "stdout",
     "output_type": "stream",
     "text": [
      "Epoch 36: M_Optimizer LR => 0.00100 | Gamma1 LR => 0.00946 | Gamma1: ['2.29251', '2.29328', '2.26412', '2.30619', '2.27900', '2.27279', '2.28910', '2.28447', '2.29048', '2.28847', '2.29726', '2.28763', '2.29671'] | Gamma1 Grad: ['0.00027', '-0.01316', '-0.00040', '0.00233', '-0.02235', '0.00169', '0.00288', '-0.00003', '-0.00202', '-0.00006', '-0.00275', '-0.00043', '0.00418']\n",
      "📜 Logs saved to C:\\Users\\emeka\\Research\\ModelCUDA\\Big_Data_Journal\\Comparison\\Code\\Paper\\github2\\CIFAR10\\VGG16\\Results\\FFTGate\\FFTGate_training_logs.txt!\n",
      "🏆 New Best Training Accuracy: 97.186% (Updated)\n",
      "📊 Train Accuracy: 97.186% | 🏆 Best Train Accuracy: 97.186%\n",
      "📜 Training logs saved to ./Results/CIFAR10_Train_B128_LR0.001_FFTGate_VGG16_Adam.txt!\n",
      "🏆 Best Training Accuracy: 97.186% (Updated)\n"
     ]
    },
    {
     "name": "stderr",
     "output_type": "stream",
     "text": [
      "Testing Epoch 36: 100%|██████████| 79/79 [00:01<00:00, 55.77it/s, Test_acc=90.6, Test_loss=0.347]\n"
     ]
    },
    {
     "name": "stdout",
     "output_type": "stream",
     "text": [
      "📊 Test Accuracy: 90.580% | 🏆 Best Test Accuracy: 90.870%\n",
      "📜 Test logs saved to C:\\Users\\emeka\\Research\\ModelCUDA\\Big_Data_Journal\\Comparison\\Code\\Paper\\github2\\CIFAR10\\VGG16\\Results\\CIFAR10_Test_B128_LR0.001_FFTGate_VGG16_Adam.txt!\n",
      "\n"
     ]
    },
    {
     "name": "stderr",
     "output_type": "stream",
     "text": [
      "Epoch 37: 100%|██████████| 391/391 [00:26<00:00, 15.04it/s, Train_acc=97.5, Train_loss=0.101]\n"
     ]
    },
    {
     "name": "stdout",
     "output_type": "stream",
     "text": [
      "Epoch 37: M_Optimizer LR => 0.00100 | Gamma1 LR => 0.00927 | Gamma1: ['2.28846', '2.30621', '2.27465', '2.27553', '2.26990', '2.28917', '2.26767', '2.27299', '2.28293', '2.27681', '2.28731', '2.27346', '2.26726'] | Gamma1 Grad: ['-0.00236', '-0.00919', '-0.00823', '-0.00296', '-0.00700', '0.00661', '-0.00431', '-0.00295', '-0.00167', '-0.00008', '0.00138', '-0.00272', '-0.00346']\n",
      "📜 Logs saved to C:\\Users\\emeka\\Research\\ModelCUDA\\Big_Data_Journal\\Comparison\\Code\\Paper\\github2\\CIFAR10\\VGG16\\Results\\FFTGate\\FFTGate_training_logs.txt!\n",
      "🏆 New Best Training Accuracy: 97.462% (Updated)\n",
      "📊 Train Accuracy: 97.462% | 🏆 Best Train Accuracy: 97.462%\n",
      "📜 Training logs saved to ./Results/CIFAR10_Train_B128_LR0.001_FFTGate_VGG16_Adam.txt!\n",
      "🏆 Best Training Accuracy: 97.462% (Updated)\n"
     ]
    },
    {
     "name": "stderr",
     "output_type": "stream",
     "text": [
      "Testing Epoch 37: 100%|██████████| 79/79 [00:01<00:00, 55.73it/s, Test_acc=91, Test_loss=0.335]  \n"
     ]
    },
    {
     "name": "stdout",
     "output_type": "stream",
     "text": [
      "🏆 Saving best model...\n",
      "Checkpoint saved: ./checkpoint/CIFAR10_B128_LR0_001_FFTGate_VGG16_Adam.t7\n",
      "📊 Test Accuracy: 90.960% | 🏆 Best Test Accuracy: 90.960%\n",
      "📜 Test logs saved to C:\\Users\\emeka\\Research\\ModelCUDA\\Big_Data_Journal\\Comparison\\Code\\Paper\\github2\\CIFAR10\\VGG16\\Results\\CIFAR10_Test_B128_LR0.001_FFTGate_VGG16_Adam.txt!\n",
      "\n"
     ]
    },
    {
     "name": "stderr",
     "output_type": "stream",
     "text": [
      "Epoch 38: 100%|██████████| 391/391 [00:25<00:00, 15.33it/s, Train_acc=97.4, Train_loss=0.1]  \n"
     ]
    },
    {
     "name": "stdout",
     "output_type": "stream",
     "text": [
      "Epoch 38: M_Optimizer LR => 0.00100 | Gamma1 LR => 0.00905 | Gamma1: ['2.28271', '2.30672', '2.29256', '2.29413', '2.26587', '2.28458', '2.27670', '2.28835', '2.28039', '2.27853', '2.30004', '2.27318', '2.26244'] | Gamma1 Grad: ['-0.00020', '0.00729', '0.00811', '0.00933', '-0.01572', '0.00706', '-0.00636', '-0.00041', '0.00023', '0.00351', '0.00604', '0.00126', '-0.00095']\n",
      "📜 Logs saved to C:\\Users\\emeka\\Research\\ModelCUDA\\Big_Data_Journal\\Comparison\\Code\\Paper\\github2\\CIFAR10\\VGG16\\Results\\FFTGate\\FFTGate_training_logs.txt!\n",
      "📊 Train Accuracy: 97.442% | 🏆 Best Train Accuracy: 97.462%\n",
      "📜 Training logs saved to ./Results/CIFAR10_Train_B128_LR0.001_FFTGate_VGG16_Adam.txt!\n",
      "🏆 Best Training Accuracy: 97.462% (Updated)\n"
     ]
    },
    {
     "name": "stderr",
     "output_type": "stream",
     "text": [
      "Testing Epoch 38: 100%|██████████| 79/79 [00:01<00:00, 55.62it/s, Test_acc=90.6, Test_loss=0.34] \n"
     ]
    },
    {
     "name": "stdout",
     "output_type": "stream",
     "text": [
      "📊 Test Accuracy: 90.590% | 🏆 Best Test Accuracy: 90.960%\n",
      "📜 Test logs saved to C:\\Users\\emeka\\Research\\ModelCUDA\\Big_Data_Journal\\Comparison\\Code\\Paper\\github2\\CIFAR10\\VGG16\\Results\\CIFAR10_Test_B128_LR0.001_FFTGate_VGG16_Adam.txt!\n",
      "\n"
     ]
    },
    {
     "name": "stderr",
     "output_type": "stream",
     "text": [
      "Epoch 39: 100%|██████████| 391/391 [00:25<00:00, 15.55it/s, Train_acc=97.5, Train_loss=0.097]\n"
     ]
    },
    {
     "name": "stdout",
     "output_type": "stream",
     "text": [
      "Epoch 39: M_Optimizer LR => 0.00100 | Gamma1 LR => 0.00881 | Gamma1: ['2.28498', '2.29815', '2.26828', '2.28016', '2.28817', '2.30114', '2.28221', '2.28814', '2.28975', '2.29087', '2.28495', '2.28472', '2.26909'] | Gamma1 Grad: ['-0.00295', '-0.00119', '0.00027', '-0.01067', '-0.00045', '-0.00502', '-0.00352', '0.00173', '0.00104', '0.00074', '-0.00204', '0.00247', '-0.00096']\n",
      "📜 Logs saved to C:\\Users\\emeka\\Research\\ModelCUDA\\Big_Data_Journal\\Comparison\\Code\\Paper\\github2\\CIFAR10\\VGG16\\Results\\FFTGate\\FFTGate_training_logs.txt!\n",
      "🏆 New Best Training Accuracy: 97.546% (Updated)\n",
      "📊 Train Accuracy: 97.546% | 🏆 Best Train Accuracy: 97.546%\n",
      "📜 Training logs saved to ./Results/CIFAR10_Train_B128_LR0.001_FFTGate_VGG16_Adam.txt!\n",
      "🏆 Best Training Accuracy: 97.546% (Updated)\n"
     ]
    },
    {
     "name": "stderr",
     "output_type": "stream",
     "text": [
      "Testing Epoch 39: 100%|██████████| 79/79 [00:01<00:00, 55.96it/s, Test_acc=90.7, Test_loss=0.349]\n"
     ]
    },
    {
     "name": "stdout",
     "output_type": "stream",
     "text": [
      "📊 Test Accuracy: 90.680% | 🏆 Best Test Accuracy: 90.960%\n",
      "📜 Test logs saved to C:\\Users\\emeka\\Research\\ModelCUDA\\Big_Data_Journal\\Comparison\\Code\\Paper\\github2\\CIFAR10\\VGG16\\Results\\CIFAR10_Test_B128_LR0.001_FFTGate_VGG16_Adam.txt!\n",
      "\n"
     ]
    },
    {
     "name": "stderr",
     "output_type": "stream",
     "text": [
      "Epoch 40: 100%|██████████| 391/391 [00:25<00:00, 15.06it/s, Train_acc=97.7, Train_loss=0.092]\n"
     ]
    },
    {
     "name": "stdout",
     "output_type": "stream",
     "text": [
      "Epoch 40: M_Optimizer LR => 0.00100 | Gamma1 LR => 0.00854 | Gamma1: ['2.31387', '2.31580', '2.35217', '2.27127', '2.29276', '2.30209', '2.27471', '2.31124', '2.30332', '2.30054', '2.29132', '2.29658', '2.27100'] | Gamma1 Grad: ['0.00303', '0.00094', '0.00635', '-0.00066', '0.00646', '-0.00047', '-0.00227', '0.00383', '-0.00050', '0.00045', '-0.00161', '0.00288', '0.00111']\n",
      "📜 Logs saved to C:\\Users\\emeka\\Research\\ModelCUDA\\Big_Data_Journal\\Comparison\\Code\\Paper\\github2\\CIFAR10\\VGG16\\Results\\FFTGate\\FFTGate_training_logs.txt!\n",
      "🏆 New Best Training Accuracy: 97.746% (Updated)\n",
      "📊 Train Accuracy: 97.746% | 🏆 Best Train Accuracy: 97.746%\n",
      "📜 Training logs saved to ./Results/CIFAR10_Train_B128_LR0.001_FFTGate_VGG16_Adam.txt!\n",
      "🏆 Best Training Accuracy: 97.746% (Updated)\n",
      "📏 Sizes → ActivationHist: 5083 | TestAccHist: 0 | TrainLossHist: 41\n"
     ]
    },
    {
     "name": "stderr",
     "output_type": "stream",
     "text": [
      "Testing Epoch 40: 100%|██████████| 79/79 [00:01<00:00, 55.24it/s, Test_acc=91, Test_loss=0.345]  \n"
     ]
    },
    {
     "name": "stdout",
     "output_type": "stream",
     "text": [
      "🏆 Saving best model...\n",
      "Checkpoint saved: ./checkpoint/CIFAR10_B128_LR0_001_FFTGate_VGG16_Adam.t7\n",
      "📊 Test Accuracy: 90.980% | 🏆 Best Test Accuracy: 90.980%\n",
      "📜 Test logs saved to C:\\Users\\emeka\\Research\\ModelCUDA\\Big_Data_Journal\\Comparison\\Code\\Paper\\github2\\CIFAR10\\VGG16\\Results\\CIFAR10_Test_B128_LR0.001_FFTGate_VGG16_Adam.txt!\n",
      "\n"
     ]
    },
    {
     "name": "stderr",
     "output_type": "stream",
     "text": [
      "Epoch 41: 100%|██████████| 391/391 [00:25<00:00, 15.26it/s, Train_acc=97.6, Train_loss=0.093]\n"
     ]
    },
    {
     "name": "stdout",
     "output_type": "stream",
     "text": [
      "Epoch 41: M_Optimizer LR => 0.00100 | Gamma1 LR => 0.00826 | Gamma1: ['2.28669', '2.29058', '2.30358', '2.24882', '2.31282', '2.29130', '2.30667', '2.30756', '2.28373', '2.28635', '2.27284', '2.30472', '2.28438'] | Gamma1 Grad: ['-0.00073', '-0.00103', '-0.00113', '-0.00474', '0.00774', '0.00018', '-0.00086', '0.00020', '-0.00249', '-0.00004', '-0.00066', '0.00132', '0.00006']\n",
      "📜 Logs saved to C:\\Users\\emeka\\Research\\ModelCUDA\\Big_Data_Journal\\Comparison\\Code\\Paper\\github2\\CIFAR10\\VGG16\\Results\\FFTGate\\FFTGate_training_logs.txt!\n",
      "📊 Train Accuracy: 97.634% | 🏆 Best Train Accuracy: 97.746%\n",
      "📜 Training logs saved to ./Results/CIFAR10_Train_B128_LR0.001_FFTGate_VGG16_Adam.txt!\n",
      "🏆 Best Training Accuracy: 97.746% (Updated)\n"
     ]
    },
    {
     "name": "stderr",
     "output_type": "stream",
     "text": [
      "Testing Epoch 41: 100%|██████████| 79/79 [00:01<00:00, 56.35it/s, Test_acc=90.9, Test_loss=0.342]\n"
     ]
    },
    {
     "name": "stdout",
     "output_type": "stream",
     "text": [
      "📊 Test Accuracy: 90.940% | 🏆 Best Test Accuracy: 90.980%\n",
      "📜 Test logs saved to C:\\Users\\emeka\\Research\\ModelCUDA\\Big_Data_Journal\\Comparison\\Code\\Paper\\github2\\CIFAR10\\VGG16\\Results\\CIFAR10_Test_B128_LR0.001_FFTGate_VGG16_Adam.txt!\n",
      "\n"
     ]
    },
    {
     "name": "stderr",
     "output_type": "stream",
     "text": [
      "Epoch 42: 100%|██████████| 391/391 [00:25<00:00, 15.37it/s, Train_acc=97.8, Train_loss=0.09] \n"
     ]
    },
    {
     "name": "stdout",
     "output_type": "stream",
     "text": [
      "Epoch 42: M_Optimizer LR => 0.00100 | Gamma1 LR => 0.00795 | Gamma1: ['2.30862', '2.27972', '2.27975', '2.27774', '2.29630', '2.31064', '2.30392', '2.29925', '2.29646', '2.28668', '2.27240', '2.29671', '2.31507'] | Gamma1 Grad: ['-0.00156', '0.00566', '-0.00172', '0.01094', '0.00595', '0.00268', '-0.00314', '-0.00306', '-0.00301', '-0.00199', '-0.00679', '-0.00228', '0.00368']\n",
      "📜 Logs saved to C:\\Users\\emeka\\Research\\ModelCUDA\\Big_Data_Journal\\Comparison\\Code\\Paper\\github2\\CIFAR10\\VGG16\\Results\\FFTGate\\FFTGate_training_logs.txt!\n",
      "🏆 New Best Training Accuracy: 97.816% (Updated)\n",
      "📊 Train Accuracy: 97.816% | 🏆 Best Train Accuracy: 97.816%\n",
      "📜 Training logs saved to ./Results/CIFAR10_Train_B128_LR0.001_FFTGate_VGG16_Adam.txt!\n",
      "🏆 Best Training Accuracy: 97.816% (Updated)\n"
     ]
    },
    {
     "name": "stderr",
     "output_type": "stream",
     "text": [
      "Testing Epoch 42: 100%|██████████| 79/79 [00:01<00:00, 56.12it/s, Test_acc=91.1, Test_loss=0.338]\n"
     ]
    },
    {
     "name": "stdout",
     "output_type": "stream",
     "text": [
      "🏆 Saving best model...\n",
      "Checkpoint saved: ./checkpoint/CIFAR10_B128_LR0_001_FFTGate_VGG16_Adam.t7\n",
      "📊 Test Accuracy: 91.130% | 🏆 Best Test Accuracy: 91.130%\n",
      "📜 Test logs saved to C:\\Users\\emeka\\Research\\ModelCUDA\\Big_Data_Journal\\Comparison\\Code\\Paper\\github2\\CIFAR10\\VGG16\\Results\\CIFAR10_Test_B128_LR0.001_FFTGate_VGG16_Adam.txt!\n",
      "\n"
     ]
    },
    {
     "name": "stderr",
     "output_type": "stream",
     "text": [
      "Epoch 43: 100%|██████████| 391/391 [00:25<00:00, 15.45it/s, Train_acc=98.1, Train_loss=0.083]\n"
     ]
    },
    {
     "name": "stdout",
     "output_type": "stream",
     "text": [
      "Epoch 43: M_Optimizer LR => 0.00100 | Gamma1 LR => 0.00762 | Gamma1: ['2.31053', '2.26225', '2.30379', '2.30220', '2.29590', '2.28852', '2.30111', '2.27317', '2.28647', '2.28769', '2.28116', '2.26082', '2.28615'] | Gamma1 Grad: ['-0.00463', '0.00161', '0.00171', '0.00052', '-0.00249', '0.00715', '-0.00671', '-0.00301', '-0.00683', '-0.00193', '-0.00776', '-0.00189', '0.00079']\n",
      "📜 Logs saved to C:\\Users\\emeka\\Research\\ModelCUDA\\Big_Data_Journal\\Comparison\\Code\\Paper\\github2\\CIFAR10\\VGG16\\Results\\FFTGate\\FFTGate_training_logs.txt!\n",
      "🏆 New Best Training Accuracy: 98.056% (Updated)\n",
      "📊 Train Accuracy: 98.056% | 🏆 Best Train Accuracy: 98.056%\n",
      "📜 Training logs saved to ./Results/CIFAR10_Train_B128_LR0.001_FFTGate_VGG16_Adam.txt!\n",
      "🏆 Best Training Accuracy: 98.056% (Updated)\n"
     ]
    },
    {
     "name": "stderr",
     "output_type": "stream",
     "text": [
      "Testing Epoch 43: 100%|██████████| 79/79 [00:01<00:00, 56.14it/s, Test_acc=91.1, Test_loss=0.361]\n"
     ]
    },
    {
     "name": "stdout",
     "output_type": "stream",
     "text": [
      "📊 Test Accuracy: 91.070% | 🏆 Best Test Accuracy: 91.130%\n",
      "📜 Test logs saved to C:\\Users\\emeka\\Research\\ModelCUDA\\Big_Data_Journal\\Comparison\\Code\\Paper\\github2\\CIFAR10\\VGG16\\Results\\CIFAR10_Test_B128_LR0.001_FFTGate_VGG16_Adam.txt!\n",
      "\n"
     ]
    },
    {
     "name": "stderr",
     "output_type": "stream",
     "text": [
      "Epoch 44: 100%|██████████| 391/391 [00:25<00:00, 15.25it/s, Train_acc=98.1, Train_loss=0.084]\n"
     ]
    },
    {
     "name": "stdout",
     "output_type": "stream",
     "text": [
      "Epoch 44: M_Optimizer LR => 0.00100 | Gamma1 LR => 0.00728 | Gamma1: ['2.33412', '2.29386', '2.29782', '2.29081', '2.31307', '2.27895', '2.28848', '2.29278', '2.28097', '2.28718', '2.29233', '2.28418', '2.27429'] | Gamma1 Grad: ['0.00375', '0.00052', '0.00141', '-0.00321', '0.00484', '0.00696', '0.00034', '0.00002', '-0.00322', '-0.00153', '-0.00053', '0.00093', '-0.00118']\n",
      "📜 Logs saved to C:\\Users\\emeka\\Research\\ModelCUDA\\Big_Data_Journal\\Comparison\\Code\\Paper\\github2\\CIFAR10\\VGG16\\Results\\FFTGate\\FFTGate_training_logs.txt!\n",
      "🏆 New Best Training Accuracy: 98.058% (Updated)\n",
      "📊 Train Accuracy: 98.058% | 🏆 Best Train Accuracy: 98.058%\n",
      "📜 Training logs saved to ./Results/CIFAR10_Train_B128_LR0.001_FFTGate_VGG16_Adam.txt!\n",
      "🏆 Best Training Accuracy: 98.058% (Updated)\n"
     ]
    },
    {
     "name": "stderr",
     "output_type": "stream",
     "text": [
      "Testing Epoch 44: 100%|██████████| 79/79 [00:01<00:00, 55.07it/s, Test_acc=91, Test_loss=0.342]  \n"
     ]
    },
    {
     "name": "stdout",
     "output_type": "stream",
     "text": [
      "📊 Test Accuracy: 91.040% | 🏆 Best Test Accuracy: 91.130%\n",
      "📜 Test logs saved to C:\\Users\\emeka\\Research\\ModelCUDA\\Big_Data_Journal\\Comparison\\Code\\Paper\\github2\\CIFAR10\\VGG16\\Results\\CIFAR10_Test_B128_LR0.001_FFTGate_VGG16_Adam.txt!\n",
      "\n"
     ]
    },
    {
     "name": "stderr",
     "output_type": "stream",
     "text": [
      "Epoch 45: 100%|██████████| 391/391 [00:25<00:00, 15.10it/s, Train_acc=98.1, Train_loss=0.082]\n"
     ]
    },
    {
     "name": "stdout",
     "output_type": "stream",
     "text": [
      "Epoch 45: M_Optimizer LR => 0.00100 | Gamma1 LR => 0.00693 | Gamma1: ['2.30914', '2.31318', '2.28268', '2.29842', '2.30666', '2.29988', '2.29709', '2.29654', '2.29187', '2.28079', '2.29288', '2.28558', '2.27896'] | Gamma1 Grad: ['0.00286', '0.00585', '0.00223', '0.00140', '-0.00284', '0.00407', '0.00060', '-0.00037', '0.00058', '-0.00112', '-0.00085', '-0.00165', '0.00145']\n",
      "📜 Logs saved to C:\\Users\\emeka\\Research\\ModelCUDA\\Big_Data_Journal\\Comparison\\Code\\Paper\\github2\\CIFAR10\\VGG16\\Results\\FFTGate\\FFTGate_training_logs.txt!\n",
      "🏆 New Best Training Accuracy: 98.068% (Updated)\n",
      "📊 Train Accuracy: 98.068% | 🏆 Best Train Accuracy: 98.068%\n",
      "📜 Training logs saved to ./Results/CIFAR10_Train_B128_LR0.001_FFTGate_VGG16_Adam.txt!\n",
      "🏆 Best Training Accuracy: 98.068% (Updated)\n"
     ]
    },
    {
     "name": "stderr",
     "output_type": "stream",
     "text": [
      "Testing Epoch 45: 100%|██████████| 79/79 [00:01<00:00, 54.34it/s, Test_acc=91, Test_loss=0.355]  \n"
     ]
    },
    {
     "name": "stdout",
     "output_type": "stream",
     "text": [
      "📊 Test Accuracy: 91.010% | 🏆 Best Test Accuracy: 91.130%\n",
      "📜 Test logs saved to C:\\Users\\emeka\\Research\\ModelCUDA\\Big_Data_Journal\\Comparison\\Code\\Paper\\github2\\CIFAR10\\VGG16\\Results\\CIFAR10_Test_B128_LR0.001_FFTGate_VGG16_Adam.txt!\n",
      "\n"
     ]
    },
    {
     "name": "stderr",
     "output_type": "stream",
     "text": [
      "Epoch 46: 100%|██████████| 391/391 [00:25<00:00, 15.22it/s, Train_acc=98.1, Train_loss=0.08] \n"
     ]
    },
    {
     "name": "stdout",
     "output_type": "stream",
     "text": [
      "Epoch 46: M_Optimizer LR => 0.00100 | Gamma1 LR => 0.00656 | Gamma1: ['2.29140', '2.30473', '2.31655', '2.29939', '2.29372', '2.30778', '2.29751', '2.28991', '2.27142', '2.28073', '2.30211', '2.26725', '2.27189'] | Gamma1 Grad: ['0.00282', '-0.00307', '0.01428', '-0.00169', '0.00838', '-0.00113', '-0.00286', '0.00207', '0.00381', '0.00212', '0.00743', '0.00051', '-0.00224']\n",
      "📜 Logs saved to C:\\Users\\emeka\\Research\\ModelCUDA\\Big_Data_Journal\\Comparison\\Code\\Paper\\github2\\CIFAR10\\VGG16\\Results\\FFTGate\\FFTGate_training_logs.txt!\n",
      "🏆 New Best Training Accuracy: 98.104% (Updated)\n",
      "📊 Train Accuracy: 98.104% | 🏆 Best Train Accuracy: 98.104%\n",
      "📜 Training logs saved to ./Results/CIFAR10_Train_B128_LR0.001_FFTGate_VGG16_Adam.txt!\n",
      "🏆 Best Training Accuracy: 98.104% (Updated)\n"
     ]
    },
    {
     "name": "stderr",
     "output_type": "stream",
     "text": [
      "Testing Epoch 46: 100%|██████████| 79/79 [00:01<00:00, 55.09it/s, Test_acc=90.9, Test_loss=0.383]\n"
     ]
    },
    {
     "name": "stdout",
     "output_type": "stream",
     "text": [
      "📊 Test Accuracy: 90.940% | 🏆 Best Test Accuracy: 91.130%\n",
      "📜 Test logs saved to C:\\Users\\emeka\\Research\\ModelCUDA\\Big_Data_Journal\\Comparison\\Code\\Paper\\github2\\CIFAR10\\VGG16\\Results\\CIFAR10_Test_B128_LR0.001_FFTGate_VGG16_Adam.txt!\n",
      "\n"
     ]
    },
    {
     "name": "stderr",
     "output_type": "stream",
     "text": [
      "Epoch 47: 100%|██████████| 391/391 [00:26<00:00, 14.99it/s, Train_acc=98.1, Train_loss=0.08] \n"
     ]
    },
    {
     "name": "stdout",
     "output_type": "stream",
     "text": [
      "Epoch 47: M_Optimizer LR => 0.00100 | Gamma1 LR => 0.00619 | Gamma1: ['2.30743', '2.32938', '2.29504', '2.29914', '2.29508', '2.29498', '2.29746', '2.27548', '2.27113', '2.27604', '2.28387', '2.27097', '2.28733'] | Gamma1 Grad: ['0.00434', '-0.00200', '0.00056', '-0.00190', '0.00308', '0.00722', '0.00170', '-0.00164', '-0.00215', '-0.00122', '-0.00327', '-0.00167', '0.00212']\n",
      "📜 Logs saved to C:\\Users\\emeka\\Research\\ModelCUDA\\Big_Data_Journal\\Comparison\\Code\\Paper\\github2\\CIFAR10\\VGG16\\Results\\FFTGate\\FFTGate_training_logs.txt!\n",
      "🏆 New Best Training Accuracy: 98.132% (Updated)\n",
      "📊 Train Accuracy: 98.132% | 🏆 Best Train Accuracy: 98.132%\n",
      "📜 Training logs saved to ./Results/CIFAR10_Train_B128_LR0.001_FFTGate_VGG16_Adam.txt!\n",
      "🏆 Best Training Accuracy: 98.132% (Updated)\n"
     ]
    },
    {
     "name": "stderr",
     "output_type": "stream",
     "text": [
      "Testing Epoch 47: 100%|██████████| 79/79 [00:01<00:00, 55.87it/s, Test_acc=91.2, Test_loss=0.342]\n"
     ]
    },
    {
     "name": "stdout",
     "output_type": "stream",
     "text": [
      "🏆 Saving best model...\n",
      "Checkpoint saved: ./checkpoint/CIFAR10_B128_LR0_001_FFTGate_VGG16_Adam.t7\n",
      "📊 Test Accuracy: 91.180% | 🏆 Best Test Accuracy: 91.180%\n",
      "📜 Test logs saved to C:\\Users\\emeka\\Research\\ModelCUDA\\Big_Data_Journal\\Comparison\\Code\\Paper\\github2\\CIFAR10\\VGG16\\Results\\CIFAR10_Test_B128_LR0.001_FFTGate_VGG16_Adam.txt!\n",
      "\n"
     ]
    },
    {
     "name": "stderr",
     "output_type": "stream",
     "text": [
      "Epoch 48: 100%|██████████| 391/391 [00:25<00:00, 15.49it/s, Train_acc=98.3, Train_loss=0.076]\n"
     ]
    },
    {
     "name": "stdout",
     "output_type": "stream",
     "text": [
      "Epoch 48: M_Optimizer LR => 0.00100 | Gamma1 LR => 0.00580 | Gamma1: ['2.30438', '2.29457', '2.28696', '2.29871', '2.29032', '2.26938', '2.29910', '2.29569', '2.28860', '2.29424', '2.29094', '2.29209', '2.28389'] | Gamma1 Grad: ['0.00202', '-0.00344', '0.00219', '-0.00119', '0.00176', '-0.00304', '-0.00054', '0.00160', '-0.00025', '0.00019', '0.00154', '0.00008', '-0.00055']\n",
      "📜 Logs saved to C:\\Users\\emeka\\Research\\ModelCUDA\\Big_Data_Journal\\Comparison\\Code\\Paper\\github2\\CIFAR10\\VGG16\\Results\\FFTGate\\FFTGate_training_logs.txt!\n",
      "🏆 New Best Training Accuracy: 98.298% (Updated)\n",
      "📊 Train Accuracy: 98.298% | 🏆 Best Train Accuracy: 98.298%\n",
      "📜 Training logs saved to ./Results/CIFAR10_Train_B128_LR0.001_FFTGate_VGG16_Adam.txt!\n",
      "🏆 Best Training Accuracy: 98.298% (Updated)\n"
     ]
    },
    {
     "name": "stderr",
     "output_type": "stream",
     "text": [
      "Testing Epoch 48: 100%|██████████| 79/79 [00:01<00:00, 54.93it/s, Test_acc=90.3, Test_loss=0.377]\n"
     ]
    },
    {
     "name": "stdout",
     "output_type": "stream",
     "text": [
      "📊 Test Accuracy: 90.340% | 🏆 Best Test Accuracy: 91.180%\n",
      "📜 Test logs saved to C:\\Users\\emeka\\Research\\ModelCUDA\\Big_Data_Journal\\Comparison\\Code\\Paper\\github2\\CIFAR10\\VGG16\\Results\\CIFAR10_Test_B128_LR0.001_FFTGate_VGG16_Adam.txt!\n",
      "\n"
     ]
    },
    {
     "name": "stderr",
     "output_type": "stream",
     "text": [
      "Epoch 49: 100%|██████████| 391/391 [00:25<00:00, 15.13it/s, Train_acc=98.3, Train_loss=0.075]\n"
     ]
    },
    {
     "name": "stdout",
     "output_type": "stream",
     "text": [
      "Epoch 49: M_Optimizer LR => 0.00100 | Gamma1 LR => 0.00542 | Gamma1: ['2.31020', '2.29208', '2.30108', '2.27583', '2.31162', '2.29670', '2.28229', '2.28863', '2.29294', '2.28778', '2.27900', '2.27628', '2.27769'] | Gamma1 Grad: ['0.00313', '-0.00120', '-0.00104', '0.00386', '-0.01231', '-0.00068', '0.00033', '-0.00039', '0.00183', '0.00094', '-0.00001', '-0.00027', '-0.00156']\n",
      "📜 Logs saved to C:\\Users\\emeka\\Research\\ModelCUDA\\Big_Data_Journal\\Comparison\\Code\\Paper\\github2\\CIFAR10\\VGG16\\Results\\FFTGate\\FFTGate_training_logs.txt!\n",
      "🏆 New Best Training Accuracy: 98.330% (Updated)\n",
      "📊 Train Accuracy: 98.330% | 🏆 Best Train Accuracy: 98.330%\n",
      "📜 Training logs saved to ./Results/CIFAR10_Train_B128_LR0.001_FFTGate_VGG16_Adam.txt!\n",
      "🏆 Best Training Accuracy: 98.330% (Updated)\n"
     ]
    },
    {
     "name": "stderr",
     "output_type": "stream",
     "text": [
      "Testing Epoch 49: 100%|██████████| 79/79 [00:01<00:00, 55.37it/s, Test_acc=91.1, Test_loss=0.353]\n"
     ]
    },
    {
     "name": "stdout",
     "output_type": "stream",
     "text": [
      "📊 Test Accuracy: 91.090% | 🏆 Best Test Accuracy: 91.180%\n",
      "📜 Test logs saved to C:\\Users\\emeka\\Research\\ModelCUDA\\Big_Data_Journal\\Comparison\\Code\\Paper\\github2\\CIFAR10\\VGG16\\Results\\CIFAR10_Test_B128_LR0.001_FFTGate_VGG16_Adam.txt!\n",
      "\n"
     ]
    },
    {
     "name": "stderr",
     "output_type": "stream",
     "text": [
      "Epoch 50: 100%|██████████| 391/391 [00:26<00:00, 14.80it/s, Train_acc=98.4, Train_loss=0.073]\n"
     ]
    },
    {
     "name": "stdout",
     "output_type": "stream",
     "text": [
      "Epoch 50: M_Optimizer LR => 0.00100 | Gamma1 LR => 0.00502 | Gamma1: ['2.27009', '2.27047', '2.31696', '2.28041', '2.27724', '2.29380', '2.29423', '2.28611', '2.30513', '2.29464', '2.29352', '2.28608', '2.28676'] | Gamma1 Grad: ['0.00071', '-0.00722', '0.00319', '0.00579', '-0.01526', '0.00526', '-0.00003', '-0.00204', '0.00043', '-0.00033', '-0.00168', '-0.00068', '-0.00092']\n",
      "📜 Logs saved to C:\\Users\\emeka\\Research\\ModelCUDA\\Big_Data_Journal\\Comparison\\Code\\Paper\\github2\\CIFAR10\\VGG16\\Results\\FFTGate\\FFTGate_training_logs.txt!\n",
      "🏆 New Best Training Accuracy: 98.388% (Updated)\n",
      "📊 Train Accuracy: 98.388% | 🏆 Best Train Accuracy: 98.388%\n",
      "📜 Training logs saved to ./Results/CIFAR10_Train_B128_LR0.001_FFTGate_VGG16_Adam.txt!\n",
      "🏆 Best Training Accuracy: 98.388% (Updated)\n",
      "📏 Sizes → ActivationHist: 5083 | TestAccHist: 0 | TrainLossHist: 51\n"
     ]
    },
    {
     "name": "stderr",
     "output_type": "stream",
     "text": [
      "Testing Epoch 50: 100%|██████████| 79/79 [00:01<00:00, 55.30it/s, Test_acc=91.1, Test_loss=0.386]\n"
     ]
    },
    {
     "name": "stdout",
     "output_type": "stream",
     "text": [
      "📊 Test Accuracy: 91.100% | 🏆 Best Test Accuracy: 91.180%\n",
      "📜 Test logs saved to C:\\Users\\emeka\\Research\\ModelCUDA\\Big_Data_Journal\\Comparison\\Code\\Paper\\github2\\CIFAR10\\VGG16\\Results\\CIFAR10_Test_B128_LR0.001_FFTGate_VGG16_Adam.txt!\n",
      "\n"
     ]
    },
    {
     "name": "stderr",
     "output_type": "stream",
     "text": [
      "Epoch 51:   0%|          | 0/391 [00:00<?, ?it/s]"
     ]
    },
    {
     "name": "stdout",
     "output_type": "stream",
     "text": [
      "🔥 Stable Noise Injected | Epoch 51 | Batch 0 | Layers: 0 (Δ=0.00000), 1 (Δ=0.00000), 2 (Δ=0.00000), 3 (Δ=0.00000), 4 (Δ=0.00000), 5 (Δ=0.00000), 6 (Δ=0.00000), 7 (Δ=0.00000), 8 (Δ=0.00000), 9 (Δ=0.00000), 10 (Δ=0.00000), 11 (Δ=0.00000), 12 (Δ=0.00000)\n"
     ]
    },
    {
     "name": "stderr",
     "output_type": "stream",
     "text": [
      "Epoch 51: 100%|██████████| 391/391 [00:26<00:00, 14.79it/s, Train_acc=98.5, Train_loss=0.069]\n"
     ]
    },
    {
     "name": "stdout",
     "output_type": "stream",
     "text": [
      "Epoch 51: M_Optimizer LR => 0.00100 | Gamma1 LR => 0.00463 | Gamma1: ['2.28086', '2.29521', '2.27677', '2.29271', '2.28829', '2.30364', '2.29197', '2.30166', '2.29211', '2.28698', '2.28277', '2.26813', '2.28481'] | Gamma1 Grad: ['0.00392', '0.00533', '-0.01263', '0.01554', '-0.01987', '-0.01632', '0.00616', '0.00022', '-0.00327', '0.00113', '-0.00084', '-0.00212', '0.00100']\n",
      "📜 Logs saved to C:\\Users\\emeka\\Research\\ModelCUDA\\Big_Data_Journal\\Comparison\\Code\\Paper\\github2\\CIFAR10\\VGG16\\Results\\FFTGate\\FFTGate_training_logs.txt!\n",
      "🏆 New Best Training Accuracy: 98.490% (Updated)\n",
      "📊 Train Accuracy: 98.490% | 🏆 Best Train Accuracy: 98.490%\n",
      "📜 Training logs saved to ./Results/CIFAR10_Train_B128_LR0.001_FFTGate_VGG16_Adam.txt!\n",
      "🏆 Best Training Accuracy: 98.490% (Updated)\n"
     ]
    },
    {
     "name": "stderr",
     "output_type": "stream",
     "text": [
      "Testing Epoch 51: 100%|██████████| 79/79 [00:01<00:00, 54.75it/s, Test_acc=90.3, Test_loss=0.403]\n"
     ]
    },
    {
     "name": "stdout",
     "output_type": "stream",
     "text": [
      "📊 Test Accuracy: 90.330% | 🏆 Best Test Accuracy: 91.180%\n",
      "📜 Test logs saved to C:\\Users\\emeka\\Research\\ModelCUDA\\Big_Data_Journal\\Comparison\\Code\\Paper\\github2\\CIFAR10\\VGG16\\Results\\CIFAR10_Test_B128_LR0.001_FFTGate_VGG16_Adam.txt!\n",
      "\n"
     ]
    },
    {
     "name": "stderr",
     "output_type": "stream",
     "text": [
      "Epoch 52:   0%|          | 0/391 [00:00<?, ?it/s]"
     ]
    },
    {
     "name": "stdout",
     "output_type": "stream",
     "text": [
      "🔥 Stable Noise Injected | Epoch 52 | Batch 0 | Layers: 0 (Δ=0.00000), 1 (Δ=0.00000), 2 (Δ=0.00000), 3 (Δ=0.00000), 4 (Δ=0.00000), 5 (Δ=0.00000), 6 (Δ=0.00000), 7 (Δ=0.00000), 8 (Δ=0.00000), 9 (Δ=0.00000), 10 (Δ=0.00000), 11 (Δ=0.00000), 12 (Δ=0.00000)\n"
     ]
    },
    {
     "name": "stderr",
     "output_type": "stream",
     "text": [
      "Epoch 52: 100%|██████████| 391/391 [00:26<00:00, 14.95it/s, Train_acc=98.4, Train_loss=0.072]\n"
     ]
    },
    {
     "name": "stdout",
     "output_type": "stream",
     "text": [
      "Epoch 52: M_Optimizer LR => 0.00100 | Gamma1 LR => 0.00425 | Gamma1: ['2.29605', '2.29384', '2.28311', '2.30646', '2.27949', '2.30366', '2.29584', '2.29029', '2.29140', '2.28188', '2.27713', '2.27103', '2.29500'] | Gamma1 Grad: ['0.00159', '0.00291', '-0.01151', '-0.00589', '-0.01029', '-0.00505', '0.00454', '-0.00034', '-0.00024', '0.00117', '0.00447', '-0.00039', '0.00321']\n",
      "📜 Logs saved to C:\\Users\\emeka\\Research\\ModelCUDA\\Big_Data_Journal\\Comparison\\Code\\Paper\\github2\\CIFAR10\\VGG16\\Results\\FFTGate\\FFTGate_training_logs.txt!\n",
      "📊 Train Accuracy: 98.368% | 🏆 Best Train Accuracy: 98.490%\n",
      "📜 Training logs saved to ./Results/CIFAR10_Train_B128_LR0.001_FFTGate_VGG16_Adam.txt!\n",
      "🏆 Best Training Accuracy: 98.490% (Updated)\n"
     ]
    },
    {
     "name": "stderr",
     "output_type": "stream",
     "text": [
      "Testing Epoch 52: 100%|██████████| 79/79 [00:01<00:00, 56.04it/s, Test_acc=90.8, Test_loss=0.377]\n"
     ]
    },
    {
     "name": "stdout",
     "output_type": "stream",
     "text": [
      "📊 Test Accuracy: 90.830% | 🏆 Best Test Accuracy: 91.180%\n",
      "📜 Test logs saved to C:\\Users\\emeka\\Research\\ModelCUDA\\Big_Data_Journal\\Comparison\\Code\\Paper\\github2\\CIFAR10\\VGG16\\Results\\CIFAR10_Test_B128_LR0.001_FFTGate_VGG16_Adam.txt!\n",
      "\n"
     ]
    },
    {
     "name": "stderr",
     "output_type": "stream",
     "text": [
      "Epoch 53:   0%|          | 0/391 [00:00<?, ?it/s]"
     ]
    },
    {
     "name": "stdout",
     "output_type": "stream",
     "text": [
      "🔥 Stable Noise Injected | Epoch 53 | Batch 0 | Layers: 0 (Δ=0.00000), 1 (Δ=0.00000), 2 (Δ=0.00000), 3 (Δ=0.00000), 4 (Δ=0.00000), 5 (Δ=0.00000), 6 (Δ=0.00000), 7 (Δ=0.00000), 8 (Δ=0.00000), 9 (Δ=0.00000), 10 (Δ=0.00000), 11 (Δ=0.00000), 12 (Δ=0.00000)\n"
     ]
    },
    {
     "name": "stderr",
     "output_type": "stream",
     "text": [
      "Epoch 53: 100%|██████████| 391/391 [00:27<00:00, 14.35it/s, Train_acc=98.5, Train_loss=0.07] \n"
     ]
    },
    {
     "name": "stdout",
     "output_type": "stream",
     "text": [
      "Epoch 53: M_Optimizer LR => 0.00100 | Gamma1 LR => 0.00386 | Gamma1: ['2.32287', '2.32173', '2.28330', '2.27514', '2.28272', '2.30983', '2.29274', '2.29561', '2.29993', '2.28182', '2.28030', '2.29368', '2.26744'] | Gamma1 Grad: ['0.00342', '0.00424', '-0.00188', '0.00412', '-0.00332', '0.00116', '0.00247', '-0.00050', '-0.00029', '-0.00041', '-0.00167', '-0.00218', '0.00205']\n",
      "📜 Logs saved to C:\\Users\\emeka\\Research\\ModelCUDA\\Big_Data_Journal\\Comparison\\Code\\Paper\\github2\\CIFAR10\\VGG16\\Results\\FFTGate\\FFTGate_training_logs.txt!\n",
      "📊 Train Accuracy: 98.454% | 🏆 Best Train Accuracy: 98.490%\n",
      "📜 Training logs saved to ./Results/CIFAR10_Train_B128_LR0.001_FFTGate_VGG16_Adam.txt!\n",
      "🏆 Best Training Accuracy: 98.490% (Updated)\n"
     ]
    },
    {
     "name": "stderr",
     "output_type": "stream",
     "text": [
      "Testing Epoch 53: 100%|██████████| 79/79 [00:01<00:00, 54.95it/s, Test_acc=91.6, Test_loss=0.351]\n"
     ]
    },
    {
     "name": "stdout",
     "output_type": "stream",
     "text": [
      "🏆 Saving best model...\n",
      "Checkpoint saved: ./checkpoint/CIFAR10_B128_LR0_001_FFTGate_VGG16_Adam.t7\n",
      "📊 Test Accuracy: 91.620% | 🏆 Best Test Accuracy: 91.620%\n",
      "📜 Test logs saved to C:\\Users\\emeka\\Research\\ModelCUDA\\Big_Data_Journal\\Comparison\\Code\\Paper\\github2\\CIFAR10\\VGG16\\Results\\CIFAR10_Test_B128_LR0.001_FFTGate_VGG16_Adam.txt!\n",
      "\n"
     ]
    },
    {
     "name": "stderr",
     "output_type": "stream",
     "text": [
      "Epoch 54:   0%|          | 0/391 [00:00<?, ?it/s]"
     ]
    },
    {
     "name": "stdout",
     "output_type": "stream",
     "text": [
      "🔥 Stable Noise Injected | Epoch 54 | Batch 0 | Layers: 0 (Δ=0.00000), 1 (Δ=0.00000), 2 (Δ=0.00000), 3 (Δ=0.00000), 4 (Δ=0.00000), 5 (Δ=0.00000), 6 (Δ=0.00000), 7 (Δ=0.00000), 8 (Δ=0.00000), 9 (Δ=0.00000), 10 (Δ=0.00000), 11 (Δ=0.00000), 12 (Δ=0.00000)\n"
     ]
    },
    {
     "name": "stderr",
     "output_type": "stream",
     "text": [
      "Epoch 54: 100%|██████████| 391/391 [00:26<00:00, 14.61it/s, Train_acc=98.5, Train_loss=0.068]\n"
     ]
    },
    {
     "name": "stdout",
     "output_type": "stream",
     "text": [
      "Epoch 54: M_Optimizer LR => 0.00100 | Gamma1 LR => 0.00349 | Gamma1: ['2.30229', '2.30575', '2.29111', '2.29599', '2.27544', '2.31776', '2.28346', '2.30168', '2.27753', '2.27372', '2.26667', '2.28616', '2.27161'] | Gamma1 Grad: ['-0.00598', '-0.00113', '-0.00807', '0.00330', '-0.02634', '0.00533', '-0.00278', '0.00132', '-0.00005', '-0.00000', '0.00678', '-0.00151', '-0.00161']\n",
      "📜 Logs saved to C:\\Users\\emeka\\Research\\ModelCUDA\\Big_Data_Journal\\Comparison\\Code\\Paper\\github2\\CIFAR10\\VGG16\\Results\\FFTGate\\FFTGate_training_logs.txt!\n",
      "🏆 New Best Training Accuracy: 98.534% (Updated)\n",
      "📊 Train Accuracy: 98.534% | 🏆 Best Train Accuracy: 98.534%\n",
      "📜 Training logs saved to ./Results/CIFAR10_Train_B128_LR0.001_FFTGate_VGG16_Adam.txt!\n",
      "🏆 Best Training Accuracy: 98.534% (Updated)\n"
     ]
    },
    {
     "name": "stderr",
     "output_type": "stream",
     "text": [
      "Testing Epoch 54: 100%|██████████| 79/79 [00:01<00:00, 55.14it/s, Test_acc=90.8, Test_loss=0.361]\n"
     ]
    },
    {
     "name": "stdout",
     "output_type": "stream",
     "text": [
      "📊 Test Accuracy: 90.820% | 🏆 Best Test Accuracy: 91.620%\n",
      "📜 Test logs saved to C:\\Users\\emeka\\Research\\ModelCUDA\\Big_Data_Journal\\Comparison\\Code\\Paper\\github2\\CIFAR10\\VGG16\\Results\\CIFAR10_Test_B128_LR0.001_FFTGate_VGG16_Adam.txt!\n",
      "\n"
     ]
    },
    {
     "name": "stderr",
     "output_type": "stream",
     "text": [
      "Epoch 55: 100%|██████████| 391/391 [00:26<00:00, 14.77it/s, Train_acc=98.6, Train_loss=0.065]\n"
     ]
    },
    {
     "name": "stdout",
     "output_type": "stream",
     "text": [
      "Epoch 55: M_Optimizer LR => 0.00100 | Gamma1 LR => 0.00312 | Gamma1: ['2.29357', '2.28105', '2.27768', '2.30084', '2.28891', '2.28997', '2.30473', '2.30330', '2.28221', '2.27709', '2.27218', '2.28755', '2.27814'] | Gamma1 Grad: ['0.00180', '-0.00012', '0.00053', '-0.00107', '-0.00064', '-0.00137', '-0.00024', '0.00050', '0.00001', '0.00014', '-0.00067', '-0.00064', '-0.00044']\n",
      "📜 Logs saved to C:\\Users\\emeka\\Research\\ModelCUDA\\Big_Data_Journal\\Comparison\\Code\\Paper\\github2\\CIFAR10\\VGG16\\Results\\FFTGate\\FFTGate_training_logs.txt!\n",
      "🏆 New Best Training Accuracy: 98.618% (Updated)\n",
      "📊 Train Accuracy: 98.618% | 🏆 Best Train Accuracy: 98.618%\n",
      "📜 Training logs saved to ./Results/CIFAR10_Train_B128_LR0.001_FFTGate_VGG16_Adam.txt!\n",
      "🏆 Best Training Accuracy: 98.618% (Updated)\n"
     ]
    },
    {
     "name": "stderr",
     "output_type": "stream",
     "text": [
      "Testing Epoch 55: 100%|██████████| 79/79 [00:01<00:00, 55.72it/s, Test_acc=90.6, Test_loss=0.385]\n"
     ]
    },
    {
     "name": "stdout",
     "output_type": "stream",
     "text": [
      "📊 Test Accuracy: 90.620% | 🏆 Best Test Accuracy: 91.620%\n",
      "📜 Test logs saved to C:\\Users\\emeka\\Research\\ModelCUDA\\Big_Data_Journal\\Comparison\\Code\\Paper\\github2\\CIFAR10\\VGG16\\Results\\CIFAR10_Test_B128_LR0.001_FFTGate_VGG16_Adam.txt!\n",
      "\n"
     ]
    },
    {
     "name": "stderr",
     "output_type": "stream",
     "text": [
      "Epoch 56: 100%|██████████| 391/391 [00:26<00:00, 14.86it/s, Train_acc=98.6, Train_loss=0.066]\n"
     ]
    },
    {
     "name": "stdout",
     "output_type": "stream",
     "text": [
      "Epoch 56: M_Optimizer LR => 0.00100 | Gamma1 LR => 0.00277 | Gamma1: ['2.27586', '2.30816', '2.26536', '2.27368', '2.27945', '2.29582', '2.31013', '2.30252', '2.28609', '2.28542', '2.28319', '2.29004', '2.28518'] | Gamma1 Grad: ['-0.00503', '-0.01734', '-0.03020', '-0.00687', '0.00256', '0.02019', '-0.00923', '0.00362', '0.00557', '0.00361', '0.00095', '0.00542', '-0.00307']\n",
      "📜 Logs saved to C:\\Users\\emeka\\Research\\ModelCUDA\\Big_Data_Journal\\Comparison\\Code\\Paper\\github2\\CIFAR10\\VGG16\\Results\\FFTGate\\FFTGate_training_logs.txt!\n",
      "📊 Train Accuracy: 98.596% | 🏆 Best Train Accuracy: 98.618%\n",
      "📜 Training logs saved to ./Results/CIFAR10_Train_B128_LR0.001_FFTGate_VGG16_Adam.txt!\n",
      "🏆 Best Training Accuracy: 98.618% (Updated)\n"
     ]
    },
    {
     "name": "stderr",
     "output_type": "stream",
     "text": [
      "Testing Epoch 56: 100%|██████████| 79/79 [00:01<00:00, 55.83it/s, Test_acc=91, Test_loss=0.374]  \n"
     ]
    },
    {
     "name": "stdout",
     "output_type": "stream",
     "text": [
      "📊 Test Accuracy: 91.010% | 🏆 Best Test Accuracy: 91.620%\n",
      "📜 Test logs saved to C:\\Users\\emeka\\Research\\ModelCUDA\\Big_Data_Journal\\Comparison\\Code\\Paper\\github2\\CIFAR10\\VGG16\\Results\\CIFAR10_Test_B128_LR0.001_FFTGate_VGG16_Adam.txt!\n",
      "\n"
     ]
    },
    {
     "name": "stderr",
     "output_type": "stream",
     "text": [
      "Epoch 57: 100%|██████████| 391/391 [00:26<00:00, 14.73it/s, Train_acc=98.5, Train_loss=0.065]\n"
     ]
    },
    {
     "name": "stdout",
     "output_type": "stream",
     "text": [
      "Epoch 57: M_Optimizer LR => 0.00100 | Gamma1 LR => 0.00243 | Gamma1: ['2.28186', '2.28567', '2.27951', '2.29207', '2.24454', '2.29204', '2.30353', '2.28843', '2.29131', '2.27925', '2.27585', '2.27309', '2.29640'] | Gamma1 Grad: ['-0.01430', '-0.00057', '-0.00962', '0.00932', '-0.00043', '-0.00235', '-0.00067', '-0.00225', '0.00473', '0.00203', '0.00084', '0.00078', '-0.00195']\n",
      "📜 Logs saved to C:\\Users\\emeka\\Research\\ModelCUDA\\Big_Data_Journal\\Comparison\\Code\\Paper\\github2\\CIFAR10\\VGG16\\Results\\FFTGate\\FFTGate_training_logs.txt!\n",
      "📊 Train Accuracy: 98.516% | 🏆 Best Train Accuracy: 98.618%\n",
      "📜 Training logs saved to ./Results/CIFAR10_Train_B128_LR0.001_FFTGate_VGG16_Adam.txt!\n",
      "🏆 Best Training Accuracy: 98.618% (Updated)\n"
     ]
    },
    {
     "name": "stderr",
     "output_type": "stream",
     "text": [
      "Testing Epoch 57: 100%|██████████| 79/79 [00:01<00:00, 55.22it/s, Test_acc=91, Test_loss=0.373]  \n"
     ]
    },
    {
     "name": "stdout",
     "output_type": "stream",
     "text": [
      "📊 Test Accuracy: 91.050% | 🏆 Best Test Accuracy: 91.620%\n",
      "📜 Test logs saved to C:\\Users\\emeka\\Research\\ModelCUDA\\Big_Data_Journal\\Comparison\\Code\\Paper\\github2\\CIFAR10\\VGG16\\Results\\CIFAR10_Test_B128_LR0.001_FFTGate_VGG16_Adam.txt!\n",
      "\n"
     ]
    },
    {
     "name": "stderr",
     "output_type": "stream",
     "text": [
      "Epoch 58: 100%|██████████| 391/391 [00:26<00:00, 14.57it/s, Train_acc=98.7, Train_loss=0.06] \n"
     ]
    },
    {
     "name": "stdout",
     "output_type": "stream",
     "text": [
      "Epoch 58: M_Optimizer LR => 0.00100 | Gamma1 LR => 0.00210 | Gamma1: ['2.30475', '2.28741', '2.28880', '2.31364', '2.25573', '2.28554', '2.28445', '2.28206', '2.27958', '2.27378', '2.28115', '2.27912', '2.28563'] | Gamma1 Grad: ['0.00225', '-0.00163', '0.00161', '0.00067', '-0.00110', '0.00080', '-0.00135', '-0.00025', '-0.00047', '-0.00060', '-0.00071', '-0.00083', '0.00101']\n",
      "📜 Logs saved to C:\\Users\\emeka\\Research\\ModelCUDA\\Big_Data_Journal\\Comparison\\Code\\Paper\\github2\\CIFAR10\\VGG16\\Results\\FFTGate\\FFTGate_training_logs.txt!\n",
      "🏆 New Best Training Accuracy: 98.726% (Updated)\n",
      "📊 Train Accuracy: 98.726% | 🏆 Best Train Accuracy: 98.726%\n",
      "📜 Training logs saved to ./Results/CIFAR10_Train_B128_LR0.001_FFTGate_VGG16_Adam.txt!\n",
      "🏆 Best Training Accuracy: 98.726% (Updated)\n"
     ]
    },
    {
     "name": "stderr",
     "output_type": "stream",
     "text": [
      "Testing Epoch 58: 100%|██████████| 79/79 [00:01<00:00, 55.09it/s, Test_acc=91.5, Test_loss=0.407]\n"
     ]
    },
    {
     "name": "stdout",
     "output_type": "stream",
     "text": [
      "📊 Test Accuracy: 91.500% | 🏆 Best Test Accuracy: 91.620%\n",
      "📜 Test logs saved to C:\\Users\\emeka\\Research\\ModelCUDA\\Big_Data_Journal\\Comparison\\Code\\Paper\\github2\\CIFAR10\\VGG16\\Results\\CIFAR10_Test_B128_LR0.001_FFTGate_VGG16_Adam.txt!\n",
      "\n"
     ]
    },
    {
     "name": "stderr",
     "output_type": "stream",
     "text": [
      "Epoch 59: 100%|██████████| 391/391 [00:26<00:00, 14.59it/s, Train_acc=98.7, Train_loss=0.063]\n"
     ]
    },
    {
     "name": "stdout",
     "output_type": "stream",
     "text": [
      "Epoch 59: M_Optimizer LR => 0.00100 | Gamma1 LR => 0.00179 | Gamma1: ['2.30298', '2.28570', '2.26904', '2.30052', '2.28459', '2.29861', '2.29369', '2.29042', '2.28419', '2.28293', '2.29186', '2.27908', '2.28467'] | Gamma1 Grad: ['0.00042', '-0.00000', '-0.00111', '0.00071', '-0.00054', '0.00005', '-0.00001', '-0.00039', '-0.00062', '-0.00054', '-0.00053', '-0.00059', '-0.00037']\n",
      "📜 Logs saved to C:\\Users\\emeka\\Research\\ModelCUDA\\Big_Data_Journal\\Comparison\\Code\\Paper\\github2\\CIFAR10\\VGG16\\Results\\FFTGate\\FFTGate_training_logs.txt!\n",
      "📊 Train Accuracy: 98.656% | 🏆 Best Train Accuracy: 98.726%\n",
      "📜 Training logs saved to ./Results/CIFAR10_Train_B128_LR0.001_FFTGate_VGG16_Adam.txt!\n",
      "🏆 Best Training Accuracy: 98.726% (Updated)\n"
     ]
    },
    {
     "name": "stderr",
     "output_type": "stream",
     "text": [
      "Testing Epoch 59: 100%|██████████| 79/79 [00:01<00:00, 55.53it/s, Test_acc=91.2, Test_loss=0.401]\n"
     ]
    },
    {
     "name": "stdout",
     "output_type": "stream",
     "text": [
      "📊 Test Accuracy: 91.180% | 🏆 Best Test Accuracy: 91.620%\n",
      "📜 Test logs saved to C:\\Users\\emeka\\Research\\ModelCUDA\\Big_Data_Journal\\Comparison\\Code\\Paper\\github2\\CIFAR10\\VGG16\\Results\\CIFAR10_Test_B128_LR0.001_FFTGate_VGG16_Adam.txt!\n",
      "\n"
     ]
    },
    {
     "name": "stderr",
     "output_type": "stream",
     "text": [
      "Epoch 60: 100%|██████████| 391/391 [00:26<00:00, 14.51it/s, Train_acc=98.8, Train_loss=0.059]\n"
     ]
    },
    {
     "name": "stdout",
     "output_type": "stream",
     "text": [
      "Epoch 60: M_Optimizer LR => 0.00100 | Gamma1 LR => 0.00151 | Gamma1: ['2.28356', '2.31469', '2.29034', '2.33374', '2.28946', '2.30183', '2.30587', '2.29177', '2.28485', '2.28241', '2.27958', '2.27779', '2.28228'] | Gamma1 Grad: ['-0.00315', '0.00454', '0.00157', '0.00037', '0.00681', '0.00048', '-0.00004', '0.00025', '-0.00348', '-0.00087', '0.00197', '0.00213', '0.00045']\n",
      "📜 Logs saved to C:\\Users\\emeka\\Research\\ModelCUDA\\Big_Data_Journal\\Comparison\\Code\\Paper\\github2\\CIFAR10\\VGG16\\Results\\FFTGate\\FFTGate_training_logs.txt!\n",
      "🏆 New Best Training Accuracy: 98.808% (Updated)\n",
      "📊 Train Accuracy: 98.808% | 🏆 Best Train Accuracy: 98.808%\n",
      "📜 Training logs saved to ./Results/CIFAR10_Train_B128_LR0.001_FFTGate_VGG16_Adam.txt!\n",
      "🏆 Best Training Accuracy: 98.808% (Updated)\n",
      "📏 Sizes → ActivationHist: 5083 | TestAccHist: 0 | TrainLossHist: 61\n"
     ]
    },
    {
     "name": "stderr",
     "output_type": "stream",
     "text": [
      "Testing Epoch 60: 100%|██████████| 79/79 [00:01<00:00, 55.49it/s, Test_acc=91.2, Test_loss=0.387]\n"
     ]
    },
    {
     "name": "stdout",
     "output_type": "stream",
     "text": [
      "📊 Test Accuracy: 91.220% | 🏆 Best Test Accuracy: 91.620%\n",
      "📜 Test logs saved to C:\\Users\\emeka\\Research\\ModelCUDA\\Big_Data_Journal\\Comparison\\Code\\Paper\\github2\\CIFAR10\\VGG16\\Results\\CIFAR10_Test_B128_LR0.001_FFTGate_VGG16_Adam.txt!\n",
      "\n"
     ]
    },
    {
     "name": "stderr",
     "output_type": "stream",
     "text": [
      "Epoch 61: 100%|██████████| 391/391 [00:27<00:00, 14.35it/s, Train_acc=98.7, Train_loss=0.06] \n"
     ]
    },
    {
     "name": "stdout",
     "output_type": "stream",
     "text": [
      "Epoch 61: M_Optimizer LR => 0.00100 | Gamma1 LR => 0.00124 | Gamma1: ['2.30096', '2.32145', '2.31468', '2.29960', '2.27401', '2.29651', '2.29763', '2.29068', '2.28976', '2.28107', '2.27965', '2.27976', '2.28296'] | Gamma1 Grad: ['0.00030', '0.00278', '-0.00368', '0.00840', '-0.00612', '0.00063', '-0.00169', '-0.00024', '0.00182', '0.00056', '0.00376', '-0.00271', '-0.00137']\n",
      "📜 Logs saved to C:\\Users\\emeka\\Research\\ModelCUDA\\Big_Data_Journal\\Comparison\\Code\\Paper\\github2\\CIFAR10\\VGG16\\Results\\FFTGate\\FFTGate_training_logs.txt!\n",
      "📊 Train Accuracy: 98.742% | 🏆 Best Train Accuracy: 98.808%\n",
      "📜 Training logs saved to ./Results/CIFAR10_Train_B128_LR0.001_FFTGate_VGG16_Adam.txt!\n",
      "🏆 Best Training Accuracy: 98.808% (Updated)\n"
     ]
    },
    {
     "name": "stderr",
     "output_type": "stream",
     "text": [
      "Testing Epoch 61: 100%|██████████| 79/79 [00:01<00:00, 55.53it/s, Test_acc=91, Test_loss=0.398]  \n"
     ]
    },
    {
     "name": "stdout",
     "output_type": "stream",
     "text": [
      "📊 Test Accuracy: 90.980% | 🏆 Best Test Accuracy: 91.620%\n",
      "📜 Test logs saved to C:\\Users\\emeka\\Research\\ModelCUDA\\Big_Data_Journal\\Comparison\\Code\\Paper\\github2\\CIFAR10\\VGG16\\Results\\CIFAR10_Test_B128_LR0.001_FFTGate_VGG16_Adam.txt!\n",
      "\n"
     ]
    },
    {
     "name": "stderr",
     "output_type": "stream",
     "text": [
      "Epoch 62: 100%|██████████| 391/391 [00:27<00:00, 14.24it/s, Train_acc=98.7, Train_loss=0.059]\n"
     ]
    },
    {
     "name": "stdout",
     "output_type": "stream",
     "text": [
      "Epoch 62: M_Optimizer LR => 0.00100 | Gamma1 LR => 0.00100 | Gamma1: ['2.30157', '2.32237', '2.29800', '2.29357', '2.27147', '2.27509', '2.31040', '2.27875', '2.29047', '2.28143', '2.27712', '2.28012', '2.28767'] | Gamma1 Grad: ['0.00085', '0.00079', '0.00128', '0.00175', '-0.00345', '0.00406', '-0.00175', '-0.00129', '0.00017', '0.00068', '0.00076', '-0.00108', '-0.00022']\n",
      "📜 Logs saved to C:\\Users\\emeka\\Research\\ModelCUDA\\Big_Data_Journal\\Comparison\\Code\\Paper\\github2\\CIFAR10\\VGG16\\Results\\FFTGate\\FFTGate_training_logs.txt!\n",
      "📊 Train Accuracy: 98.730% | 🏆 Best Train Accuracy: 98.808%\n",
      "📜 Training logs saved to ./Results/CIFAR10_Train_B128_LR0.001_FFTGate_VGG16_Adam.txt!\n",
      "🏆 Best Training Accuracy: 98.808% (Updated)\n"
     ]
    },
    {
     "name": "stderr",
     "output_type": "stream",
     "text": [
      "Testing Epoch 62: 100%|██████████| 79/79 [00:01<00:00, 55.24it/s, Test_acc=90.8, Test_loss=0.39] \n"
     ]
    },
    {
     "name": "stdout",
     "output_type": "stream",
     "text": [
      "📊 Test Accuracy: 90.750% | 🏆 Best Test Accuracy: 91.620%\n",
      "📜 Test logs saved to C:\\Users\\emeka\\Research\\ModelCUDA\\Big_Data_Journal\\Comparison\\Code\\Paper\\github2\\CIFAR10\\VGG16\\Results\\CIFAR10_Test_B128_LR0.001_FFTGate_VGG16_Adam.txt!\n",
      "\n"
     ]
    },
    {
     "name": "stderr",
     "output_type": "stream",
     "text": [
      "Epoch 63: 100%|██████████| 391/391 [00:26<00:00, 14.53it/s, Train_acc=98.8, Train_loss=0.059]\n"
     ]
    },
    {
     "name": "stdout",
     "output_type": "stream",
     "text": [
      "Epoch 63: M_Optimizer LR => 0.00100 | Gamma1 LR => 0.00078 | Gamma1: ['2.28843', '2.31276', '2.29999', '2.28872', '2.27935', '2.28548', '2.30608', '2.30073', '2.29259', '2.27725', '2.28068', '2.27962', '2.28430'] | Gamma1 Grad: ['0.00129', '-0.00159', '-0.00007', '-0.00229', '-0.00192', '0.00270', '-0.00111', '0.00007', '0.00224', '0.00066', '0.00102', '-0.00147', '0.00051']\n",
      "📜 Logs saved to C:\\Users\\emeka\\Research\\ModelCUDA\\Big_Data_Journal\\Comparison\\Code\\Paper\\github2\\CIFAR10\\VGG16\\Results\\FFTGate\\FFTGate_training_logs.txt!\n",
      "📊 Train Accuracy: 98.782% | 🏆 Best Train Accuracy: 98.808%\n",
      "📜 Training logs saved to ./Results/CIFAR10_Train_B128_LR0.001_FFTGate_VGG16_Adam.txt!\n",
      "🏆 Best Training Accuracy: 98.808% (Updated)\n"
     ]
    },
    {
     "name": "stderr",
     "output_type": "stream",
     "text": [
      "Testing Epoch 63: 100%|██████████| 79/79 [00:01<00:00, 56.02it/s, Test_acc=91, Test_loss=0.388]  \n"
     ]
    },
    {
     "name": "stdout",
     "output_type": "stream",
     "text": [
      "📊 Test Accuracy: 91.000% | 🏆 Best Test Accuracy: 91.620%\n",
      "📜 Test logs saved to C:\\Users\\emeka\\Research\\ModelCUDA\\Big_Data_Journal\\Comparison\\Code\\Paper\\github2\\CIFAR10\\VGG16\\Results\\CIFAR10_Test_B128_LR0.001_FFTGate_VGG16_Adam.txt!\n",
      "\n"
     ]
    },
    {
     "name": "stderr",
     "output_type": "stream",
     "text": [
      "Epoch 64: 100%|██████████| 391/391 [00:26<00:00, 14.68it/s, Train_acc=98.8, Train_loss=0.057]\n"
     ]
    },
    {
     "name": "stdout",
     "output_type": "stream",
     "text": [
      "Epoch 64: M_Optimizer LR => 0.00100 | Gamma1 LR => 0.00059 | Gamma1: ['2.29307', '2.30171', '2.30490', '2.29449', '2.27320', '2.28678', '2.30567', '2.29772', '2.29402', '2.28237', '2.28431', '2.28228', '2.28393'] | Gamma1 Grad: ['0.00052', '-0.00835', '-0.00427', '0.00531', '-0.00131', '0.00308', '0.00337', '0.00217', '0.00264', '0.00197', '0.00461', '0.00091', '-0.00022']\n",
      "📜 Logs saved to C:\\Users\\emeka\\Research\\ModelCUDA\\Big_Data_Journal\\Comparison\\Code\\Paper\\github2\\CIFAR10\\VGG16\\Results\\FFTGate\\FFTGate_training_logs.txt!\n",
      "🏆 New Best Training Accuracy: 98.824% (Updated)\n",
      "📊 Train Accuracy: 98.824% | 🏆 Best Train Accuracy: 98.824%\n",
      "📜 Training logs saved to ./Results/CIFAR10_Train_B128_LR0.001_FFTGate_VGG16_Adam.txt!\n",
      "🏆 Best Training Accuracy: 98.824% (Updated)\n"
     ]
    },
    {
     "name": "stderr",
     "output_type": "stream",
     "text": [
      "Testing Epoch 64: 100%|██████████| 79/79 [00:01<00:00, 55.74it/s, Test_acc=91.3, Test_loss=0.383]\n"
     ]
    },
    {
     "name": "stdout",
     "output_type": "stream",
     "text": [
      "📊 Test Accuracy: 91.320% | 🏆 Best Test Accuracy: 91.620%\n",
      "📜 Test logs saved to C:\\Users\\emeka\\Research\\ModelCUDA\\Big_Data_Journal\\Comparison\\Code\\Paper\\github2\\CIFAR10\\VGG16\\Results\\CIFAR10_Test_B128_LR0.001_FFTGate_VGG16_Adam.txt!\n",
      "\n"
     ]
    },
    {
     "name": "stderr",
     "output_type": "stream",
     "text": [
      "Epoch 65: 100%|██████████| 391/391 [00:26<00:00, 14.78it/s, Train_acc=98.8, Train_loss=0.057]\n"
     ]
    },
    {
     "name": "stdout",
     "output_type": "stream",
     "text": [
      "Epoch 65: M_Optimizer LR => 0.00100 | Gamma1 LR => 0.00043 | Gamma1: ['2.29109', '2.29680', '2.29378', '2.28843', '2.28802', '2.29750', '2.30790', '2.29339', '2.28349', '2.27533', '2.27505', '2.28535', '2.28390'] | Gamma1 Grad: ['-0.00164', '-0.00230', '-0.00042', '-0.00434', '0.00570', '-0.00350', '-0.00154', '-0.00053', '0.00222', '0.00119', '0.00204', '0.00235', '0.00111']\n",
      "📜 Logs saved to C:\\Users\\emeka\\Research\\ModelCUDA\\Big_Data_Journal\\Comparison\\Code\\Paper\\github2\\CIFAR10\\VGG16\\Results\\FFTGate\\FFTGate_training_logs.txt!\n",
      "🏆 New Best Training Accuracy: 98.834% (Updated)\n",
      "📊 Train Accuracy: 98.834% | 🏆 Best Train Accuracy: 98.834%\n",
      "📜 Training logs saved to ./Results/CIFAR10_Train_B128_LR0.001_FFTGate_VGG16_Adam.txt!\n",
      "🏆 Best Training Accuracy: 98.834% (Updated)\n"
     ]
    },
    {
     "name": "stderr",
     "output_type": "stream",
     "text": [
      "Testing Epoch 65: 100%|██████████| 79/79 [00:01<00:00, 55.58it/s, Test_acc=91, Test_loss=0.384]  \n"
     ]
    },
    {
     "name": "stdout",
     "output_type": "stream",
     "text": [
      "📊 Test Accuracy: 90.970% | 🏆 Best Test Accuracy: 91.620%\n",
      "📜 Test logs saved to C:\\Users\\emeka\\Research\\ModelCUDA\\Big_Data_Journal\\Comparison\\Code\\Paper\\github2\\CIFAR10\\VGG16\\Results\\CIFAR10_Test_B128_LR0.001_FFTGate_VGG16_Adam.txt!\n",
      "\n"
     ]
    },
    {
     "name": "stderr",
     "output_type": "stream",
     "text": [
      "Epoch 66: 100%|██████████| 391/391 [00:27<00:00, 14.48it/s, Train_acc=98.9, Train_loss=0.055]\n"
     ]
    },
    {
     "name": "stdout",
     "output_type": "stream",
     "text": [
      "Epoch 66: M_Optimizer LR => 0.00100 | Gamma1 LR => 0.00029 | Gamma1: ['2.28990', '2.30325', '2.28951', '2.28585', '2.28322', '2.28986', '2.31016', '2.30421', '2.29018', '2.28246', '2.28314', '2.28630', '2.28687'] | Gamma1 Grad: ['-0.00000', '0.00038', '-0.00027', '0.00323', '0.00385', '-0.00564', '0.00208', '-0.00036', '-0.00047', '-0.00006', '-0.00135', '0.00069', '0.00015']\n",
      "📜 Logs saved to C:\\Users\\emeka\\Research\\ModelCUDA\\Big_Data_Journal\\Comparison\\Code\\Paper\\github2\\CIFAR10\\VGG16\\Results\\FFTGate\\FFTGate_training_logs.txt!\n",
      "🏆 New Best Training Accuracy: 98.866% (Updated)\n",
      "📊 Train Accuracy: 98.866% | 🏆 Best Train Accuracy: 98.866%\n",
      "📜 Training logs saved to ./Results/CIFAR10_Train_B128_LR0.001_FFTGate_VGG16_Adam.txt!\n",
      "🏆 Best Training Accuracy: 98.866% (Updated)\n"
     ]
    },
    {
     "name": "stderr",
     "output_type": "stream",
     "text": [
      "Testing Epoch 66: 100%|██████████| 79/79 [00:01<00:00, 54.08it/s, Test_acc=91.7, Test_loss=0.378]\n"
     ]
    },
    {
     "name": "stdout",
     "output_type": "stream",
     "text": [
      "🏆 Saving best model...\n",
      "Checkpoint saved: ./checkpoint/CIFAR10_B128_LR0_001_FFTGate_VGG16_Adam.t7\n",
      "📊 Test Accuracy: 91.690% | 🏆 Best Test Accuracy: 91.690%\n",
      "📜 Test logs saved to C:\\Users\\emeka\\Research\\ModelCUDA\\Big_Data_Journal\\Comparison\\Code\\Paper\\github2\\CIFAR10\\VGG16\\Results\\CIFAR10_Test_B128_LR0.001_FFTGate_VGG16_Adam.txt!\n",
      "\n"
     ]
    },
    {
     "name": "stderr",
     "output_type": "stream",
     "text": [
      "Epoch 67: 100%|██████████| 391/391 [00:26<00:00, 14.60it/s, Train_acc=98.8, Train_loss=0.056]\n"
     ]
    },
    {
     "name": "stdout",
     "output_type": "stream",
     "text": [
      "Epoch 67: M_Optimizer LR => 0.00100 | Gamma1 LR => 0.00019 | Gamma1: ['2.29022', '2.31551', '2.29332', '2.26559', '2.28856', '2.30520', '2.30835', '2.30265', '2.29427', '2.27984', '2.27833', '2.28108', '2.28012'] | Gamma1 Grad: ['-0.00051', '-0.00000', '0.00098', '-0.00183', '-0.00141', '0.00326', '-0.00063', '0.00028', '-0.00059', '-0.00059', '-0.00100', '-0.00161', '0.00080']\n",
      "📜 Logs saved to C:\\Users\\emeka\\Research\\ModelCUDA\\Big_Data_Journal\\Comparison\\Code\\Paper\\github2\\CIFAR10\\VGG16\\Results\\FFTGate\\FFTGate_training_logs.txt!\n",
      "📊 Train Accuracy: 98.796% | 🏆 Best Train Accuracy: 98.866%\n",
      "📜 Training logs saved to ./Results/CIFAR10_Train_B128_LR0.001_FFTGate_VGG16_Adam.txt!\n",
      "🏆 Best Training Accuracy: 98.866% (Updated)\n"
     ]
    },
    {
     "name": "stderr",
     "output_type": "stream",
     "text": [
      "Testing Epoch 67: 100%|██████████| 79/79 [00:01<00:00, 55.65it/s, Test_acc=91.1, Test_loss=0.384]\n"
     ]
    },
    {
     "name": "stdout",
     "output_type": "stream",
     "text": [
      "📊 Test Accuracy: 91.060% | 🏆 Best Test Accuracy: 91.690%\n",
      "📜 Test logs saved to C:\\Users\\emeka\\Research\\ModelCUDA\\Big_Data_Journal\\Comparison\\Code\\Paper\\github2\\CIFAR10\\VGG16\\Results\\CIFAR10_Test_B128_LR0.001_FFTGate_VGG16_Adam.txt!\n",
      "\n"
     ]
    },
    {
     "name": "stderr",
     "output_type": "stream",
     "text": [
      "Epoch 68: 100%|██████████| 391/391 [00:26<00:00, 14.55it/s, Train_acc=99, Train_loss=0.053] \n"
     ]
    },
    {
     "name": "stdout",
     "output_type": "stream",
     "text": [
      "Epoch 68: M_Optimizer LR => 0.00100 | Gamma1 LR => 0.00011 | Gamma1: ['2.29972', '2.31971', '2.29823', '2.26157', '2.29235', '2.29514', '2.30477', '2.30577', '2.29104', '2.27938', '2.28037', '2.28045', '2.28035'] | Gamma1 Grad: ['0.00140', '-0.00115', '0.00015', '-0.00274', '0.00327', '0.00086', '-0.00134', '0.00027', '0.00038', '0.00048', '0.00182', '0.00116', '0.00027']\n",
      "📜 Logs saved to C:\\Users\\emeka\\Research\\ModelCUDA\\Big_Data_Journal\\Comparison\\Code\\Paper\\github2\\CIFAR10\\VGG16\\Results\\FFTGate\\FFTGate_training_logs.txt!\n",
      "🏆 New Best Training Accuracy: 98.972% (Updated)\n",
      "📊 Train Accuracy: 98.972% | 🏆 Best Train Accuracy: 98.972%\n",
      "📜 Training logs saved to ./Results/CIFAR10_Train_B128_LR0.001_FFTGate_VGG16_Adam.txt!\n",
      "🏆 Best Training Accuracy: 98.972% (Updated)\n"
     ]
    },
    {
     "name": "stderr",
     "output_type": "stream",
     "text": [
      "Testing Epoch 68: 100%|██████████| 79/79 [00:01<00:00, 55.08it/s, Test_acc=90.7, Test_loss=0.399]\n"
     ]
    },
    {
     "name": "stdout",
     "output_type": "stream",
     "text": [
      "📊 Test Accuracy: 90.700% | 🏆 Best Test Accuracy: 91.690%\n",
      "📜 Test logs saved to C:\\Users\\emeka\\Research\\ModelCUDA\\Big_Data_Journal\\Comparison\\Code\\Paper\\github2\\CIFAR10\\VGG16\\Results\\CIFAR10_Test_B128_LR0.001_FFTGate_VGG16_Adam.txt!\n",
      "\n"
     ]
    },
    {
     "name": "stderr",
     "output_type": "stream",
     "text": [
      "Epoch 69: 100%|██████████| 391/391 [00:26<00:00, 14.83it/s, Train_acc=99, Train_loss=0.053]  \n"
     ]
    },
    {
     "name": "stdout",
     "output_type": "stream",
     "text": [
      "Epoch 69: M_Optimizer LR => 0.00100 | Gamma1 LR => 0.00007 | Gamma1: ['2.30448', '2.30936', '2.29907', '2.26850', '2.29396', '2.29692', '2.29902', '2.29632', '2.28732', '2.28326', '2.28328', '2.28141', '2.28002'] | Gamma1 Grad: ['0.00030', '-0.00182', '0.00178', '-0.00526', '0.00094', '0.00236', '-0.00281', '0.00004', '0.00154', '0.00053', '-0.01085', '-0.00207', '-0.00162']\n",
      "📜 Logs saved to C:\\Users\\emeka\\Research\\ModelCUDA\\Big_Data_Journal\\Comparison\\Code\\Paper\\github2\\CIFAR10\\VGG16\\Results\\FFTGate\\FFTGate_training_logs.txt!\n",
      "📊 Train Accuracy: 98.968% | 🏆 Best Train Accuracy: 98.972%\n",
      "📜 Training logs saved to ./Results/CIFAR10_Train_B128_LR0.001_FFTGate_VGG16_Adam.txt!\n",
      "🏆 Best Training Accuracy: 98.972% (Updated)\n"
     ]
    },
    {
     "name": "stderr",
     "output_type": "stream",
     "text": [
      "Testing Epoch 69: 100%|██████████| 79/79 [00:01<00:00, 56.26it/s, Test_acc=91.4, Test_loss=0.375]\n"
     ]
    },
    {
     "name": "stdout",
     "output_type": "stream",
     "text": [
      "📊 Test Accuracy: 91.430% | 🏆 Best Test Accuracy: 91.690%\n",
      "📜 Test logs saved to C:\\Users\\emeka\\Research\\ModelCUDA\\Big_Data_Journal\\Comparison\\Code\\Paper\\github2\\CIFAR10\\VGG16\\Results\\CIFAR10_Test_B128_LR0.001_FFTGate_VGG16_Adam.txt!\n",
      "\n"
     ]
    },
    {
     "name": "stderr",
     "output_type": "stream",
     "text": [
      "Epoch 70: 100%|██████████| 391/391 [00:27<00:00, 14.24it/s, Train_acc=98.9, Train_loss=0.054]\n"
     ]
    },
    {
     "name": "stdout",
     "output_type": "stream",
     "text": [
      "Epoch 70: M_Optimizer LR => 0.00100 | Gamma1 LR => 0.01000 | Gamma1: ['2.29716', '2.29821', '2.29351', '2.27639', '2.29380', '2.30643', '2.30495', '2.29796', '2.28749', '2.28305', '2.28650', '2.28677', '2.27807'] | Gamma1 Grad: ['-0.00043', '-0.00112', '-0.00018', '-0.00072', '0.00044', '-0.00083', '0.00023', '-0.00002', '-0.00013', '-0.00004', '-0.00004', '0.00013', '-0.00029']\n",
      "📜 Logs saved to C:\\Users\\emeka\\Research\\ModelCUDA\\Big_Data_Journal\\Comparison\\Code\\Paper\\github2\\CIFAR10\\VGG16\\Results\\FFTGate\\FFTGate_training_logs.txt!\n",
      "📊 Train Accuracy: 98.900% | 🏆 Best Train Accuracy: 98.972%\n",
      "📜 Training logs saved to ./Results/CIFAR10_Train_B128_LR0.001_FFTGate_VGG16_Adam.txt!\n",
      "🏆 Best Training Accuracy: 98.972% (Updated)\n",
      "📏 Sizes → ActivationHist: 5083 | TestAccHist: 0 | TrainLossHist: 71\n"
     ]
    },
    {
     "name": "stderr",
     "output_type": "stream",
     "text": [
      "Testing Epoch 70: 100%|██████████| 79/79 [00:01<00:00, 54.65it/s, Test_acc=91.5, Test_loss=0.379]\n"
     ]
    },
    {
     "name": "stdout",
     "output_type": "stream",
     "text": [
      "📊 Test Accuracy: 91.500% | 🏆 Best Test Accuracy: 91.690%\n",
      "📜 Test logs saved to C:\\Users\\emeka\\Research\\ModelCUDA\\Big_Data_Journal\\Comparison\\Code\\Paper\\github2\\CIFAR10\\VGG16\\Results\\CIFAR10_Test_B128_LR0.001_FFTGate_VGG16_Adam.txt!\n",
      "\n"
     ]
    },
    {
     "name": "stderr",
     "output_type": "stream",
     "text": [
      "Epoch 71: 100%|██████████| 391/391 [00:26<00:00, 14.64it/s, Train_acc=99, Train_loss=0.051]  \n"
     ]
    },
    {
     "name": "stdout",
     "output_type": "stream",
     "text": [
      "Epoch 71: M_Optimizer LR => 0.00100 | Gamma1 LR => 0.01000 | Gamma1: ['2.30699', '2.30374', '2.33009', '2.31581', '2.28961', '2.25458', '2.25249', '2.27359', '2.30680', '2.29429', '2.30434', '2.28194', '2.28701'] | Gamma1 Grad: ['0.00131', '-0.00167', '-0.00083', '-0.00467', '-0.00077', '0.00162', '-0.00094', '-0.00185', '0.00016', '0.00052', '0.00205', '-0.00264', '0.00008']\n",
      "📜 Logs saved to C:\\Users\\emeka\\Research\\ModelCUDA\\Big_Data_Journal\\Comparison\\Code\\Paper\\github2\\CIFAR10\\VGG16\\Results\\FFTGate\\FFTGate_training_logs.txt!\n",
      "🏆 New Best Training Accuracy: 98.998% (Updated)\n",
      "📊 Train Accuracy: 98.998% | 🏆 Best Train Accuracy: 98.998%\n",
      "📜 Training logs saved to ./Results/CIFAR10_Train_B128_LR0.001_FFTGate_VGG16_Adam.txt!\n",
      "🏆 Best Training Accuracy: 98.998% (Updated)\n"
     ]
    },
    {
     "name": "stderr",
     "output_type": "stream",
     "text": [
      "Testing Epoch 71: 100%|██████████| 79/79 [00:01<00:00, 54.61it/s, Test_acc=91.3, Test_loss=0.391]\n"
     ]
    },
    {
     "name": "stdout",
     "output_type": "stream",
     "text": [
      "📊 Test Accuracy: 91.350% | 🏆 Best Test Accuracy: 91.690%\n",
      "📜 Test logs saved to C:\\Users\\emeka\\Research\\ModelCUDA\\Big_Data_Journal\\Comparison\\Code\\Paper\\github2\\CIFAR10\\VGG16\\Results\\CIFAR10_Test_B128_LR0.001_FFTGate_VGG16_Adam.txt!\n",
      "\n"
     ]
    },
    {
     "name": "stderr",
     "output_type": "stream",
     "text": [
      "Epoch 72: 100%|██████████| 391/391 [00:26<00:00, 14.78it/s, Train_acc=98.9, Train_loss=0.053]\n"
     ]
    },
    {
     "name": "stdout",
     "output_type": "stream",
     "text": [
      "Epoch 72: M_Optimizer LR => 0.00100 | Gamma1 LR => 0.00998 | Gamma1: ['2.26188', '2.32419', '2.28395', '2.30219', '2.28076', '2.27935', '2.25811', '2.27927', '2.30260', '2.29831', '2.31542', '2.32066', '2.27596'] | Gamma1 Grad: ['0.00167', '0.00096', '0.00131', '-0.00274', '0.00378', '-0.00446', '-0.00004', '0.00274', '-0.00203', '-0.00085', '-0.00165', '0.00150', '-0.00072']\n",
      "📜 Logs saved to C:\\Users\\emeka\\Research\\ModelCUDA\\Big_Data_Journal\\Comparison\\Code\\Paper\\github2\\CIFAR10\\VGG16\\Results\\FFTGate\\FFTGate_training_logs.txt!\n",
      "📊 Train Accuracy: 98.916% | 🏆 Best Train Accuracy: 98.998%\n",
      "📜 Training logs saved to ./Results/CIFAR10_Train_B128_LR0.001_FFTGate_VGG16_Adam.txt!\n",
      "🏆 Best Training Accuracy: 98.998% (Updated)\n"
     ]
    },
    {
     "name": "stderr",
     "output_type": "stream",
     "text": [
      "Testing Epoch 72: 100%|██████████| 79/79 [00:01<00:00, 54.61it/s, Test_acc=91.2, Test_loss=0.362]\n"
     ]
    },
    {
     "name": "stdout",
     "output_type": "stream",
     "text": [
      "📊 Test Accuracy: 91.220% | 🏆 Best Test Accuracy: 91.690%\n",
      "📜 Test logs saved to C:\\Users\\emeka\\Research\\ModelCUDA\\Big_Data_Journal\\Comparison\\Code\\Paper\\github2\\CIFAR10\\VGG16\\Results\\CIFAR10_Test_B128_LR0.001_FFTGate_VGG16_Adam.txt!\n",
      "\n"
     ]
    },
    {
     "name": "stderr",
     "output_type": "stream",
     "text": [
      "Epoch 73: 100%|██████████| 391/391 [00:26<00:00, 14.69it/s, Train_acc=99, Train_loss=0.052]  \n"
     ]
    },
    {
     "name": "stdout",
     "output_type": "stream",
     "text": [
      "Epoch 73: M_Optimizer LR => 0.00100 | Gamma1 LR => 0.00997 | Gamma1: ['2.29292', '2.29899', '2.27116', '2.30859', '2.28803', '2.26969', '2.30112', '2.28886', '2.29538', '2.28492', '2.30665', '2.28444', '2.29239'] | Gamma1 Grad: ['-0.00070', '0.00180', '0.00377', '0.01302', '-0.01755', '0.00927', '0.00416', '0.00009', '0.00203', '0.00069', '-0.00005', '0.00023', '-0.00066']\n",
      "📜 Logs saved to C:\\Users\\emeka\\Research\\ModelCUDA\\Big_Data_Journal\\Comparison\\Code\\Paper\\github2\\CIFAR10\\VGG16\\Results\\FFTGate\\FFTGate_training_logs.txt!\n",
      "📊 Train Accuracy: 98.992% | 🏆 Best Train Accuracy: 98.998%\n",
      "📜 Training logs saved to ./Results/CIFAR10_Train_B128_LR0.001_FFTGate_VGG16_Adam.txt!\n",
      "🏆 Best Training Accuracy: 98.998% (Updated)\n"
     ]
    },
    {
     "name": "stderr",
     "output_type": "stream",
     "text": [
      "Testing Epoch 73: 100%|██████████| 79/79 [00:01<00:00, 56.40it/s, Test_acc=91.2, Test_loss=0.378]\n"
     ]
    },
    {
     "name": "stdout",
     "output_type": "stream",
     "text": [
      "📊 Test Accuracy: 91.200% | 🏆 Best Test Accuracy: 91.690%\n",
      "📜 Test logs saved to C:\\Users\\emeka\\Research\\ModelCUDA\\Big_Data_Journal\\Comparison\\Code\\Paper\\github2\\CIFAR10\\VGG16\\Results\\CIFAR10_Test_B128_LR0.001_FFTGate_VGG16_Adam.txt!\n",
      "\n"
     ]
    },
    {
     "name": "stderr",
     "output_type": "stream",
     "text": [
      "Epoch 74: 100%|██████████| 391/391 [00:26<00:00, 14.87it/s, Train_acc=99.1, Train_loss=0.049]\n"
     ]
    },
    {
     "name": "stdout",
     "output_type": "stream",
     "text": [
      "Epoch 74: M_Optimizer LR => 0.00100 | Gamma1 LR => 0.00994 | Gamma1: ['2.25935', '2.30424', '2.27264', '2.27431', '2.27517', '2.24546', '2.27903', '2.30113', '2.31367', '2.29309', '2.28003', '2.29925', '2.30040'] | Gamma1 Grad: ['-0.00882', '-0.00702', '-0.03047', '0.00899', '-0.01605', '0.00289', '-0.00366', '-0.00105', '0.00020', '0.00075', '0.00251', '-0.00675', '0.00072']\n",
      "📜 Logs saved to C:\\Users\\emeka\\Research\\ModelCUDA\\Big_Data_Journal\\Comparison\\Code\\Paper\\github2\\CIFAR10\\VGG16\\Results\\FFTGate\\FFTGate_training_logs.txt!\n",
      "🏆 New Best Training Accuracy: 99.078% (Updated)\n",
      "📊 Train Accuracy: 99.078% | 🏆 Best Train Accuracy: 99.078%\n",
      "📜 Training logs saved to ./Results/CIFAR10_Train_B128_LR0.001_FFTGate_VGG16_Adam.txt!\n",
      "🏆 Best Training Accuracy: 99.078% (Updated)\n"
     ]
    },
    {
     "name": "stderr",
     "output_type": "stream",
     "text": [
      "Testing Epoch 74: 100%|██████████| 79/79 [00:01<00:00, 55.19it/s, Test_acc=91.1, Test_loss=0.405]\n"
     ]
    },
    {
     "name": "stdout",
     "output_type": "stream",
     "text": [
      "📊 Test Accuracy: 91.070% | 🏆 Best Test Accuracy: 91.690%\n",
      "📜 Test logs saved to C:\\Users\\emeka\\Research\\ModelCUDA\\Big_Data_Journal\\Comparison\\Code\\Paper\\github2\\CIFAR10\\VGG16\\Results\\CIFAR10_Test_B128_LR0.001_FFTGate_VGG16_Adam.txt!\n",
      "\n"
     ]
    },
    {
     "name": "stderr",
     "output_type": "stream",
     "text": [
      "Epoch 75: 100%|██████████| 391/391 [00:26<00:00, 14.71it/s, Train_acc=99, Train_loss=0.05]   \n"
     ]
    },
    {
     "name": "stdout",
     "output_type": "stream",
     "text": [
      "Epoch 75: M_Optimizer LR => 0.00100 | Gamma1 LR => 0.00990 | Gamma1: ['2.26306', '2.30194', '2.31162', '2.25839', '2.28781', '2.22519', '2.26804', '2.29621', '2.33468', '2.30861', '2.30621', '2.31549', '2.28463'] | Gamma1 Grad: ['0.00246', '0.00474', '-0.02231', '0.01142', '-0.01154', '0.00247', '-0.00136', '-0.00046', '0.00421', '0.00281', '0.00129', '0.00050', '-0.00125']\n",
      "📜 Logs saved to C:\\Users\\emeka\\Research\\ModelCUDA\\Big_Data_Journal\\Comparison\\Code\\Paper\\github2\\CIFAR10\\VGG16\\Results\\FFTGate\\FFTGate_training_logs.txt!\n",
      "📊 Train Accuracy: 99.024% | 🏆 Best Train Accuracy: 99.078%\n",
      "📜 Training logs saved to ./Results/CIFAR10_Train_B128_LR0.001_FFTGate_VGG16_Adam.txt!\n",
      "🏆 Best Training Accuracy: 99.078% (Updated)\n"
     ]
    },
    {
     "name": "stderr",
     "output_type": "stream",
     "text": [
      "Testing Epoch 75: 100%|██████████| 79/79 [00:01<00:00, 55.55it/s, Test_acc=91.2, Test_loss=0.393]\n"
     ]
    },
    {
     "name": "stdout",
     "output_type": "stream",
     "text": [
      "📊 Test Accuracy: 91.230% | 🏆 Best Test Accuracy: 91.690%\n",
      "📜 Test logs saved to C:\\Users\\emeka\\Research\\ModelCUDA\\Big_Data_Journal\\Comparison\\Code\\Paper\\github2\\CIFAR10\\VGG16\\Results\\CIFAR10_Test_B128_LR0.001_FFTGate_VGG16_Adam.txt!\n",
      "\n"
     ]
    },
    {
     "name": "stderr",
     "output_type": "stream",
     "text": [
      "Epoch 76: 100%|██████████| 391/391 [00:26<00:00, 14.54it/s, Train_acc=99, Train_loss=0.049]  \n"
     ]
    },
    {
     "name": "stdout",
     "output_type": "stream",
     "text": [
      "Epoch 76: M_Optimizer LR => 0.00100 | Gamma1 LR => 0.00986 | Gamma1: ['2.31816', '2.30431', '2.34049', '2.27618', '2.29784', '2.24146', '2.30866', '2.29761', '2.29651', '2.28755', '2.27110', '2.29001', '2.28301'] | Gamma1 Grad: ['0.00380', '0.00267', '-0.00087', '0.00257', '0.00304', '-0.00248', '-0.00151', '0.00027', '0.00063', '0.00016', '-0.00001', '-0.00077', '0.00032']\n",
      "📜 Logs saved to C:\\Users\\emeka\\Research\\ModelCUDA\\Big_Data_Journal\\Comparison\\Code\\Paper\\github2\\CIFAR10\\VGG16\\Results\\FFTGate\\FFTGate_training_logs.txt!\n",
      "📊 Train Accuracy: 99.008% | 🏆 Best Train Accuracy: 99.078%\n",
      "📜 Training logs saved to ./Results/CIFAR10_Train_B128_LR0.001_FFTGate_VGG16_Adam.txt!\n",
      "🏆 Best Training Accuracy: 99.078% (Updated)\n"
     ]
    },
    {
     "name": "stderr",
     "output_type": "stream",
     "text": [
      "Testing Epoch 76: 100%|██████████| 79/79 [00:01<00:00, 54.97it/s, Test_acc=91.9, Test_loss=0.383]\n"
     ]
    },
    {
     "name": "stdout",
     "output_type": "stream",
     "text": [
      "🏆 Saving best model...\n",
      "Checkpoint saved: ./checkpoint/CIFAR10_B128_LR0_001_FFTGate_VGG16_Adam.t7\n",
      "📊 Test Accuracy: 91.860% | 🏆 Best Test Accuracy: 91.860%\n",
      "📜 Test logs saved to C:\\Users\\emeka\\Research\\ModelCUDA\\Big_Data_Journal\\Comparison\\Code\\Paper\\github2\\CIFAR10\\VGG16\\Results\\CIFAR10_Test_B128_LR0.001_FFTGate_VGG16_Adam.txt!\n",
      "\n"
     ]
    },
    {
     "name": "stderr",
     "output_type": "stream",
     "text": [
      "Epoch 77: 100%|██████████| 391/391 [00:26<00:00, 14.93it/s, Train_acc=99.1, Train_loss=0.047]\n"
     ]
    },
    {
     "name": "stdout",
     "output_type": "stream",
     "text": [
      "Epoch 77: M_Optimizer LR => 0.00100 | Gamma1 LR => 0.00981 | Gamma1: ['2.31946', '2.27836', '2.29769', '2.26564', '2.27396', '2.27607', '2.27632', '2.30978', '2.27793', '2.29713', '2.28515', '2.30503', '2.31772'] | Gamma1 Grad: ['-0.00034', '-0.00035', '0.00028', '-0.00048', '0.00002', '0.00068', '-0.00076', '0.00072', '-0.00097', '-0.00022', '-0.00082', '-0.00067', '0.00073']\n",
      "📜 Logs saved to C:\\Users\\emeka\\Research\\ModelCUDA\\Big_Data_Journal\\Comparison\\Code\\Paper\\github2\\CIFAR10\\VGG16\\Results\\FFTGate\\FFTGate_training_logs.txt!\n",
      "🏆 New Best Training Accuracy: 99.144% (Updated)\n",
      "📊 Train Accuracy: 99.144% | 🏆 Best Train Accuracy: 99.144%\n",
      "📜 Training logs saved to ./Results/CIFAR10_Train_B128_LR0.001_FFTGate_VGG16_Adam.txt!\n",
      "🏆 Best Training Accuracy: 99.144% (Updated)\n"
     ]
    },
    {
     "name": "stderr",
     "output_type": "stream",
     "text": [
      "Testing Epoch 77: 100%|██████████| 79/79 [00:01<00:00, 55.69it/s, Test_acc=91.7, Test_loss=0.372]\n"
     ]
    },
    {
     "name": "stdout",
     "output_type": "stream",
     "text": [
      "📊 Test Accuracy: 91.740% | 🏆 Best Test Accuracy: 91.860%\n",
      "📜 Test logs saved to C:\\Users\\emeka\\Research\\ModelCUDA\\Big_Data_Journal\\Comparison\\Code\\Paper\\github2\\CIFAR10\\VGG16\\Results\\CIFAR10_Test_B128_LR0.001_FFTGate_VGG16_Adam.txt!\n",
      "\n"
     ]
    },
    {
     "name": "stderr",
     "output_type": "stream",
     "text": [
      "Epoch 78: 100%|██████████| 391/391 [00:26<00:00, 15.00it/s, Train_acc=99.1, Train_loss=0.049]\n"
     ]
    },
    {
     "name": "stdout",
     "output_type": "stream",
     "text": [
      "Epoch 78: M_Optimizer LR => 0.00100 | Gamma1 LR => 0.00976 | Gamma1: ['2.27713', '2.26344', '2.25431', '2.28079', '2.27761', '2.27095', '2.29519', '2.30508', '2.26512', '2.29836', '2.30264', '2.27150', '2.28985'] | Gamma1 Grad: ['0.00851', '0.00658', '-0.00825', '0.01284', '0.00025', '0.01853', '-0.00650', '0.00100', '0.00745', '0.00099', '-0.00947', '-0.00098', '0.00245']\n",
      "📜 Logs saved to C:\\Users\\emeka\\Research\\ModelCUDA\\Big_Data_Journal\\Comparison\\Code\\Paper\\github2\\CIFAR10\\VGG16\\Results\\FFTGate\\FFTGate_training_logs.txt!\n",
      "📊 Train Accuracy: 99.098% | 🏆 Best Train Accuracy: 99.144%\n",
      "📜 Training logs saved to ./Results/CIFAR10_Train_B128_LR0.001_FFTGate_VGG16_Adam.txt!\n",
      "🏆 Best Training Accuracy: 99.144% (Updated)\n"
     ]
    },
    {
     "name": "stderr",
     "output_type": "stream",
     "text": [
      "Testing Epoch 78: 100%|██████████| 79/79 [00:01<00:00, 53.81it/s, Test_acc=91.6, Test_loss=0.375]\n"
     ]
    },
    {
     "name": "stdout",
     "output_type": "stream",
     "text": [
      "📊 Test Accuracy: 91.570% | 🏆 Best Test Accuracy: 91.860%\n",
      "📜 Test logs saved to C:\\Users\\emeka\\Research\\ModelCUDA\\Big_Data_Journal\\Comparison\\Code\\Paper\\github2\\CIFAR10\\VGG16\\Results\\CIFAR10_Test_B128_LR0.001_FFTGate_VGG16_Adam.txt!\n",
      "\n"
     ]
    },
    {
     "name": "stderr",
     "output_type": "stream",
     "text": [
      "Epoch 79: 100%|██████████| 391/391 [00:27<00:00, 14.37it/s, Train_acc=99.1, Train_loss=0.048]\n"
     ]
    },
    {
     "name": "stdout",
     "output_type": "stream",
     "text": [
      "Epoch 79: M_Optimizer LR => 0.00010 | Gamma1 LR => 0.00969 | Gamma1: ['2.31825', '2.27129', '2.27163', '2.29819', '2.27512', '2.24687', '2.26505', '2.31787', '2.30752', '2.30141', '2.32520', '2.29642', '2.29770'] | Gamma1 Grad: ['0.00130', '0.00806', '-0.00535', '-0.00444', '-0.00858', '0.00579', '-0.00182', '0.00125', '-0.00119', '0.00088', '0.00201', '-0.00089', '0.00140']\n",
      "📜 Logs saved to C:\\Users\\emeka\\Research\\ModelCUDA\\Big_Data_Journal\\Comparison\\Code\\Paper\\github2\\CIFAR10\\VGG16\\Results\\FFTGate\\FFTGate_training_logs.txt!\n",
      "📊 Train Accuracy: 99.064% | 🏆 Best Train Accuracy: 99.144%\n",
      "📜 Training logs saved to ./Results/CIFAR10_Train_B128_LR0.001_FFTGate_VGG16_Adam.txt!\n",
      "🏆 Best Training Accuracy: 99.144% (Updated)\n"
     ]
    },
    {
     "name": "stderr",
     "output_type": "stream",
     "text": [
      "Testing Epoch 79: 100%|██████████| 79/79 [00:01<00:00, 55.68it/s, Test_acc=92, Test_loss=0.354]  \n"
     ]
    },
    {
     "name": "stdout",
     "output_type": "stream",
     "text": [
      "🏆 Saving best model...\n",
      "Checkpoint saved: ./checkpoint/CIFAR10_B128_LR0_001_FFTGate_VGG16_Adam.t7\n",
      "📊 Test Accuracy: 92.050% | 🏆 Best Test Accuracy: 92.050%\n",
      "📜 Test logs saved to C:\\Users\\emeka\\Research\\ModelCUDA\\Big_Data_Journal\\Comparison\\Code\\Paper\\github2\\CIFAR10\\VGG16\\Results\\CIFAR10_Test_B128_LR0.001_FFTGate_VGG16_Adam.txt!\n",
      "\n"
     ]
    },
    {
     "name": "stderr",
     "output_type": "stream",
     "text": [
      "Epoch 80: 100%|██████████| 391/391 [00:26<00:00, 14.83it/s, Train_acc=99.7, Train_loss=0.032]\n"
     ]
    },
    {
     "name": "stdout",
     "output_type": "stream",
     "text": [
      "Epoch 80: M_Optimizer LR => 0.00010 | Gamma1 LR => 0.00962 | Gamma1: ['2.30513', '2.29382', '2.26138', '2.30602', '2.26214', '2.24790', '2.28926', '2.31335', '2.29279', '2.29020', '2.30259', '2.29229', '2.28781'] | Gamma1 Grad: ['0.00263', '-0.00144', '0.00074', '-0.00455', '0.00132', '-0.00115', '0.00107', '0.00109', '0.00214', '-0.00094', '0.00011', '-0.00026', '0.00084']\n",
      "📜 Logs saved to C:\\Users\\emeka\\Research\\ModelCUDA\\Big_Data_Journal\\Comparison\\Code\\Paper\\github2\\CIFAR10\\VGG16\\Results\\FFTGate\\FFTGate_training_logs.txt!\n",
      "🏆 New Best Training Accuracy: 99.668% (Updated)\n",
      "📊 Train Accuracy: 99.668% | 🏆 Best Train Accuracy: 99.668%\n",
      "📜 Training logs saved to ./Results/CIFAR10_Train_B128_LR0.001_FFTGate_VGG16_Adam.txt!\n",
      "🏆 Best Training Accuracy: 99.668% (Updated)\n",
      "📏 Sizes → ActivationHist: 5083 | TestAccHist: 0 | TrainLossHist: 81\n"
     ]
    },
    {
     "name": "stderr",
     "output_type": "stream",
     "text": [
      "Testing Epoch 80: 100%|██████████| 79/79 [00:01<00:00, 55.75it/s, Test_acc=92.5, Test_loss=0.344]\n"
     ]
    },
    {
     "name": "stdout",
     "output_type": "stream",
     "text": [
      "🏆 Saving best model...\n",
      "Checkpoint saved: ./checkpoint/CIFAR10_B128_LR0_001_FFTGate_VGG16_Adam.t7\n",
      "📊 Test Accuracy: 92.500% | 🏆 Best Test Accuracy: 92.500%\n",
      "📜 Test logs saved to C:\\Users\\emeka\\Research\\ModelCUDA\\Big_Data_Journal\\Comparison\\Code\\Paper\\github2\\CIFAR10\\VGG16\\Results\\CIFAR10_Test_B128_LR0.001_FFTGate_VGG16_Adam.txt!\n",
      "\n"
     ]
    },
    {
     "name": "stderr",
     "output_type": "stream",
     "text": [
      "Epoch 81: 100%|██████████| 391/391 [00:26<00:00, 14.80it/s, Train_acc=99.8, Train_loss=0.028]\n"
     ]
    },
    {
     "name": "stdout",
     "output_type": "stream",
     "text": [
      "Epoch 81: M_Optimizer LR => 0.00010 | Gamma1 LR => 0.00954 | Gamma1: ['2.30167', '2.29495', '2.27265', '2.28109', '2.27722', '2.27311', '2.29603', '2.30215', '2.28749', '2.28571', '2.28822', '2.28532', '2.28555'] | Gamma1 Grad: ['-0.00027', '0.00157', '0.00424', '0.00154', '-0.01160', '0.00078', '-0.00179', '-0.00116', '-0.00356', '-0.00096', '-0.00064', '-0.00021', '0.00015']\n",
      "📜 Logs saved to C:\\Users\\emeka\\Research\\ModelCUDA\\Big_Data_Journal\\Comparison\\Code\\Paper\\github2\\CIFAR10\\VGG16\\Results\\FFTGate\\FFTGate_training_logs.txt!\n",
      "🏆 New Best Training Accuracy: 99.788% (Updated)\n",
      "📊 Train Accuracy: 99.788% | 🏆 Best Train Accuracy: 99.788%\n",
      "📜 Training logs saved to ./Results/CIFAR10_Train_B128_LR0.001_FFTGate_VGG16_Adam.txt!\n",
      "🏆 Best Training Accuracy: 99.788% (Updated)\n"
     ]
    },
    {
     "name": "stderr",
     "output_type": "stream",
     "text": [
      "Testing Epoch 81: 100%|██████████| 79/79 [00:01<00:00, 55.36it/s, Test_acc=92.6, Test_loss=0.355]\n"
     ]
    },
    {
     "name": "stdout",
     "output_type": "stream",
     "text": [
      "🏆 Saving best model...\n",
      "Checkpoint saved: ./checkpoint/CIFAR10_B128_LR0_001_FFTGate_VGG16_Adam.t7\n",
      "📊 Test Accuracy: 92.610% | 🏆 Best Test Accuracy: 92.610%\n",
      "📜 Test logs saved to C:\\Users\\emeka\\Research\\ModelCUDA\\Big_Data_Journal\\Comparison\\Code\\Paper\\github2\\CIFAR10\\VGG16\\Results\\CIFAR10_Test_B128_LR0.001_FFTGate_VGG16_Adam.txt!\n",
      "\n"
     ]
    },
    {
     "name": "stderr",
     "output_type": "stream",
     "text": [
      "Epoch 82: 100%|██████████| 391/391 [00:26<00:00, 14.90it/s, Train_acc=99.8, Train_loss=0.026]\n"
     ]
    },
    {
     "name": "stdout",
     "output_type": "stream",
     "text": [
      "Epoch 82: M_Optimizer LR => 0.00010 | Gamma1 LR => 0.00946 | Gamma1: ['2.29603', '2.27877', '2.30475', '2.27377', '2.28233', '2.28463', '2.28628', '2.28600', '2.28767', '2.29384', '2.28470', '2.28832', '2.27924'] | Gamma1 Grad: ['0.00135', '-0.00236', '0.00004', '0.00178', '0.00205', '-0.00010', '0.00009', '-0.00038', '-0.00035', '0.00001', '-0.00035', '-0.00115', '-0.00018']\n",
      "📜 Logs saved to C:\\Users\\emeka\\Research\\ModelCUDA\\Big_Data_Journal\\Comparison\\Code\\Paper\\github2\\CIFAR10\\VGG16\\Results\\FFTGate\\FFTGate_training_logs.txt!\n",
      "🏆 New Best Training Accuracy: 99.806% (Updated)\n",
      "📊 Train Accuracy: 99.806% | 🏆 Best Train Accuracy: 99.806%\n",
      "📜 Training logs saved to ./Results/CIFAR10_Train_B128_LR0.001_FFTGate_VGG16_Adam.txt!\n",
      "🏆 Best Training Accuracy: 99.806% (Updated)\n"
     ]
    },
    {
     "name": "stderr",
     "output_type": "stream",
     "text": [
      "Testing Epoch 82: 100%|██████████| 79/79 [00:01<00:00, 56.02it/s, Test_acc=92.7, Test_loss=0.357]\n"
     ]
    },
    {
     "name": "stdout",
     "output_type": "stream",
     "text": [
      "🏆 Saving best model...\n",
      "Checkpoint saved: ./checkpoint/CIFAR10_B128_LR0_001_FFTGate_VGG16_Adam.t7\n",
      "📊 Test Accuracy: 92.680% | 🏆 Best Test Accuracy: 92.680%\n",
      "📜 Test logs saved to C:\\Users\\emeka\\Research\\ModelCUDA\\Big_Data_Journal\\Comparison\\Code\\Paper\\github2\\CIFAR10\\VGG16\\Results\\CIFAR10_Test_B128_LR0.001_FFTGate_VGG16_Adam.txt!\n",
      "\n"
     ]
    },
    {
     "name": "stderr",
     "output_type": "stream",
     "text": [
      "Epoch 83: 100%|██████████| 391/391 [00:26<00:00, 14.50it/s, Train_acc=99.9, Train_loss=0.026]\n"
     ]
    },
    {
     "name": "stdout",
     "output_type": "stream",
     "text": [
      "Epoch 83: M_Optimizer LR => 0.00010 | Gamma1 LR => 0.00937 | Gamma1: ['2.29697', '2.26276', '2.33388', '2.29310', '2.27539', '2.33044', '2.31220', '2.28965', '2.29770', '2.28206', '2.29043', '2.29072', '2.28554'] | Gamma1 Grad: ['0.00036', '-0.00038', '0.00088', '0.00038', '-0.00020', '0.00127', '0.00066', '0.00017', '0.00039', '-0.00006', '0.00009', '0.00031', '0.00016']\n",
      "📜 Logs saved to C:\\Users\\emeka\\Research\\ModelCUDA\\Big_Data_Journal\\Comparison\\Code\\Paper\\github2\\CIFAR10\\VGG16\\Results\\FFTGate\\FFTGate_training_logs.txt!\n",
      "🏆 New Best Training Accuracy: 99.856% (Updated)\n",
      "📊 Train Accuracy: 99.856% | 🏆 Best Train Accuracy: 99.856%\n",
      "📜 Training logs saved to ./Results/CIFAR10_Train_B128_LR0.001_FFTGate_VGG16_Adam.txt!\n",
      "🏆 Best Training Accuracy: 99.856% (Updated)\n"
     ]
    },
    {
     "name": "stderr",
     "output_type": "stream",
     "text": [
      "Testing Epoch 83: 100%|██████████| 79/79 [00:01<00:00, 54.38it/s, Test_acc=92.9, Test_loss=0.364]\n"
     ]
    },
    {
     "name": "stdout",
     "output_type": "stream",
     "text": [
      "🏆 Saving best model...\n",
      "Checkpoint saved: ./checkpoint/CIFAR10_B128_LR0_001_FFTGate_VGG16_Adam.t7\n",
      "📊 Test Accuracy: 92.900% | 🏆 Best Test Accuracy: 92.900%\n",
      "📜 Test logs saved to C:\\Users\\emeka\\Research\\ModelCUDA\\Big_Data_Journal\\Comparison\\Code\\Paper\\github2\\CIFAR10\\VGG16\\Results\\CIFAR10_Test_B128_LR0.001_FFTGate_VGG16_Adam.txt!\n",
      "\n"
     ]
    },
    {
     "name": "stderr",
     "output_type": "stream",
     "text": [
      "Epoch 84: 100%|██████████| 391/391 [00:26<00:00, 14.69it/s, Train_acc=99.9, Train_loss=0.024]\n"
     ]
    },
    {
     "name": "stdout",
     "output_type": "stream",
     "text": [
      "Epoch 84: M_Optimizer LR => 0.00010 | Gamma1 LR => 0.00927 | Gamma1: ['2.28432', '2.26764', '2.30860', '2.26619', '2.27181', '2.30732', '2.30361', '2.29875', '2.29672', '2.29101', '2.29492', '2.29384', '2.28249'] | Gamma1 Grad: ['-0.00008', '0.00002', '-0.00023', '-0.00031', '-0.00048', '0.00000', '0.00047', '0.00021', '-0.00007', '0.00005', '-0.00029', '-0.00038', '-0.00012']\n",
      "📜 Logs saved to C:\\Users\\emeka\\Research\\ModelCUDA\\Big_Data_Journal\\Comparison\\Code\\Paper\\github2\\CIFAR10\\VGG16\\Results\\FFTGate\\FFTGate_training_logs.txt!\n",
      "🏆 New Best Training Accuracy: 99.886% (Updated)\n",
      "📊 Train Accuracy: 99.886% | 🏆 Best Train Accuracy: 99.886%\n",
      "📜 Training logs saved to ./Results/CIFAR10_Train_B128_LR0.001_FFTGate_VGG16_Adam.txt!\n",
      "🏆 Best Training Accuracy: 99.886% (Updated)\n"
     ]
    },
    {
     "name": "stderr",
     "output_type": "stream",
     "text": [
      "Testing Epoch 84: 100%|██████████| 79/79 [00:01<00:00, 55.79it/s, Test_acc=92.8, Test_loss=0.377]\n"
     ]
    },
    {
     "name": "stdout",
     "output_type": "stream",
     "text": [
      "📊 Test Accuracy: 92.800% | 🏆 Best Test Accuracy: 92.900%\n",
      "📜 Test logs saved to C:\\Users\\emeka\\Research\\ModelCUDA\\Big_Data_Journal\\Comparison\\Code\\Paper\\github2\\CIFAR10\\VGG16\\Results\\CIFAR10_Test_B128_LR0.001_FFTGate_VGG16_Adam.txt!\n",
      "\n"
     ]
    },
    {
     "name": "stderr",
     "output_type": "stream",
     "text": [
      "Epoch 85: 100%|██████████| 391/391 [00:27<00:00, 14.39it/s, Train_acc=99.9, Train_loss=0.024]\n"
     ]
    },
    {
     "name": "stdout",
     "output_type": "stream",
     "text": [
      "Epoch 85: M_Optimizer LR => 0.00010 | Gamma1 LR => 0.00916 | Gamma1: ['2.30499', '2.30551', '2.28155', '2.22874', '2.27458', '2.26067', '2.32620', '2.29002', '2.28782', '2.29056', '2.27963', '2.31254', '2.27476'] | Gamma1 Grad: ['0.00039', '0.00054', '-0.00034', '-0.00115', '-0.00004', '-0.00081', '0.00069', '-0.00011', '-0.00016', '0.00006', '-0.00009', '0.00083', '-0.00021']\n",
      "📜 Logs saved to C:\\Users\\emeka\\Research\\ModelCUDA\\Big_Data_Journal\\Comparison\\Code\\Paper\\github2\\CIFAR10\\VGG16\\Results\\FFTGate\\FFTGate_training_logs.txt!\n",
      "🏆 New Best Training Accuracy: 99.894% (Updated)\n",
      "📊 Train Accuracy: 99.894% | 🏆 Best Train Accuracy: 99.894%\n",
      "📜 Training logs saved to ./Results/CIFAR10_Train_B128_LR0.001_FFTGate_VGG16_Adam.txt!\n",
      "🏆 Best Training Accuracy: 99.894% (Updated)\n"
     ]
    },
    {
     "name": "stderr",
     "output_type": "stream",
     "text": [
      "Testing Epoch 85: 100%|██████████| 79/79 [00:01<00:00, 55.52it/s, Test_acc=92.9, Test_loss=0.394]\n"
     ]
    },
    {
     "name": "stdout",
     "output_type": "stream",
     "text": [
      "📊 Test Accuracy: 92.880% | 🏆 Best Test Accuracy: 92.900%\n",
      "📜 Test logs saved to C:\\Users\\emeka\\Research\\ModelCUDA\\Big_Data_Journal\\Comparison\\Code\\Paper\\github2\\CIFAR10\\VGG16\\Results\\CIFAR10_Test_B128_LR0.001_FFTGate_VGG16_Adam.txt!\n",
      "\n"
     ]
    },
    {
     "name": "stderr",
     "output_type": "stream",
     "text": [
      "Epoch 86: 100%|██████████| 391/391 [00:26<00:00, 14.77it/s, Train_acc=99.9, Train_loss=0.024]\n"
     ]
    },
    {
     "name": "stdout",
     "output_type": "stream",
     "text": [
      "Epoch 86: M_Optimizer LR => 0.00010 | Gamma1 LR => 0.00905 | Gamma1: ['2.33330', '2.32229', '2.32359', '2.25580', '2.33410', '2.26362', '2.31253', '2.29154', '2.29289', '2.29516', '2.29898', '2.31045', '2.27425'] | Gamma1 Grad: ['0.00095', '0.00075', '0.00093', '0.00001', '0.00128', '-0.00025', '0.00029', '0.00014', '0.00017', '0.00025', '0.00052', '0.00064', '-0.00005']\n",
      "📜 Logs saved to C:\\Users\\emeka\\Research\\ModelCUDA\\Big_Data_Journal\\Comparison\\Code\\Paper\\github2\\CIFAR10\\VGG16\\Results\\FFTGate\\FFTGate_training_logs.txt!\n",
      "🏆 New Best Training Accuracy: 99.900% (Updated)\n",
      "📊 Train Accuracy: 99.900% | 🏆 Best Train Accuracy: 99.900%\n",
      "📜 Training logs saved to ./Results/CIFAR10_Train_B128_LR0.001_FFTGate_VGG16_Adam.txt!\n",
      "🏆 Best Training Accuracy: 99.900% (Updated)\n"
     ]
    },
    {
     "name": "stderr",
     "output_type": "stream",
     "text": [
      "Testing Epoch 86: 100%|██████████| 79/79 [00:01<00:00, 54.67it/s, Test_acc=92.9, Test_loss=0.388]\n"
     ]
    },
    {
     "name": "stdout",
     "output_type": "stream",
     "text": [
      "🏆 Saving best model...\n",
      "Checkpoint saved: ./checkpoint/CIFAR10_B128_LR0_001_FFTGate_VGG16_Adam.t7\n",
      "📊 Test Accuracy: 92.940% | 🏆 Best Test Accuracy: 92.940%\n",
      "📜 Test logs saved to C:\\Users\\emeka\\Research\\ModelCUDA\\Big_Data_Journal\\Comparison\\Code\\Paper\\github2\\CIFAR10\\VGG16\\Results\\CIFAR10_Test_B128_LR0.001_FFTGate_VGG16_Adam.txt!\n",
      "\n"
     ]
    },
    {
     "name": "stderr",
     "output_type": "stream",
     "text": [
      "Epoch 87: 100%|██████████| 391/391 [00:26<00:00, 14.64it/s, Train_acc=99.9, Train_loss=0.024]\n"
     ]
    },
    {
     "name": "stdout",
     "output_type": "stream",
     "text": [
      "Epoch 87: M_Optimizer LR => 0.00010 | Gamma1 LR => 0.00893 | Gamma1: ['2.30890', '2.30591', '2.30398', '2.27790', '2.35336', '2.24331', '2.29679', '2.29539', '2.28247', '2.28622', '2.28348', '2.30102', '2.28594'] | Gamma1 Grad: ['0.00002', '-0.00017', '0.00023', '-0.00005', '0.00105', '-0.00055', '-0.00010', '-0.00009', '-0.00034', '-0.00023', '-0.00024', '0.00024', '-0.00002']\n",
      "📜 Logs saved to C:\\Users\\emeka\\Research\\ModelCUDA\\Big_Data_Journal\\Comparison\\Code\\Paper\\github2\\CIFAR10\\VGG16\\Results\\FFTGate\\FFTGate_training_logs.txt!\n",
      "📊 Train Accuracy: 99.898% | 🏆 Best Train Accuracy: 99.900%\n",
      "📜 Training logs saved to ./Results/CIFAR10_Train_B128_LR0.001_FFTGate_VGG16_Adam.txt!\n",
      "🏆 Best Training Accuracy: 99.900% (Updated)\n"
     ]
    },
    {
     "name": "stderr",
     "output_type": "stream",
     "text": [
      "Testing Epoch 87: 100%|██████████| 79/79 [00:01<00:00, 54.09it/s, Test_acc=93, Test_loss=0.388]  \n"
     ]
    },
    {
     "name": "stdout",
     "output_type": "stream",
     "text": [
      "🏆 Saving best model...\n",
      "Checkpoint saved: ./checkpoint/CIFAR10_B128_LR0_001_FFTGate_VGG16_Adam.t7\n",
      "📊 Test Accuracy: 92.950% | 🏆 Best Test Accuracy: 92.950%\n",
      "📜 Test logs saved to C:\\Users\\emeka\\Research\\ModelCUDA\\Big_Data_Journal\\Comparison\\Code\\Paper\\github2\\CIFAR10\\VGG16\\Results\\CIFAR10_Test_B128_LR0.001_FFTGate_VGG16_Adam.txt!\n",
      "\n"
     ]
    },
    {
     "name": "stderr",
     "output_type": "stream",
     "text": [
      "Epoch 88: 100%|██████████| 391/391 [00:27<00:00, 14.32it/s, Train_acc=99.9, Train_loss=0.024]\n"
     ]
    },
    {
     "name": "stdout",
     "output_type": "stream",
     "text": [
      "Epoch 88: M_Optimizer LR => 0.00010 | Gamma1 LR => 0.00881 | Gamma1: ['2.29030', '2.30226', '2.29557', '2.28758', '2.30184', '2.27038', '2.29721', '2.28158', '2.28737', '2.28671', '2.29259', '2.30259', '2.28464'] | Gamma1 Grad: ['0.00024', '0.00047', '0.00011', '0.00026', '-0.00003', '0.00013', '0.00027', '-0.00004', '0.00021', '0.00017', '0.00024', '0.00020', '0.00011']\n",
      "📜 Logs saved to C:\\Users\\emeka\\Research\\ModelCUDA\\Big_Data_Journal\\Comparison\\Code\\Paper\\github2\\CIFAR10\\VGG16\\Results\\FFTGate\\FFTGate_training_logs.txt!\n",
      "🏆 New Best Training Accuracy: 99.906% (Updated)\n",
      "📊 Train Accuracy: 99.906% | 🏆 Best Train Accuracy: 99.906%\n",
      "📜 Training logs saved to ./Results/CIFAR10_Train_B128_LR0.001_FFTGate_VGG16_Adam.txt!\n",
      "🏆 Best Training Accuracy: 99.906% (Updated)\n"
     ]
    },
    {
     "name": "stderr",
     "output_type": "stream",
     "text": [
      "Testing Epoch 88: 100%|██████████| 79/79 [00:01<00:00, 54.93it/s, Test_acc=92.7, Test_loss=0.402]\n"
     ]
    },
    {
     "name": "stdout",
     "output_type": "stream",
     "text": [
      "📊 Test Accuracy: 92.730% | 🏆 Best Test Accuracy: 92.950%\n",
      "📜 Test logs saved to C:\\Users\\emeka\\Research\\ModelCUDA\\Big_Data_Journal\\Comparison\\Code\\Paper\\github2\\CIFAR10\\VGG16\\Results\\CIFAR10_Test_B128_LR0.001_FFTGate_VGG16_Adam.txt!\n",
      "\n"
     ]
    },
    {
     "name": "stderr",
     "output_type": "stream",
     "text": [
      "Epoch 89: 100%|██████████| 391/391 [00:26<00:00, 14.62it/s, Train_acc=99.9, Train_loss=0.023]\n"
     ]
    },
    {
     "name": "stdout",
     "output_type": "stream",
     "text": [
      "Epoch 89: M_Optimizer LR => 0.00010 | Gamma1 LR => 0.00868 | Gamma1: ['2.27142', '2.30802', '2.25833', '2.29055', '2.28745', '2.26263', '2.28234', '2.29464', '2.29103', '2.29864', '2.30563', '2.29683', '2.27998'] | Gamma1 Grad: ['-0.00005', '0.00027', '-0.00062', '0.00039', '-0.00000', '-0.00041', '-0.00027', '0.00026', '0.00010', '0.00022', '0.00009', '-0.00034', '-0.00006']\n",
      "📜 Logs saved to C:\\Users\\emeka\\Research\\ModelCUDA\\Big_Data_Journal\\Comparison\\Code\\Paper\\github2\\CIFAR10\\VGG16\\Results\\FFTGate\\FFTGate_training_logs.txt!\n",
      "🏆 New Best Training Accuracy: 99.938% (Updated)\n",
      "📊 Train Accuracy: 99.938% | 🏆 Best Train Accuracy: 99.938%\n",
      "📜 Training logs saved to ./Results/CIFAR10_Train_B128_LR0.001_FFTGate_VGG16_Adam.txt!\n",
      "🏆 Best Training Accuracy: 99.938% (Updated)\n"
     ]
    },
    {
     "name": "stderr",
     "output_type": "stream",
     "text": [
      "Testing Epoch 89: 100%|██████████| 79/79 [00:01<00:00, 54.92it/s, Test_acc=92.8, Test_loss=0.404]\n"
     ]
    },
    {
     "name": "stdout",
     "output_type": "stream",
     "text": [
      "📊 Test Accuracy: 92.820% | 🏆 Best Test Accuracy: 92.950%\n",
      "📜 Test logs saved to C:\\Users\\emeka\\Research\\ModelCUDA\\Big_Data_Journal\\Comparison\\Code\\Paper\\github2\\CIFAR10\\VGG16\\Results\\CIFAR10_Test_B128_LR0.001_FFTGate_VGG16_Adam.txt!\n",
      "\n"
     ]
    },
    {
     "name": "stderr",
     "output_type": "stream",
     "text": [
      "Epoch 90: 100%|██████████| 391/391 [00:26<00:00, 14.87it/s, Train_acc=99.9, Train_loss=0.023]\n"
     ]
    },
    {
     "name": "stdout",
     "output_type": "stream",
     "text": [
      "Epoch 90: M_Optimizer LR => 0.00010 | Gamma1 LR => 0.00854 | Gamma1: ['2.26577', '2.26313', '2.26194', '2.27740', '2.27554', '2.29234', '2.29344', '2.27975', '2.27884', '2.27942', '2.27967', '2.27276', '2.27276'] | Gamma1 Grad: ['-0.00110', '-0.00099', '-0.00082', '0.00063', '0.00093', '0.00137', '0.00085', '-0.00004', '-0.00021', '-0.00009', '-0.00032', '-0.00022', '-0.00024']\n",
      "📜 Logs saved to C:\\Users\\emeka\\Research\\ModelCUDA\\Big_Data_Journal\\Comparison\\Code\\Paper\\github2\\CIFAR10\\VGG16\\Results\\FFTGate\\FFTGate_training_logs.txt!\n",
      "📊 Train Accuracy: 99.924% | 🏆 Best Train Accuracy: 99.938%\n",
      "📜 Training logs saved to ./Results/CIFAR10_Train_B128_LR0.001_FFTGate_VGG16_Adam.txt!\n",
      "🏆 Best Training Accuracy: 99.938% (Updated)\n",
      "📏 Sizes → ActivationHist: 5083 | TestAccHist: 0 | TrainLossHist: 91\n"
     ]
    },
    {
     "name": "stderr",
     "output_type": "stream",
     "text": [
      "Testing Epoch 90: 100%|██████████| 79/79 [00:01<00:00, 55.05it/s, Test_acc=92.8, Test_loss=0.407]\n"
     ]
    },
    {
     "name": "stdout",
     "output_type": "stream",
     "text": [
      "📊 Test Accuracy: 92.820% | 🏆 Best Test Accuracy: 92.950%\n",
      "📜 Test logs saved to C:\\Users\\emeka\\Research\\ModelCUDA\\Big_Data_Journal\\Comparison\\Code\\Paper\\github2\\CIFAR10\\VGG16\\Results\\CIFAR10_Test_B128_LR0.001_FFTGate_VGG16_Adam.txt!\n",
      "\n"
     ]
    },
    {
     "name": "stderr",
     "output_type": "stream",
     "text": [
      "Epoch 91: 100%|██████████| 391/391 [00:26<00:00, 14.67it/s, Train_acc=99.9, Train_loss=0.023]\n"
     ]
    },
    {
     "name": "stdout",
     "output_type": "stream",
     "text": [
      "Epoch 91: M_Optimizer LR => 0.00010 | Gamma1 LR => 0.00840 | Gamma1: ['2.26204', '2.23872', '2.25859', '2.26805', '2.30484', '2.28544', '2.28950', '2.28670', '2.26352', '2.27507', '2.27418', '2.27430', '2.27699'] | Gamma1 Grad: ['-0.00083', '-0.00070', '-0.00029', '0.00005', '0.00028', '-0.00067', '-0.00050', '0.00016', '-0.00043', '-0.00025', '-0.00066', '-0.00060', '-0.00017']\n",
      "📜 Logs saved to C:\\Users\\emeka\\Research\\ModelCUDA\\Big_Data_Journal\\Comparison\\Code\\Paper\\github2\\CIFAR10\\VGG16\\Results\\FFTGate\\FFTGate_training_logs.txt!\n",
      "📊 Train Accuracy: 99.920% | 🏆 Best Train Accuracy: 99.938%\n",
      "📜 Training logs saved to ./Results/CIFAR10_Train_B128_LR0.001_FFTGate_VGG16_Adam.txt!\n",
      "🏆 Best Training Accuracy: 99.938% (Updated)\n"
     ]
    },
    {
     "name": "stderr",
     "output_type": "stream",
     "text": [
      "Testing Epoch 91: 100%|██████████| 79/79 [00:01<00:00, 53.84it/s, Test_acc=92.8, Test_loss=0.404]\n"
     ]
    },
    {
     "name": "stdout",
     "output_type": "stream",
     "text": [
      "📊 Test Accuracy: 92.800% | 🏆 Best Test Accuracy: 92.950%\n",
      "📜 Test logs saved to C:\\Users\\emeka\\Research\\ModelCUDA\\Big_Data_Journal\\Comparison\\Code\\Paper\\github2\\CIFAR10\\VGG16\\Results\\CIFAR10_Test_B128_LR0.001_FFTGate_VGG16_Adam.txt!\n",
      "\n"
     ]
    },
    {
     "name": "stderr",
     "output_type": "stream",
     "text": [
      "Epoch 92: 100%|██████████| 391/391 [00:26<00:00, 14.62it/s, Train_acc=99.9, Train_loss=0.023]\n"
     ]
    },
    {
     "name": "stdout",
     "output_type": "stream",
     "text": [
      "Epoch 92: M_Optimizer LR => 0.00010 | Gamma1 LR => 0.00826 | Gamma1: ['2.26296', '2.26642', '2.26787', '2.27570', '2.29816', '2.28978', '2.28881', '2.29667', '2.28107', '2.29037', '2.29820', '2.27845', '2.28162'] | Gamma1 Grad: ['-0.00016', '0.00018', '0.00001', '0.00007', '0.00016', '0.00028', '0.00015', '0.00035', '0.00018', '0.00034', '0.00051', '0.00005', '0.00013']\n",
      "📜 Logs saved to C:\\Users\\emeka\\Research\\ModelCUDA\\Big_Data_Journal\\Comparison\\Code\\Paper\\github2\\CIFAR10\\VGG16\\Results\\FFTGate\\FFTGate_training_logs.txt!\n",
      "📊 Train Accuracy: 99.928% | 🏆 Best Train Accuracy: 99.938%\n",
      "📜 Training logs saved to ./Results/CIFAR10_Train_B128_LR0.001_FFTGate_VGG16_Adam.txt!\n",
      "🏆 Best Training Accuracy: 99.938% (Updated)\n"
     ]
    },
    {
     "name": "stderr",
     "output_type": "stream",
     "text": [
      "Testing Epoch 92: 100%|██████████| 79/79 [00:01<00:00, 54.47it/s, Test_acc=92.7, Test_loss=0.418]\n"
     ]
    },
    {
     "name": "stdout",
     "output_type": "stream",
     "text": [
      "📊 Test Accuracy: 92.740% | 🏆 Best Test Accuracy: 92.950%\n",
      "📜 Test logs saved to C:\\Users\\emeka\\Research\\ModelCUDA\\Big_Data_Journal\\Comparison\\Code\\Paper\\github2\\CIFAR10\\VGG16\\Results\\CIFAR10_Test_B128_LR0.001_FFTGate_VGG16_Adam.txt!\n",
      "\n"
     ]
    },
    {
     "name": "stderr",
     "output_type": "stream",
     "text": [
      "Epoch 93: 100%|██████████| 391/391 [00:26<00:00, 14.79it/s, Train_acc=99.9, Train_loss=0.022]\n"
     ]
    },
    {
     "name": "stdout",
     "output_type": "stream",
     "text": [
      "Epoch 93: M_Optimizer LR => 0.00010 | Gamma1 LR => 0.00810 | Gamma1: ['2.25619', '2.26134', '2.26758', '2.30174', '2.28461', '2.27302', '2.30009', '2.30401', '2.30809', '2.30336', '2.29383', '2.27058', '2.26959'] | Gamma1 Grad: ['0.00039', '-0.00034', '-0.00069', '0.00052', '-0.00196', '0.00021', '0.00031', '-0.00002', '0.00042', '0.00015', '0.00016', '-0.00023', '-0.00041']\n",
      "📜 Logs saved to C:\\Users\\emeka\\Research\\ModelCUDA\\Big_Data_Journal\\Comparison\\Code\\Paper\\github2\\CIFAR10\\VGG16\\Results\\FFTGate\\FFTGate_training_logs.txt!\n",
      "🏆 New Best Training Accuracy: 99.940% (Updated)\n",
      "📊 Train Accuracy: 99.940% | 🏆 Best Train Accuracy: 99.940%\n",
      "📜 Training logs saved to ./Results/CIFAR10_Train_B128_LR0.001_FFTGate_VGG16_Adam.txt!\n",
      "🏆 Best Training Accuracy: 99.940% (Updated)\n"
     ]
    },
    {
     "name": "stderr",
     "output_type": "stream",
     "text": [
      "Testing Epoch 93: 100%|██████████| 79/79 [00:01<00:00, 56.17it/s, Test_acc=92.7, Test_loss=0.421]\n"
     ]
    },
    {
     "name": "stdout",
     "output_type": "stream",
     "text": [
      "📊 Test Accuracy: 92.740% | 🏆 Best Test Accuracy: 92.950%\n",
      "📜 Test logs saved to C:\\Users\\emeka\\Research\\ModelCUDA\\Big_Data_Journal\\Comparison\\Code\\Paper\\github2\\CIFAR10\\VGG16\\Results\\CIFAR10_Test_B128_LR0.001_FFTGate_VGG16_Adam.txt!\n",
      "\n"
     ]
    },
    {
     "name": "stderr",
     "output_type": "stream",
     "text": [
      "Epoch 94: 100%|██████████| 391/391 [00:26<00:00, 14.83it/s, Train_acc=99.9, Train_loss=0.022]\n"
     ]
    },
    {
     "name": "stdout",
     "output_type": "stream",
     "text": [
      "Epoch 94: M_Optimizer LR => 0.00010 | Gamma1 LR => 0.00795 | Gamma1: ['2.26676', '2.26879', '2.27381', '2.26002', '2.31685', '2.28443', '2.27696', '2.28669', '2.28330', '2.28426', '2.26294', '2.25604', '2.27292'] | Gamma1 Grad: ['-0.00010', '-0.00007', '0.00001', '-0.00070', '0.00074', '0.00016', '-0.00030', '-0.00013', '-0.00026', '-0.00020', '-0.00051', '-0.00032', '-0.00010']\n",
      "📜 Logs saved to C:\\Users\\emeka\\Research\\ModelCUDA\\Big_Data_Journal\\Comparison\\Code\\Paper\\github2\\CIFAR10\\VGG16\\Results\\FFTGate\\FFTGate_training_logs.txt!\n",
      "📊 Train Accuracy: 99.936% | 🏆 Best Train Accuracy: 99.940%\n",
      "📜 Training logs saved to ./Results/CIFAR10_Train_B128_LR0.001_FFTGate_VGG16_Adam.txt!\n",
      "🏆 Best Training Accuracy: 99.940% (Updated)\n"
     ]
    },
    {
     "name": "stderr",
     "output_type": "stream",
     "text": [
      "Testing Epoch 94: 100%|██████████| 79/79 [00:01<00:00, 55.92it/s, Test_acc=92.8, Test_loss=0.423]\n"
     ]
    },
    {
     "name": "stdout",
     "output_type": "stream",
     "text": [
      "📊 Test Accuracy: 92.830% | 🏆 Best Test Accuracy: 92.950%\n",
      "📜 Test logs saved to C:\\Users\\emeka\\Research\\ModelCUDA\\Big_Data_Journal\\Comparison\\Code\\Paper\\github2\\CIFAR10\\VGG16\\Results\\CIFAR10_Test_B128_LR0.001_FFTGate_VGG16_Adam.txt!\n",
      "\n"
     ]
    },
    {
     "name": "stderr",
     "output_type": "stream",
     "text": [
      "Epoch 95: 100%|██████████| 391/391 [00:26<00:00, 14.94it/s, Train_acc=99.9, Train_loss=0.022]\n"
     ]
    },
    {
     "name": "stdout",
     "output_type": "stream",
     "text": [
      "Epoch 95: M_Optimizer LR => 0.00010 | Gamma1 LR => 0.00779 | Gamma1: ['2.28684', '2.28221', '2.26842', '2.31546', '2.27752', '2.27733', '2.27739', '2.27848', '2.29688', '2.28407', '2.25826', '2.25768', '2.28575'] | Gamma1 Grad: ['0.00039', '0.00021', '-0.00015', '0.00099', '-0.00027', '-0.00016', '0.00002', '-0.00011', '0.00038', '0.00004', '-0.00032', '-0.00041', '0.00022']\n",
      "📜 Logs saved to C:\\Users\\emeka\\Research\\ModelCUDA\\Big_Data_Journal\\Comparison\\Code\\Paper\\github2\\CIFAR10\\VGG16\\Results\\FFTGate\\FFTGate_training_logs.txt!\n",
      "🏆 New Best Training Accuracy: 99.948% (Updated)\n",
      "📊 Train Accuracy: 99.948% | 🏆 Best Train Accuracy: 99.948%\n",
      "📜 Training logs saved to ./Results/CIFAR10_Train_B128_LR0.001_FFTGate_VGG16_Adam.txt!\n",
      "🏆 Best Training Accuracy: 99.948% (Updated)\n"
     ]
    },
    {
     "name": "stderr",
     "output_type": "stream",
     "text": [
      "Testing Epoch 95: 100%|██████████| 79/79 [00:01<00:00, 54.74it/s, Test_acc=92.7, Test_loss=0.427]\n"
     ]
    },
    {
     "name": "stdout",
     "output_type": "stream",
     "text": [
      "📊 Test Accuracy: 92.700% | 🏆 Best Test Accuracy: 92.950%\n",
      "📜 Test logs saved to C:\\Users\\emeka\\Research\\ModelCUDA\\Big_Data_Journal\\Comparison\\Code\\Paper\\github2\\CIFAR10\\VGG16\\Results\\CIFAR10_Test_B128_LR0.001_FFTGate_VGG16_Adam.txt!\n",
      "\n"
     ]
    },
    {
     "name": "stderr",
     "output_type": "stream",
     "text": [
      "Epoch 96: 100%|██████████| 391/391 [00:27<00:00, 14.24it/s, Train_acc=99.9, Train_loss=0.022]\n"
     ]
    },
    {
     "name": "stdout",
     "output_type": "stream",
     "text": [
      "Epoch 96: M_Optimizer LR => 0.00010 | Gamma1 LR => 0.00762 | Gamma1: ['2.27853', '2.28010', '2.26896', '2.30111', '2.28154', '2.27135', '2.28401', '2.28228', '2.29952', '2.28214', '2.27557', '2.28302', '2.27853'] | Gamma1 Grad: ['0.00172', '0.00154', '-0.00162', '-0.00188', '0.00312', '-0.00466', '0.00093', '0.00265', '0.00046', '-0.00016', '0.00198', '-0.00045', '-0.00020']\n",
      "📜 Logs saved to C:\\Users\\emeka\\Research\\ModelCUDA\\Big_Data_Journal\\Comparison\\Code\\Paper\\github2\\CIFAR10\\VGG16\\Results\\FFTGate\\FFTGate_training_logs.txt!\n",
      "📊 Train Accuracy: 99.940% | 🏆 Best Train Accuracy: 99.948%\n",
      "📜 Training logs saved to ./Results/CIFAR10_Train_B128_LR0.001_FFTGate_VGG16_Adam.txt!\n",
      "🏆 Best Training Accuracy: 99.948% (Updated)\n"
     ]
    },
    {
     "name": "stderr",
     "output_type": "stream",
     "text": [
      "Testing Epoch 96: 100%|██████████| 79/79 [00:01<00:00, 54.89it/s, Test_acc=93, Test_loss=0.428]  \n"
     ]
    },
    {
     "name": "stdout",
     "output_type": "stream",
     "text": [
      "🏆 Saving best model...\n",
      "Checkpoint saved: ./checkpoint/CIFAR10_B128_LR0_001_FFTGate_VGG16_Adam.t7\n",
      "📊 Test Accuracy: 92.970% | 🏆 Best Test Accuracy: 92.970%\n",
      "📜 Test logs saved to C:\\Users\\emeka\\Research\\ModelCUDA\\Big_Data_Journal\\Comparison\\Code\\Paper\\github2\\CIFAR10\\VGG16\\Results\\CIFAR10_Test_B128_LR0.001_FFTGate_VGG16_Adam.txt!\n",
      "\n"
     ]
    },
    {
     "name": "stderr",
     "output_type": "stream",
     "text": [
      "Epoch 97: 100%|██████████| 391/391 [00:26<00:00, 14.71it/s, Train_acc=99.9, Train_loss=0.022]\n"
     ]
    },
    {
     "name": "stdout",
     "output_type": "stream",
     "text": [
      "Epoch 97: M_Optimizer LR => 0.00010 | Gamma1 LR => 0.00746 | Gamma1: ['2.29279', '2.28032', '2.27853', '2.27566', '2.27943', '2.30041', '2.27455', '2.27082', '2.29081', '2.26875', '2.28892', '2.28773', '2.27451'] | Gamma1 Grad: ['0.00034', '0.00003', '0.00007', '-0.00024', '0.00000', '0.00057', '-0.00010', '-0.00018', '0.00006', '-0.00027', '0.00012', '-0.00025', '-0.00007']\n",
      "📜 Logs saved to C:\\Users\\emeka\\Research\\ModelCUDA\\Big_Data_Journal\\Comparison\\Code\\Paper\\github2\\CIFAR10\\VGG16\\Results\\FFTGate\\FFTGate_training_logs.txt!\n",
      "📊 Train Accuracy: 99.936% | 🏆 Best Train Accuracy: 99.948%\n",
      "📜 Training logs saved to ./Results/CIFAR10_Train_B128_LR0.001_FFTGate_VGG16_Adam.txt!\n",
      "🏆 Best Training Accuracy: 99.948% (Updated)\n"
     ]
    },
    {
     "name": "stderr",
     "output_type": "stream",
     "text": [
      "Testing Epoch 97: 100%|██████████| 79/79 [00:01<00:00, 55.21it/s, Test_acc=92.7, Test_loss=0.427]\n"
     ]
    },
    {
     "name": "stdout",
     "output_type": "stream",
     "text": [
      "📊 Test Accuracy: 92.690% | 🏆 Best Test Accuracy: 92.970%\n",
      "📜 Test logs saved to C:\\Users\\emeka\\Research\\ModelCUDA\\Big_Data_Journal\\Comparison\\Code\\Paper\\github2\\CIFAR10\\VGG16\\Results\\CIFAR10_Test_B128_LR0.001_FFTGate_VGG16_Adam.txt!\n",
      "\n"
     ]
    },
    {
     "name": "stderr",
     "output_type": "stream",
     "text": [
      "Epoch 98: 100%|██████████| 391/391 [00:26<00:00, 14.62it/s, Train_acc=99.9, Train_loss=0.022]\n"
     ]
    },
    {
     "name": "stdout",
     "output_type": "stream",
     "text": [
      "Epoch 98: M_Optimizer LR => 0.00010 | Gamma1 LR => 0.00728 | Gamma1: ['2.27833', '2.27336', '2.26064', '2.28220', '2.27787', '2.27453', '2.27152', '2.28362', '2.28688', '2.27552', '2.27946', '2.27877', '2.27778'] | Gamma1 Grad: ['-0.00020', '-0.00021', '-0.00039', '0.00008', '-0.00004', '-0.00044', '-0.00021', '0.00016', '0.00000', '-0.00005', '-0.00028', '-0.00054', '-0.00001']\n",
      "📜 Logs saved to C:\\Users\\emeka\\Research\\ModelCUDA\\Big_Data_Journal\\Comparison\\Code\\Paper\\github2\\CIFAR10\\VGG16\\Results\\FFTGate\\FFTGate_training_logs.txt!\n",
      "📊 Train Accuracy: 99.936% | 🏆 Best Train Accuracy: 99.948%\n",
      "📜 Training logs saved to ./Results/CIFAR10_Train_B128_LR0.001_FFTGate_VGG16_Adam.txt!\n",
      "🏆 Best Training Accuracy: 99.948% (Updated)\n"
     ]
    },
    {
     "name": "stderr",
     "output_type": "stream",
     "text": [
      "Testing Epoch 98: 100%|██████████| 79/79 [00:01<00:00, 55.43it/s, Test_acc=92.8, Test_loss=0.42] \n"
     ]
    },
    {
     "name": "stdout",
     "output_type": "stream",
     "text": [
      "📊 Test Accuracy: 92.850% | 🏆 Best Test Accuracy: 92.970%\n",
      "📜 Test logs saved to C:\\Users\\emeka\\Research\\ModelCUDA\\Big_Data_Journal\\Comparison\\Code\\Paper\\github2\\CIFAR10\\VGG16\\Results\\CIFAR10_Test_B128_LR0.001_FFTGate_VGG16_Adam.txt!\n",
      "\n"
     ]
    },
    {
     "name": "stderr",
     "output_type": "stream",
     "text": [
      "Epoch 99: 100%|██████████| 391/391 [00:26<00:00, 14.90it/s, Train_acc=99.9, Train_loss=0.022]\n"
     ]
    },
    {
     "name": "stdout",
     "output_type": "stream",
     "text": [
      "Epoch 99: M_Optimizer LR => 0.00010 | Gamma1 LR => 0.00711 | Gamma1: ['2.28013', '2.27533', '2.27799', '2.27627', '2.28548', '2.29631', '2.29200', '2.29091', '2.27912', '2.27862', '2.26184', '2.28905', '2.27682'] | Gamma1 Grad: ['0.00016', '0.00013', '0.00028', '0.00003', '0.00025', '0.00058', '0.00055', '0.00036', '0.00002', '0.00011', '-0.00035', '0.00038', '0.00011']\n",
      "📜 Logs saved to C:\\Users\\emeka\\Research\\ModelCUDA\\Big_Data_Journal\\Comparison\\Code\\Paper\\github2\\CIFAR10\\VGG16\\Results\\FFTGate\\FFTGate_training_logs.txt!\n",
      "📊 Train Accuracy: 99.948% | 🏆 Best Train Accuracy: 99.948%\n",
      "📜 Training logs saved to ./Results/CIFAR10_Train_B128_LR0.001_FFTGate_VGG16_Adam.txt!\n",
      "🏆 Best Training Accuracy: 99.948% (Updated)\n"
     ]
    },
    {
     "name": "stderr",
     "output_type": "stream",
     "text": [
      "Testing Epoch 99: 100%|██████████| 79/79 [00:01<00:00, 55.95it/s, Test_acc=92.9, Test_loss=0.426]\n"
     ]
    },
    {
     "name": "stdout",
     "output_type": "stream",
     "text": [
      "📊 Test Accuracy: 92.910% | 🏆 Best Test Accuracy: 92.970%\n",
      "📜 Test logs saved to C:\\Users\\emeka\\Research\\ModelCUDA\\Big_Data_Journal\\Comparison\\Code\\Paper\\github2\\CIFAR10\\VGG16\\Results\\CIFAR10_Test_B128_LR0.001_FFTGate_VGG16_Adam.txt!\n",
      "\n",
      "Best Test Accuracy:  92.97\n"
     ]
    }
   ],
   "source": [
    "########################################################################################################################\n",
    "####-------| NOTE 11. TRAIN MODEL WITH SHEDULAR | XXX ----------------------------------------------####################\n",
    "########################################################################################################################\n",
    "\n",
    "\n",
    "\n",
    "# ✅ Set Seed for Reproducibility BEFORE training starts\n",
    "\n",
    "# Variable seed for DataLoader shuffling\n",
    "set_seed_torch(1)  \n",
    "\n",
    "# Variable main seed (model, CUDA, etc.)\n",
    "set_seed_main(2)  \n",
    "\n",
    "\n",
    "# ✅ Training Loop\n",
    "num_epochs = 100 # Example: Set the total number of epochs\n",
    "for epoch in range(start_epoch, num_epochs):   # Runs training for 100 epochs\n",
    "\n",
    "    train(epoch, optimizer, activation_optimizers, activation_schedulers, unfreeze_activation_epoch, main_scheduler, WARMUP_ACTIVATION_EPOCHS) # ✅ Pass required arguments\n",
    "\n",
    "    test(epoch)  # ✅ Test the model\n",
    "    tqdm.write(\"\")  # ✅ Clear leftover progress bar from test()\n",
    "\n",
    "\n",
    "print(\"Best Test Accuracy: \", best_acc)"
   ]
  }
 ],
 "metadata": {
  "kernelspec": {
   "display_name": "pytorch_env",
   "language": "python",
   "name": "python3"
  },
  "language_info": {
   "name": "python",
   "version": "3.10.16"
  }
 },
 "nbformat": 4,
 "nbformat_minor": 5
}
